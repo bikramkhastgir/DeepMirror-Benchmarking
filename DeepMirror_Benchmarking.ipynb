{
  "nbformat": 4,
  "nbformat_minor": 0,
  "metadata": {
    "colab": {
      "provenance": []
    },
    "kernelspec": {
      "name": "python3",
      "display_name": "Python 3"
    },
    "language_info": {
      "name": "python"
    },
    "gpuClass": "standard",
    "accelerator": "GPU",
    "widgets": {
      "application/vnd.jupyter.widget-state+json": {
        "b0fca3325a3049dfaa81886111271db0": {
          "model_module": "@jupyter-widgets/controls",
          "model_name": "HBoxModel",
          "model_module_version": "1.5.0",
          "state": {
            "_dom_classes": [],
            "_model_module": "@jupyter-widgets/controls",
            "_model_module_version": "1.5.0",
            "_model_name": "HBoxModel",
            "_view_count": null,
            "_view_module": "@jupyter-widgets/controls",
            "_view_module_version": "1.5.0",
            "_view_name": "HBoxView",
            "box_style": "",
            "children": [
              "IPY_MODEL_a65974c0ec2c42fa96e149a9f9b9f540",
              "IPY_MODEL_754c025b9b7d4b3d9e12517231cdab87",
              "IPY_MODEL_871051b917104fa0a1cc9b4f197dbde3"
            ],
            "layout": "IPY_MODEL_53dc72dfe8414e12a0bba2549eac689a"
          }
        },
        "a65974c0ec2c42fa96e149a9f9b9f540": {
          "model_module": "@jupyter-widgets/controls",
          "model_name": "HTMLModel",
          "model_module_version": "1.5.0",
          "state": {
            "_dom_classes": [],
            "_model_module": "@jupyter-widgets/controls",
            "_model_module_version": "1.5.0",
            "_model_name": "HTMLModel",
            "_view_count": null,
            "_view_module": "@jupyter-widgets/controls",
            "_view_module_version": "1.5.0",
            "_view_name": "HTMLView",
            "description": "",
            "description_tooltip": null,
            "layout": "IPY_MODEL_5e3752cb279841abaa32538c6b55de64",
            "placeholder": "​",
            "style": "IPY_MODEL_338eb05eef704372b39f2c4ab688df97",
            "value": "Epoch [1/10]: [7/7] 100%"
          }
        },
        "754c025b9b7d4b3d9e12517231cdab87": {
          "model_module": "@jupyter-widgets/controls",
          "model_name": "FloatProgressModel",
          "model_module_version": "1.5.0",
          "state": {
            "_dom_classes": [],
            "_model_module": "@jupyter-widgets/controls",
            "_model_module_version": "1.5.0",
            "_model_name": "FloatProgressModel",
            "_view_count": null,
            "_view_module": "@jupyter-widgets/controls",
            "_view_module_version": "1.5.0",
            "_view_name": "ProgressView",
            "bar_style": "success",
            "description": "",
            "description_tooltip": null,
            "layout": "IPY_MODEL_8c401040d3bb44f5ab755509c8e92300",
            "max": 7,
            "min": 0,
            "orientation": "horizontal",
            "style": "IPY_MODEL_8b7d3df9ccb04e77b8025eeaaa11625f",
            "value": 7
          }
        },
        "871051b917104fa0a1cc9b4f197dbde3": {
          "model_module": "@jupyter-widgets/controls",
          "model_name": "HTMLModel",
          "model_module_version": "1.5.0",
          "state": {
            "_dom_classes": [],
            "_model_module": "@jupyter-widgets/controls",
            "_model_module_version": "1.5.0",
            "_model_name": "HTMLModel",
            "_view_count": null,
            "_view_module": "@jupyter-widgets/controls",
            "_view_module_version": "1.5.0",
            "_view_name": "HTMLView",
            "description": "",
            "description_tooltip": null,
            "layout": "IPY_MODEL_08d6dc3483ab4651a7f272332a46af62",
            "placeholder": "​",
            "style": "IPY_MODEL_55ef8f44aea449b4ac1f94ebd2d859ff",
            "value": ", loss=0.82 [00:00&lt;00:00]"
          }
        },
        "53dc72dfe8414e12a0bba2549eac689a": {
          "model_module": "@jupyter-widgets/base",
          "model_name": "LayoutModel",
          "model_module_version": "1.2.0",
          "state": {
            "_model_module": "@jupyter-widgets/base",
            "_model_module_version": "1.2.0",
            "_model_name": "LayoutModel",
            "_view_count": null,
            "_view_module": "@jupyter-widgets/base",
            "_view_module_version": "1.2.0",
            "_view_name": "LayoutView",
            "align_content": null,
            "align_items": null,
            "align_self": null,
            "border": null,
            "bottom": null,
            "display": null,
            "flex": null,
            "flex_flow": null,
            "grid_area": null,
            "grid_auto_columns": null,
            "grid_auto_flow": null,
            "grid_auto_rows": null,
            "grid_column": null,
            "grid_gap": null,
            "grid_row": null,
            "grid_template_areas": null,
            "grid_template_columns": null,
            "grid_template_rows": null,
            "height": null,
            "justify_content": null,
            "justify_items": null,
            "left": null,
            "margin": null,
            "max_height": null,
            "max_width": null,
            "min_height": null,
            "min_width": null,
            "object_fit": null,
            "object_position": null,
            "order": null,
            "overflow": null,
            "overflow_x": null,
            "overflow_y": null,
            "padding": null,
            "right": null,
            "top": null,
            "visibility": null,
            "width": null
          }
        },
        "5e3752cb279841abaa32538c6b55de64": {
          "model_module": "@jupyter-widgets/base",
          "model_name": "LayoutModel",
          "model_module_version": "1.2.0",
          "state": {
            "_model_module": "@jupyter-widgets/base",
            "_model_module_version": "1.2.0",
            "_model_name": "LayoutModel",
            "_view_count": null,
            "_view_module": "@jupyter-widgets/base",
            "_view_module_version": "1.2.0",
            "_view_name": "LayoutView",
            "align_content": null,
            "align_items": null,
            "align_self": null,
            "border": null,
            "bottom": null,
            "display": null,
            "flex": null,
            "flex_flow": null,
            "grid_area": null,
            "grid_auto_columns": null,
            "grid_auto_flow": null,
            "grid_auto_rows": null,
            "grid_column": null,
            "grid_gap": null,
            "grid_row": null,
            "grid_template_areas": null,
            "grid_template_columns": null,
            "grid_template_rows": null,
            "height": null,
            "justify_content": null,
            "justify_items": null,
            "left": null,
            "margin": null,
            "max_height": null,
            "max_width": null,
            "min_height": null,
            "min_width": null,
            "object_fit": null,
            "object_position": null,
            "order": null,
            "overflow": null,
            "overflow_x": null,
            "overflow_y": null,
            "padding": null,
            "right": null,
            "top": null,
            "visibility": null,
            "width": null
          }
        },
        "338eb05eef704372b39f2c4ab688df97": {
          "model_module": "@jupyter-widgets/controls",
          "model_name": "DescriptionStyleModel",
          "model_module_version": "1.5.0",
          "state": {
            "_model_module": "@jupyter-widgets/controls",
            "_model_module_version": "1.5.0",
            "_model_name": "DescriptionStyleModel",
            "_view_count": null,
            "_view_module": "@jupyter-widgets/base",
            "_view_module_version": "1.2.0",
            "_view_name": "StyleView",
            "description_width": ""
          }
        },
        "8c401040d3bb44f5ab755509c8e92300": {
          "model_module": "@jupyter-widgets/base",
          "model_name": "LayoutModel",
          "model_module_version": "1.2.0",
          "state": {
            "_model_module": "@jupyter-widgets/base",
            "_model_module_version": "1.2.0",
            "_model_name": "LayoutModel",
            "_view_count": null,
            "_view_module": "@jupyter-widgets/base",
            "_view_module_version": "1.2.0",
            "_view_name": "LayoutView",
            "align_content": null,
            "align_items": null,
            "align_self": null,
            "border": null,
            "bottom": null,
            "display": null,
            "flex": null,
            "flex_flow": null,
            "grid_area": null,
            "grid_auto_columns": null,
            "grid_auto_flow": null,
            "grid_auto_rows": null,
            "grid_column": null,
            "grid_gap": null,
            "grid_row": null,
            "grid_template_areas": null,
            "grid_template_columns": null,
            "grid_template_rows": null,
            "height": null,
            "justify_content": null,
            "justify_items": null,
            "left": null,
            "margin": null,
            "max_height": null,
            "max_width": null,
            "min_height": null,
            "min_width": null,
            "object_fit": null,
            "object_position": null,
            "order": null,
            "overflow": null,
            "overflow_x": null,
            "overflow_y": null,
            "padding": null,
            "right": null,
            "top": null,
            "visibility": null,
            "width": null
          }
        },
        "8b7d3df9ccb04e77b8025eeaaa11625f": {
          "model_module": "@jupyter-widgets/controls",
          "model_name": "ProgressStyleModel",
          "model_module_version": "1.5.0",
          "state": {
            "_model_module": "@jupyter-widgets/controls",
            "_model_module_version": "1.5.0",
            "_model_name": "ProgressStyleModel",
            "_view_count": null,
            "_view_module": "@jupyter-widgets/base",
            "_view_module_version": "1.2.0",
            "_view_name": "StyleView",
            "bar_color": null,
            "description_width": ""
          }
        },
        "08d6dc3483ab4651a7f272332a46af62": {
          "model_module": "@jupyter-widgets/base",
          "model_name": "LayoutModel",
          "model_module_version": "1.2.0",
          "state": {
            "_model_module": "@jupyter-widgets/base",
            "_model_module_version": "1.2.0",
            "_model_name": "LayoutModel",
            "_view_count": null,
            "_view_module": "@jupyter-widgets/base",
            "_view_module_version": "1.2.0",
            "_view_name": "LayoutView",
            "align_content": null,
            "align_items": null,
            "align_self": null,
            "border": null,
            "bottom": null,
            "display": null,
            "flex": null,
            "flex_flow": null,
            "grid_area": null,
            "grid_auto_columns": null,
            "grid_auto_flow": null,
            "grid_auto_rows": null,
            "grid_column": null,
            "grid_gap": null,
            "grid_row": null,
            "grid_template_areas": null,
            "grid_template_columns": null,
            "grid_template_rows": null,
            "height": null,
            "justify_content": null,
            "justify_items": null,
            "left": null,
            "margin": null,
            "max_height": null,
            "max_width": null,
            "min_height": null,
            "min_width": null,
            "object_fit": null,
            "object_position": null,
            "order": null,
            "overflow": null,
            "overflow_x": null,
            "overflow_y": null,
            "padding": null,
            "right": null,
            "top": null,
            "visibility": null,
            "width": null
          }
        },
        "55ef8f44aea449b4ac1f94ebd2d859ff": {
          "model_module": "@jupyter-widgets/controls",
          "model_name": "DescriptionStyleModel",
          "model_module_version": "1.5.0",
          "state": {
            "_model_module": "@jupyter-widgets/controls",
            "_model_module_version": "1.5.0",
            "_model_name": "DescriptionStyleModel",
            "_view_count": null,
            "_view_module": "@jupyter-widgets/base",
            "_view_module_version": "1.2.0",
            "_view_name": "StyleView",
            "description_width": ""
          }
        },
        "8097a7e16c3b4a07b1bc88cc1033c12b": {
          "model_module": "@jupyter-widgets/controls",
          "model_name": "HBoxModel",
          "model_module_version": "1.5.0",
          "state": {
            "_dom_classes": [],
            "_model_module": "@jupyter-widgets/controls",
            "_model_module_version": "1.5.0",
            "_model_name": "HBoxModel",
            "_view_count": null,
            "_view_module": "@jupyter-widgets/controls",
            "_view_module_version": "1.5.0",
            "_view_name": "HBoxView",
            "box_style": "",
            "children": [
              "IPY_MODEL_8a57b4c9caf944e8b31176b2b8d60bad",
              "IPY_MODEL_a152daf85baa4b0e80788e513ae3e498",
              "IPY_MODEL_ad364daf30484011adb454f800d8158e"
            ],
            "layout": "IPY_MODEL_94e719a2a9484ccd8d75f0aff9581f9d"
          }
        },
        "8a57b4c9caf944e8b31176b2b8d60bad": {
          "model_module": "@jupyter-widgets/controls",
          "model_name": "HTMLModel",
          "model_module_version": "1.5.0",
          "state": {
            "_dom_classes": [],
            "_model_module": "@jupyter-widgets/controls",
            "_model_module_version": "1.5.0",
            "_model_name": "HTMLModel",
            "_view_count": null,
            "_view_module": "@jupyter-widgets/controls",
            "_view_module_version": "1.5.0",
            "_view_name": "HTMLView",
            "description": "",
            "description_tooltip": null,
            "layout": "IPY_MODEL_4dccbf97e334473dbd09a16c4f3d9284",
            "placeholder": "​",
            "style": "IPY_MODEL_66728a197acc4c5eb25cbb1f36e299e5",
            "value": "Epoch [2/10]: [7/7] 100%"
          }
        },
        "a152daf85baa4b0e80788e513ae3e498": {
          "model_module": "@jupyter-widgets/controls",
          "model_name": "FloatProgressModel",
          "model_module_version": "1.5.0",
          "state": {
            "_dom_classes": [],
            "_model_module": "@jupyter-widgets/controls",
            "_model_module_version": "1.5.0",
            "_model_name": "FloatProgressModel",
            "_view_count": null,
            "_view_module": "@jupyter-widgets/controls",
            "_view_module_version": "1.5.0",
            "_view_name": "ProgressView",
            "bar_style": "success",
            "description": "",
            "description_tooltip": null,
            "layout": "IPY_MODEL_f2143d530ee24fabb939b7bfcf5fe424",
            "max": 7,
            "min": 0,
            "orientation": "horizontal",
            "style": "IPY_MODEL_43b26f2981f64bbf884c517ccb5b1751",
            "value": 7
          }
        },
        "ad364daf30484011adb454f800d8158e": {
          "model_module": "@jupyter-widgets/controls",
          "model_name": "HTMLModel",
          "model_module_version": "1.5.0",
          "state": {
            "_dom_classes": [],
            "_model_module": "@jupyter-widgets/controls",
            "_model_module_version": "1.5.0",
            "_model_name": "HTMLModel",
            "_view_count": null,
            "_view_module": "@jupyter-widgets/controls",
            "_view_module_version": "1.5.0",
            "_view_name": "HTMLView",
            "description": "",
            "description_tooltip": null,
            "layout": "IPY_MODEL_5b4856695c654a1d91bedd5df041345c",
            "placeholder": "​",
            "style": "IPY_MODEL_0fa4afef29824dc188af9dddbdff403b",
            "value": ", loss=0.353 [00:00&lt;00:00]"
          }
        },
        "94e719a2a9484ccd8d75f0aff9581f9d": {
          "model_module": "@jupyter-widgets/base",
          "model_name": "LayoutModel",
          "model_module_version": "1.2.0",
          "state": {
            "_model_module": "@jupyter-widgets/base",
            "_model_module_version": "1.2.0",
            "_model_name": "LayoutModel",
            "_view_count": null,
            "_view_module": "@jupyter-widgets/base",
            "_view_module_version": "1.2.0",
            "_view_name": "LayoutView",
            "align_content": null,
            "align_items": null,
            "align_self": null,
            "border": null,
            "bottom": null,
            "display": null,
            "flex": null,
            "flex_flow": null,
            "grid_area": null,
            "grid_auto_columns": null,
            "grid_auto_flow": null,
            "grid_auto_rows": null,
            "grid_column": null,
            "grid_gap": null,
            "grid_row": null,
            "grid_template_areas": null,
            "grid_template_columns": null,
            "grid_template_rows": null,
            "height": null,
            "justify_content": null,
            "justify_items": null,
            "left": null,
            "margin": null,
            "max_height": null,
            "max_width": null,
            "min_height": null,
            "min_width": null,
            "object_fit": null,
            "object_position": null,
            "order": null,
            "overflow": null,
            "overflow_x": null,
            "overflow_y": null,
            "padding": null,
            "right": null,
            "top": null,
            "visibility": null,
            "width": null
          }
        },
        "4dccbf97e334473dbd09a16c4f3d9284": {
          "model_module": "@jupyter-widgets/base",
          "model_name": "LayoutModel",
          "model_module_version": "1.2.0",
          "state": {
            "_model_module": "@jupyter-widgets/base",
            "_model_module_version": "1.2.0",
            "_model_name": "LayoutModel",
            "_view_count": null,
            "_view_module": "@jupyter-widgets/base",
            "_view_module_version": "1.2.0",
            "_view_name": "LayoutView",
            "align_content": null,
            "align_items": null,
            "align_self": null,
            "border": null,
            "bottom": null,
            "display": null,
            "flex": null,
            "flex_flow": null,
            "grid_area": null,
            "grid_auto_columns": null,
            "grid_auto_flow": null,
            "grid_auto_rows": null,
            "grid_column": null,
            "grid_gap": null,
            "grid_row": null,
            "grid_template_areas": null,
            "grid_template_columns": null,
            "grid_template_rows": null,
            "height": null,
            "justify_content": null,
            "justify_items": null,
            "left": null,
            "margin": null,
            "max_height": null,
            "max_width": null,
            "min_height": null,
            "min_width": null,
            "object_fit": null,
            "object_position": null,
            "order": null,
            "overflow": null,
            "overflow_x": null,
            "overflow_y": null,
            "padding": null,
            "right": null,
            "top": null,
            "visibility": null,
            "width": null
          }
        },
        "66728a197acc4c5eb25cbb1f36e299e5": {
          "model_module": "@jupyter-widgets/controls",
          "model_name": "DescriptionStyleModel",
          "model_module_version": "1.5.0",
          "state": {
            "_model_module": "@jupyter-widgets/controls",
            "_model_module_version": "1.5.0",
            "_model_name": "DescriptionStyleModel",
            "_view_count": null,
            "_view_module": "@jupyter-widgets/base",
            "_view_module_version": "1.2.0",
            "_view_name": "StyleView",
            "description_width": ""
          }
        },
        "f2143d530ee24fabb939b7bfcf5fe424": {
          "model_module": "@jupyter-widgets/base",
          "model_name": "LayoutModel",
          "model_module_version": "1.2.0",
          "state": {
            "_model_module": "@jupyter-widgets/base",
            "_model_module_version": "1.2.0",
            "_model_name": "LayoutModel",
            "_view_count": null,
            "_view_module": "@jupyter-widgets/base",
            "_view_module_version": "1.2.0",
            "_view_name": "LayoutView",
            "align_content": null,
            "align_items": null,
            "align_self": null,
            "border": null,
            "bottom": null,
            "display": null,
            "flex": null,
            "flex_flow": null,
            "grid_area": null,
            "grid_auto_columns": null,
            "grid_auto_flow": null,
            "grid_auto_rows": null,
            "grid_column": null,
            "grid_gap": null,
            "grid_row": null,
            "grid_template_areas": null,
            "grid_template_columns": null,
            "grid_template_rows": null,
            "height": null,
            "justify_content": null,
            "justify_items": null,
            "left": null,
            "margin": null,
            "max_height": null,
            "max_width": null,
            "min_height": null,
            "min_width": null,
            "object_fit": null,
            "object_position": null,
            "order": null,
            "overflow": null,
            "overflow_x": null,
            "overflow_y": null,
            "padding": null,
            "right": null,
            "top": null,
            "visibility": null,
            "width": null
          }
        },
        "43b26f2981f64bbf884c517ccb5b1751": {
          "model_module": "@jupyter-widgets/controls",
          "model_name": "ProgressStyleModel",
          "model_module_version": "1.5.0",
          "state": {
            "_model_module": "@jupyter-widgets/controls",
            "_model_module_version": "1.5.0",
            "_model_name": "ProgressStyleModel",
            "_view_count": null,
            "_view_module": "@jupyter-widgets/base",
            "_view_module_version": "1.2.0",
            "_view_name": "StyleView",
            "bar_color": null,
            "description_width": ""
          }
        },
        "5b4856695c654a1d91bedd5df041345c": {
          "model_module": "@jupyter-widgets/base",
          "model_name": "LayoutModel",
          "model_module_version": "1.2.0",
          "state": {
            "_model_module": "@jupyter-widgets/base",
            "_model_module_version": "1.2.0",
            "_model_name": "LayoutModel",
            "_view_count": null,
            "_view_module": "@jupyter-widgets/base",
            "_view_module_version": "1.2.0",
            "_view_name": "LayoutView",
            "align_content": null,
            "align_items": null,
            "align_self": null,
            "border": null,
            "bottom": null,
            "display": null,
            "flex": null,
            "flex_flow": null,
            "grid_area": null,
            "grid_auto_columns": null,
            "grid_auto_flow": null,
            "grid_auto_rows": null,
            "grid_column": null,
            "grid_gap": null,
            "grid_row": null,
            "grid_template_areas": null,
            "grid_template_columns": null,
            "grid_template_rows": null,
            "height": null,
            "justify_content": null,
            "justify_items": null,
            "left": null,
            "margin": null,
            "max_height": null,
            "max_width": null,
            "min_height": null,
            "min_width": null,
            "object_fit": null,
            "object_position": null,
            "order": null,
            "overflow": null,
            "overflow_x": null,
            "overflow_y": null,
            "padding": null,
            "right": null,
            "top": null,
            "visibility": null,
            "width": null
          }
        },
        "0fa4afef29824dc188af9dddbdff403b": {
          "model_module": "@jupyter-widgets/controls",
          "model_name": "DescriptionStyleModel",
          "model_module_version": "1.5.0",
          "state": {
            "_model_module": "@jupyter-widgets/controls",
            "_model_module_version": "1.5.0",
            "_model_name": "DescriptionStyleModel",
            "_view_count": null,
            "_view_module": "@jupyter-widgets/base",
            "_view_module_version": "1.2.0",
            "_view_name": "StyleView",
            "description_width": ""
          }
        },
        "00a6615f373148b3bcc78bc1d388f30f": {
          "model_module": "@jupyter-widgets/controls",
          "model_name": "HBoxModel",
          "model_module_version": "1.5.0",
          "state": {
            "_dom_classes": [],
            "_model_module": "@jupyter-widgets/controls",
            "_model_module_version": "1.5.0",
            "_model_name": "HBoxModel",
            "_view_count": null,
            "_view_module": "@jupyter-widgets/controls",
            "_view_module_version": "1.5.0",
            "_view_name": "HBoxView",
            "box_style": "",
            "children": [
              "IPY_MODEL_4aa9e576272c4742a7eb099cd0dcf036",
              "IPY_MODEL_59b8a1a2508f4642bc70811072fe2e20",
              "IPY_MODEL_88240e24872742bc8e3dd3425420ed89"
            ],
            "layout": "IPY_MODEL_05bc247763cf477aa30227616fec5b90"
          }
        },
        "4aa9e576272c4742a7eb099cd0dcf036": {
          "model_module": "@jupyter-widgets/controls",
          "model_name": "HTMLModel",
          "model_module_version": "1.5.0",
          "state": {
            "_dom_classes": [],
            "_model_module": "@jupyter-widgets/controls",
            "_model_module_version": "1.5.0",
            "_model_name": "HTMLModel",
            "_view_count": null,
            "_view_module": "@jupyter-widgets/controls",
            "_view_module_version": "1.5.0",
            "_view_name": "HTMLView",
            "description": "",
            "description_tooltip": null,
            "layout": "IPY_MODEL_6a19276e8b44439a89093e4d93f28c22",
            "placeholder": "​",
            "style": "IPY_MODEL_cefb85078b734a7b8c2a39253ea506a9",
            "value": "Epoch [3/10]: [7/7] 100%"
          }
        },
        "59b8a1a2508f4642bc70811072fe2e20": {
          "model_module": "@jupyter-widgets/controls",
          "model_name": "FloatProgressModel",
          "model_module_version": "1.5.0",
          "state": {
            "_dom_classes": [],
            "_model_module": "@jupyter-widgets/controls",
            "_model_module_version": "1.5.0",
            "_model_name": "FloatProgressModel",
            "_view_count": null,
            "_view_module": "@jupyter-widgets/controls",
            "_view_module_version": "1.5.0",
            "_view_name": "ProgressView",
            "bar_style": "success",
            "description": "",
            "description_tooltip": null,
            "layout": "IPY_MODEL_1a9e6d7e9d9c4e74a88564b3edff9138",
            "max": 7,
            "min": 0,
            "orientation": "horizontal",
            "style": "IPY_MODEL_b36812d046744ce085cc2e4e15c688a6",
            "value": 7
          }
        },
        "88240e24872742bc8e3dd3425420ed89": {
          "model_module": "@jupyter-widgets/controls",
          "model_name": "HTMLModel",
          "model_module_version": "1.5.0",
          "state": {
            "_dom_classes": [],
            "_model_module": "@jupyter-widgets/controls",
            "_model_module_version": "1.5.0",
            "_model_name": "HTMLModel",
            "_view_count": null,
            "_view_module": "@jupyter-widgets/controls",
            "_view_module_version": "1.5.0",
            "_view_name": "HTMLView",
            "description": "",
            "description_tooltip": null,
            "layout": "IPY_MODEL_60427afc03b947b58c08efef25129ea1",
            "placeholder": "​",
            "style": "IPY_MODEL_20bd5c210e22403599426509aebcae34",
            "value": ", loss=0.232 [00:00&lt;00:00]"
          }
        },
        "05bc247763cf477aa30227616fec5b90": {
          "model_module": "@jupyter-widgets/base",
          "model_name": "LayoutModel",
          "model_module_version": "1.2.0",
          "state": {
            "_model_module": "@jupyter-widgets/base",
            "_model_module_version": "1.2.0",
            "_model_name": "LayoutModel",
            "_view_count": null,
            "_view_module": "@jupyter-widgets/base",
            "_view_module_version": "1.2.0",
            "_view_name": "LayoutView",
            "align_content": null,
            "align_items": null,
            "align_self": null,
            "border": null,
            "bottom": null,
            "display": null,
            "flex": null,
            "flex_flow": null,
            "grid_area": null,
            "grid_auto_columns": null,
            "grid_auto_flow": null,
            "grid_auto_rows": null,
            "grid_column": null,
            "grid_gap": null,
            "grid_row": null,
            "grid_template_areas": null,
            "grid_template_columns": null,
            "grid_template_rows": null,
            "height": null,
            "justify_content": null,
            "justify_items": null,
            "left": null,
            "margin": null,
            "max_height": null,
            "max_width": null,
            "min_height": null,
            "min_width": null,
            "object_fit": null,
            "object_position": null,
            "order": null,
            "overflow": null,
            "overflow_x": null,
            "overflow_y": null,
            "padding": null,
            "right": null,
            "top": null,
            "visibility": null,
            "width": null
          }
        },
        "6a19276e8b44439a89093e4d93f28c22": {
          "model_module": "@jupyter-widgets/base",
          "model_name": "LayoutModel",
          "model_module_version": "1.2.0",
          "state": {
            "_model_module": "@jupyter-widgets/base",
            "_model_module_version": "1.2.0",
            "_model_name": "LayoutModel",
            "_view_count": null,
            "_view_module": "@jupyter-widgets/base",
            "_view_module_version": "1.2.0",
            "_view_name": "LayoutView",
            "align_content": null,
            "align_items": null,
            "align_self": null,
            "border": null,
            "bottom": null,
            "display": null,
            "flex": null,
            "flex_flow": null,
            "grid_area": null,
            "grid_auto_columns": null,
            "grid_auto_flow": null,
            "grid_auto_rows": null,
            "grid_column": null,
            "grid_gap": null,
            "grid_row": null,
            "grid_template_areas": null,
            "grid_template_columns": null,
            "grid_template_rows": null,
            "height": null,
            "justify_content": null,
            "justify_items": null,
            "left": null,
            "margin": null,
            "max_height": null,
            "max_width": null,
            "min_height": null,
            "min_width": null,
            "object_fit": null,
            "object_position": null,
            "order": null,
            "overflow": null,
            "overflow_x": null,
            "overflow_y": null,
            "padding": null,
            "right": null,
            "top": null,
            "visibility": null,
            "width": null
          }
        },
        "cefb85078b734a7b8c2a39253ea506a9": {
          "model_module": "@jupyter-widgets/controls",
          "model_name": "DescriptionStyleModel",
          "model_module_version": "1.5.0",
          "state": {
            "_model_module": "@jupyter-widgets/controls",
            "_model_module_version": "1.5.0",
            "_model_name": "DescriptionStyleModel",
            "_view_count": null,
            "_view_module": "@jupyter-widgets/base",
            "_view_module_version": "1.2.0",
            "_view_name": "StyleView",
            "description_width": ""
          }
        },
        "1a9e6d7e9d9c4e74a88564b3edff9138": {
          "model_module": "@jupyter-widgets/base",
          "model_name": "LayoutModel",
          "model_module_version": "1.2.0",
          "state": {
            "_model_module": "@jupyter-widgets/base",
            "_model_module_version": "1.2.0",
            "_model_name": "LayoutModel",
            "_view_count": null,
            "_view_module": "@jupyter-widgets/base",
            "_view_module_version": "1.2.0",
            "_view_name": "LayoutView",
            "align_content": null,
            "align_items": null,
            "align_self": null,
            "border": null,
            "bottom": null,
            "display": null,
            "flex": null,
            "flex_flow": null,
            "grid_area": null,
            "grid_auto_columns": null,
            "grid_auto_flow": null,
            "grid_auto_rows": null,
            "grid_column": null,
            "grid_gap": null,
            "grid_row": null,
            "grid_template_areas": null,
            "grid_template_columns": null,
            "grid_template_rows": null,
            "height": null,
            "justify_content": null,
            "justify_items": null,
            "left": null,
            "margin": null,
            "max_height": null,
            "max_width": null,
            "min_height": null,
            "min_width": null,
            "object_fit": null,
            "object_position": null,
            "order": null,
            "overflow": null,
            "overflow_x": null,
            "overflow_y": null,
            "padding": null,
            "right": null,
            "top": null,
            "visibility": null,
            "width": null
          }
        },
        "b36812d046744ce085cc2e4e15c688a6": {
          "model_module": "@jupyter-widgets/controls",
          "model_name": "ProgressStyleModel",
          "model_module_version": "1.5.0",
          "state": {
            "_model_module": "@jupyter-widgets/controls",
            "_model_module_version": "1.5.0",
            "_model_name": "ProgressStyleModel",
            "_view_count": null,
            "_view_module": "@jupyter-widgets/base",
            "_view_module_version": "1.2.0",
            "_view_name": "StyleView",
            "bar_color": null,
            "description_width": ""
          }
        },
        "60427afc03b947b58c08efef25129ea1": {
          "model_module": "@jupyter-widgets/base",
          "model_name": "LayoutModel",
          "model_module_version": "1.2.0",
          "state": {
            "_model_module": "@jupyter-widgets/base",
            "_model_module_version": "1.2.0",
            "_model_name": "LayoutModel",
            "_view_count": null,
            "_view_module": "@jupyter-widgets/base",
            "_view_module_version": "1.2.0",
            "_view_name": "LayoutView",
            "align_content": null,
            "align_items": null,
            "align_self": null,
            "border": null,
            "bottom": null,
            "display": null,
            "flex": null,
            "flex_flow": null,
            "grid_area": null,
            "grid_auto_columns": null,
            "grid_auto_flow": null,
            "grid_auto_rows": null,
            "grid_column": null,
            "grid_gap": null,
            "grid_row": null,
            "grid_template_areas": null,
            "grid_template_columns": null,
            "grid_template_rows": null,
            "height": null,
            "justify_content": null,
            "justify_items": null,
            "left": null,
            "margin": null,
            "max_height": null,
            "max_width": null,
            "min_height": null,
            "min_width": null,
            "object_fit": null,
            "object_position": null,
            "order": null,
            "overflow": null,
            "overflow_x": null,
            "overflow_y": null,
            "padding": null,
            "right": null,
            "top": null,
            "visibility": null,
            "width": null
          }
        },
        "20bd5c210e22403599426509aebcae34": {
          "model_module": "@jupyter-widgets/controls",
          "model_name": "DescriptionStyleModel",
          "model_module_version": "1.5.0",
          "state": {
            "_model_module": "@jupyter-widgets/controls",
            "_model_module_version": "1.5.0",
            "_model_name": "DescriptionStyleModel",
            "_view_count": null,
            "_view_module": "@jupyter-widgets/base",
            "_view_module_version": "1.2.0",
            "_view_name": "StyleView",
            "description_width": ""
          }
        },
        "51614f45e5f549cc97c97d88d8871aa7": {
          "model_module": "@jupyter-widgets/controls",
          "model_name": "HBoxModel",
          "model_module_version": "1.5.0",
          "state": {
            "_dom_classes": [],
            "_model_module": "@jupyter-widgets/controls",
            "_model_module_version": "1.5.0",
            "_model_name": "HBoxModel",
            "_view_count": null,
            "_view_module": "@jupyter-widgets/controls",
            "_view_module_version": "1.5.0",
            "_view_name": "HBoxView",
            "box_style": "",
            "children": [
              "IPY_MODEL_8c28fcca974e49389e5c0856aa057336",
              "IPY_MODEL_4aaa9c92d0304f72810c3b9ac4588326",
              "IPY_MODEL_d9df4424e1b94c8188a34d1fb0f3466f"
            ],
            "layout": "IPY_MODEL_c0aa4be53a0143bc900b5979cddb729d"
          }
        },
        "8c28fcca974e49389e5c0856aa057336": {
          "model_module": "@jupyter-widgets/controls",
          "model_name": "HTMLModel",
          "model_module_version": "1.5.0",
          "state": {
            "_dom_classes": [],
            "_model_module": "@jupyter-widgets/controls",
            "_model_module_version": "1.5.0",
            "_model_name": "HTMLModel",
            "_view_count": null,
            "_view_module": "@jupyter-widgets/controls",
            "_view_module_version": "1.5.0",
            "_view_name": "HTMLView",
            "description": "",
            "description_tooltip": null,
            "layout": "IPY_MODEL_35d7b5f4b0e8448f9cf8fc35e10950cc",
            "placeholder": "​",
            "style": "IPY_MODEL_52eb34dd7a9c4f80b0f1c953a901edb3",
            "value": "Epoch [4/10]: [7/7] 100%"
          }
        },
        "4aaa9c92d0304f72810c3b9ac4588326": {
          "model_module": "@jupyter-widgets/controls",
          "model_name": "FloatProgressModel",
          "model_module_version": "1.5.0",
          "state": {
            "_dom_classes": [],
            "_model_module": "@jupyter-widgets/controls",
            "_model_module_version": "1.5.0",
            "_model_name": "FloatProgressModel",
            "_view_count": null,
            "_view_module": "@jupyter-widgets/controls",
            "_view_module_version": "1.5.0",
            "_view_name": "ProgressView",
            "bar_style": "success",
            "description": "",
            "description_tooltip": null,
            "layout": "IPY_MODEL_9e4e8243a07549c18594fd80188940d6",
            "max": 7,
            "min": 0,
            "orientation": "horizontal",
            "style": "IPY_MODEL_b3f156aa386e49ab81d7bf37728f3d2e",
            "value": 7
          }
        },
        "d9df4424e1b94c8188a34d1fb0f3466f": {
          "model_module": "@jupyter-widgets/controls",
          "model_name": "HTMLModel",
          "model_module_version": "1.5.0",
          "state": {
            "_dom_classes": [],
            "_model_module": "@jupyter-widgets/controls",
            "_model_module_version": "1.5.0",
            "_model_name": "HTMLModel",
            "_view_count": null,
            "_view_module": "@jupyter-widgets/controls",
            "_view_module_version": "1.5.0",
            "_view_name": "HTMLView",
            "description": "",
            "description_tooltip": null,
            "layout": "IPY_MODEL_5c2124383b0a4003ac29fd18e61d35e7",
            "placeholder": "​",
            "style": "IPY_MODEL_a98e733fbb384ccc80d481c44a66ae7c",
            "value": ", loss=0.287 [00:01&lt;00:00]"
          }
        },
        "c0aa4be53a0143bc900b5979cddb729d": {
          "model_module": "@jupyter-widgets/base",
          "model_name": "LayoutModel",
          "model_module_version": "1.2.0",
          "state": {
            "_model_module": "@jupyter-widgets/base",
            "_model_module_version": "1.2.0",
            "_model_name": "LayoutModel",
            "_view_count": null,
            "_view_module": "@jupyter-widgets/base",
            "_view_module_version": "1.2.0",
            "_view_name": "LayoutView",
            "align_content": null,
            "align_items": null,
            "align_self": null,
            "border": null,
            "bottom": null,
            "display": null,
            "flex": null,
            "flex_flow": null,
            "grid_area": null,
            "grid_auto_columns": null,
            "grid_auto_flow": null,
            "grid_auto_rows": null,
            "grid_column": null,
            "grid_gap": null,
            "grid_row": null,
            "grid_template_areas": null,
            "grid_template_columns": null,
            "grid_template_rows": null,
            "height": null,
            "justify_content": null,
            "justify_items": null,
            "left": null,
            "margin": null,
            "max_height": null,
            "max_width": null,
            "min_height": null,
            "min_width": null,
            "object_fit": null,
            "object_position": null,
            "order": null,
            "overflow": null,
            "overflow_x": null,
            "overflow_y": null,
            "padding": null,
            "right": null,
            "top": null,
            "visibility": null,
            "width": null
          }
        },
        "35d7b5f4b0e8448f9cf8fc35e10950cc": {
          "model_module": "@jupyter-widgets/base",
          "model_name": "LayoutModel",
          "model_module_version": "1.2.0",
          "state": {
            "_model_module": "@jupyter-widgets/base",
            "_model_module_version": "1.2.0",
            "_model_name": "LayoutModel",
            "_view_count": null,
            "_view_module": "@jupyter-widgets/base",
            "_view_module_version": "1.2.0",
            "_view_name": "LayoutView",
            "align_content": null,
            "align_items": null,
            "align_self": null,
            "border": null,
            "bottom": null,
            "display": null,
            "flex": null,
            "flex_flow": null,
            "grid_area": null,
            "grid_auto_columns": null,
            "grid_auto_flow": null,
            "grid_auto_rows": null,
            "grid_column": null,
            "grid_gap": null,
            "grid_row": null,
            "grid_template_areas": null,
            "grid_template_columns": null,
            "grid_template_rows": null,
            "height": null,
            "justify_content": null,
            "justify_items": null,
            "left": null,
            "margin": null,
            "max_height": null,
            "max_width": null,
            "min_height": null,
            "min_width": null,
            "object_fit": null,
            "object_position": null,
            "order": null,
            "overflow": null,
            "overflow_x": null,
            "overflow_y": null,
            "padding": null,
            "right": null,
            "top": null,
            "visibility": null,
            "width": null
          }
        },
        "52eb34dd7a9c4f80b0f1c953a901edb3": {
          "model_module": "@jupyter-widgets/controls",
          "model_name": "DescriptionStyleModel",
          "model_module_version": "1.5.0",
          "state": {
            "_model_module": "@jupyter-widgets/controls",
            "_model_module_version": "1.5.0",
            "_model_name": "DescriptionStyleModel",
            "_view_count": null,
            "_view_module": "@jupyter-widgets/base",
            "_view_module_version": "1.2.0",
            "_view_name": "StyleView",
            "description_width": ""
          }
        },
        "9e4e8243a07549c18594fd80188940d6": {
          "model_module": "@jupyter-widgets/base",
          "model_name": "LayoutModel",
          "model_module_version": "1.2.0",
          "state": {
            "_model_module": "@jupyter-widgets/base",
            "_model_module_version": "1.2.0",
            "_model_name": "LayoutModel",
            "_view_count": null,
            "_view_module": "@jupyter-widgets/base",
            "_view_module_version": "1.2.0",
            "_view_name": "LayoutView",
            "align_content": null,
            "align_items": null,
            "align_self": null,
            "border": null,
            "bottom": null,
            "display": null,
            "flex": null,
            "flex_flow": null,
            "grid_area": null,
            "grid_auto_columns": null,
            "grid_auto_flow": null,
            "grid_auto_rows": null,
            "grid_column": null,
            "grid_gap": null,
            "grid_row": null,
            "grid_template_areas": null,
            "grid_template_columns": null,
            "grid_template_rows": null,
            "height": null,
            "justify_content": null,
            "justify_items": null,
            "left": null,
            "margin": null,
            "max_height": null,
            "max_width": null,
            "min_height": null,
            "min_width": null,
            "object_fit": null,
            "object_position": null,
            "order": null,
            "overflow": null,
            "overflow_x": null,
            "overflow_y": null,
            "padding": null,
            "right": null,
            "top": null,
            "visibility": null,
            "width": null
          }
        },
        "b3f156aa386e49ab81d7bf37728f3d2e": {
          "model_module": "@jupyter-widgets/controls",
          "model_name": "ProgressStyleModel",
          "model_module_version": "1.5.0",
          "state": {
            "_model_module": "@jupyter-widgets/controls",
            "_model_module_version": "1.5.0",
            "_model_name": "ProgressStyleModel",
            "_view_count": null,
            "_view_module": "@jupyter-widgets/base",
            "_view_module_version": "1.2.0",
            "_view_name": "StyleView",
            "bar_color": null,
            "description_width": ""
          }
        },
        "5c2124383b0a4003ac29fd18e61d35e7": {
          "model_module": "@jupyter-widgets/base",
          "model_name": "LayoutModel",
          "model_module_version": "1.2.0",
          "state": {
            "_model_module": "@jupyter-widgets/base",
            "_model_module_version": "1.2.0",
            "_model_name": "LayoutModel",
            "_view_count": null,
            "_view_module": "@jupyter-widgets/base",
            "_view_module_version": "1.2.0",
            "_view_name": "LayoutView",
            "align_content": null,
            "align_items": null,
            "align_self": null,
            "border": null,
            "bottom": null,
            "display": null,
            "flex": null,
            "flex_flow": null,
            "grid_area": null,
            "grid_auto_columns": null,
            "grid_auto_flow": null,
            "grid_auto_rows": null,
            "grid_column": null,
            "grid_gap": null,
            "grid_row": null,
            "grid_template_areas": null,
            "grid_template_columns": null,
            "grid_template_rows": null,
            "height": null,
            "justify_content": null,
            "justify_items": null,
            "left": null,
            "margin": null,
            "max_height": null,
            "max_width": null,
            "min_height": null,
            "min_width": null,
            "object_fit": null,
            "object_position": null,
            "order": null,
            "overflow": null,
            "overflow_x": null,
            "overflow_y": null,
            "padding": null,
            "right": null,
            "top": null,
            "visibility": null,
            "width": null
          }
        },
        "a98e733fbb384ccc80d481c44a66ae7c": {
          "model_module": "@jupyter-widgets/controls",
          "model_name": "DescriptionStyleModel",
          "model_module_version": "1.5.0",
          "state": {
            "_model_module": "@jupyter-widgets/controls",
            "_model_module_version": "1.5.0",
            "_model_name": "DescriptionStyleModel",
            "_view_count": null,
            "_view_module": "@jupyter-widgets/base",
            "_view_module_version": "1.2.0",
            "_view_name": "StyleView",
            "description_width": ""
          }
        },
        "18f31f037faa449eabfb581fc9b366dd": {
          "model_module": "@jupyter-widgets/controls",
          "model_name": "HBoxModel",
          "model_module_version": "1.5.0",
          "state": {
            "_dom_classes": [],
            "_model_module": "@jupyter-widgets/controls",
            "_model_module_version": "1.5.0",
            "_model_name": "HBoxModel",
            "_view_count": null,
            "_view_module": "@jupyter-widgets/controls",
            "_view_module_version": "1.5.0",
            "_view_name": "HBoxView",
            "box_style": "",
            "children": [
              "IPY_MODEL_8cac3b331be349debe4b8b90e775b377",
              "IPY_MODEL_be76fa2b83314d45b011ad9d331aff94",
              "IPY_MODEL_4556ded29d8a4357b88e7738fdfd441c"
            ],
            "layout": "IPY_MODEL_31d3fc8a1eca4a83a50ccdf45d3ef82c"
          }
        },
        "8cac3b331be349debe4b8b90e775b377": {
          "model_module": "@jupyter-widgets/controls",
          "model_name": "HTMLModel",
          "model_module_version": "1.5.0",
          "state": {
            "_dom_classes": [],
            "_model_module": "@jupyter-widgets/controls",
            "_model_module_version": "1.5.0",
            "_model_name": "HTMLModel",
            "_view_count": null,
            "_view_module": "@jupyter-widgets/controls",
            "_view_module_version": "1.5.0",
            "_view_name": "HTMLView",
            "description": "",
            "description_tooltip": null,
            "layout": "IPY_MODEL_d504b8922e9041ac9a99bab7d8e440c6",
            "placeholder": "​",
            "style": "IPY_MODEL_92199d1825714aec837329aa4e8aefd8",
            "value": "Epoch [5/10]: [7/7] 100%"
          }
        },
        "be76fa2b83314d45b011ad9d331aff94": {
          "model_module": "@jupyter-widgets/controls",
          "model_name": "FloatProgressModel",
          "model_module_version": "1.5.0",
          "state": {
            "_dom_classes": [],
            "_model_module": "@jupyter-widgets/controls",
            "_model_module_version": "1.5.0",
            "_model_name": "FloatProgressModel",
            "_view_count": null,
            "_view_module": "@jupyter-widgets/controls",
            "_view_module_version": "1.5.0",
            "_view_name": "ProgressView",
            "bar_style": "success",
            "description": "",
            "description_tooltip": null,
            "layout": "IPY_MODEL_6b4ce7944d654ed6a5dbbbcb03ae0c9d",
            "max": 7,
            "min": 0,
            "orientation": "horizontal",
            "style": "IPY_MODEL_0087e5effc7942cc811ee923104599e3",
            "value": 7
          }
        },
        "4556ded29d8a4357b88e7738fdfd441c": {
          "model_module": "@jupyter-widgets/controls",
          "model_name": "HTMLModel",
          "model_module_version": "1.5.0",
          "state": {
            "_dom_classes": [],
            "_model_module": "@jupyter-widgets/controls",
            "_model_module_version": "1.5.0",
            "_model_name": "HTMLModel",
            "_view_count": null,
            "_view_module": "@jupyter-widgets/controls",
            "_view_module_version": "1.5.0",
            "_view_name": "HTMLView",
            "description": "",
            "description_tooltip": null,
            "layout": "IPY_MODEL_0c011c7e374a497c912df1f6c256eb1c",
            "placeholder": "​",
            "style": "IPY_MODEL_5e253de870a54efebbca34cea6e2236a",
            "value": ", loss=0.228 [00:01&lt;00:00]"
          }
        },
        "31d3fc8a1eca4a83a50ccdf45d3ef82c": {
          "model_module": "@jupyter-widgets/base",
          "model_name": "LayoutModel",
          "model_module_version": "1.2.0",
          "state": {
            "_model_module": "@jupyter-widgets/base",
            "_model_module_version": "1.2.0",
            "_model_name": "LayoutModel",
            "_view_count": null,
            "_view_module": "@jupyter-widgets/base",
            "_view_module_version": "1.2.0",
            "_view_name": "LayoutView",
            "align_content": null,
            "align_items": null,
            "align_self": null,
            "border": null,
            "bottom": null,
            "display": null,
            "flex": null,
            "flex_flow": null,
            "grid_area": null,
            "grid_auto_columns": null,
            "grid_auto_flow": null,
            "grid_auto_rows": null,
            "grid_column": null,
            "grid_gap": null,
            "grid_row": null,
            "grid_template_areas": null,
            "grid_template_columns": null,
            "grid_template_rows": null,
            "height": null,
            "justify_content": null,
            "justify_items": null,
            "left": null,
            "margin": null,
            "max_height": null,
            "max_width": null,
            "min_height": null,
            "min_width": null,
            "object_fit": null,
            "object_position": null,
            "order": null,
            "overflow": null,
            "overflow_x": null,
            "overflow_y": null,
            "padding": null,
            "right": null,
            "top": null,
            "visibility": null,
            "width": null
          }
        },
        "d504b8922e9041ac9a99bab7d8e440c6": {
          "model_module": "@jupyter-widgets/base",
          "model_name": "LayoutModel",
          "model_module_version": "1.2.0",
          "state": {
            "_model_module": "@jupyter-widgets/base",
            "_model_module_version": "1.2.0",
            "_model_name": "LayoutModel",
            "_view_count": null,
            "_view_module": "@jupyter-widgets/base",
            "_view_module_version": "1.2.0",
            "_view_name": "LayoutView",
            "align_content": null,
            "align_items": null,
            "align_self": null,
            "border": null,
            "bottom": null,
            "display": null,
            "flex": null,
            "flex_flow": null,
            "grid_area": null,
            "grid_auto_columns": null,
            "grid_auto_flow": null,
            "grid_auto_rows": null,
            "grid_column": null,
            "grid_gap": null,
            "grid_row": null,
            "grid_template_areas": null,
            "grid_template_columns": null,
            "grid_template_rows": null,
            "height": null,
            "justify_content": null,
            "justify_items": null,
            "left": null,
            "margin": null,
            "max_height": null,
            "max_width": null,
            "min_height": null,
            "min_width": null,
            "object_fit": null,
            "object_position": null,
            "order": null,
            "overflow": null,
            "overflow_x": null,
            "overflow_y": null,
            "padding": null,
            "right": null,
            "top": null,
            "visibility": null,
            "width": null
          }
        },
        "92199d1825714aec837329aa4e8aefd8": {
          "model_module": "@jupyter-widgets/controls",
          "model_name": "DescriptionStyleModel",
          "model_module_version": "1.5.0",
          "state": {
            "_model_module": "@jupyter-widgets/controls",
            "_model_module_version": "1.5.0",
            "_model_name": "DescriptionStyleModel",
            "_view_count": null,
            "_view_module": "@jupyter-widgets/base",
            "_view_module_version": "1.2.0",
            "_view_name": "StyleView",
            "description_width": ""
          }
        },
        "6b4ce7944d654ed6a5dbbbcb03ae0c9d": {
          "model_module": "@jupyter-widgets/base",
          "model_name": "LayoutModel",
          "model_module_version": "1.2.0",
          "state": {
            "_model_module": "@jupyter-widgets/base",
            "_model_module_version": "1.2.0",
            "_model_name": "LayoutModel",
            "_view_count": null,
            "_view_module": "@jupyter-widgets/base",
            "_view_module_version": "1.2.0",
            "_view_name": "LayoutView",
            "align_content": null,
            "align_items": null,
            "align_self": null,
            "border": null,
            "bottom": null,
            "display": null,
            "flex": null,
            "flex_flow": null,
            "grid_area": null,
            "grid_auto_columns": null,
            "grid_auto_flow": null,
            "grid_auto_rows": null,
            "grid_column": null,
            "grid_gap": null,
            "grid_row": null,
            "grid_template_areas": null,
            "grid_template_columns": null,
            "grid_template_rows": null,
            "height": null,
            "justify_content": null,
            "justify_items": null,
            "left": null,
            "margin": null,
            "max_height": null,
            "max_width": null,
            "min_height": null,
            "min_width": null,
            "object_fit": null,
            "object_position": null,
            "order": null,
            "overflow": null,
            "overflow_x": null,
            "overflow_y": null,
            "padding": null,
            "right": null,
            "top": null,
            "visibility": null,
            "width": null
          }
        },
        "0087e5effc7942cc811ee923104599e3": {
          "model_module": "@jupyter-widgets/controls",
          "model_name": "ProgressStyleModel",
          "model_module_version": "1.5.0",
          "state": {
            "_model_module": "@jupyter-widgets/controls",
            "_model_module_version": "1.5.0",
            "_model_name": "ProgressStyleModel",
            "_view_count": null,
            "_view_module": "@jupyter-widgets/base",
            "_view_module_version": "1.2.0",
            "_view_name": "StyleView",
            "bar_color": null,
            "description_width": ""
          }
        },
        "0c011c7e374a497c912df1f6c256eb1c": {
          "model_module": "@jupyter-widgets/base",
          "model_name": "LayoutModel",
          "model_module_version": "1.2.0",
          "state": {
            "_model_module": "@jupyter-widgets/base",
            "_model_module_version": "1.2.0",
            "_model_name": "LayoutModel",
            "_view_count": null,
            "_view_module": "@jupyter-widgets/base",
            "_view_module_version": "1.2.0",
            "_view_name": "LayoutView",
            "align_content": null,
            "align_items": null,
            "align_self": null,
            "border": null,
            "bottom": null,
            "display": null,
            "flex": null,
            "flex_flow": null,
            "grid_area": null,
            "grid_auto_columns": null,
            "grid_auto_flow": null,
            "grid_auto_rows": null,
            "grid_column": null,
            "grid_gap": null,
            "grid_row": null,
            "grid_template_areas": null,
            "grid_template_columns": null,
            "grid_template_rows": null,
            "height": null,
            "justify_content": null,
            "justify_items": null,
            "left": null,
            "margin": null,
            "max_height": null,
            "max_width": null,
            "min_height": null,
            "min_width": null,
            "object_fit": null,
            "object_position": null,
            "order": null,
            "overflow": null,
            "overflow_x": null,
            "overflow_y": null,
            "padding": null,
            "right": null,
            "top": null,
            "visibility": null,
            "width": null
          }
        },
        "5e253de870a54efebbca34cea6e2236a": {
          "model_module": "@jupyter-widgets/controls",
          "model_name": "DescriptionStyleModel",
          "model_module_version": "1.5.0",
          "state": {
            "_model_module": "@jupyter-widgets/controls",
            "_model_module_version": "1.5.0",
            "_model_name": "DescriptionStyleModel",
            "_view_count": null,
            "_view_module": "@jupyter-widgets/base",
            "_view_module_version": "1.2.0",
            "_view_name": "StyleView",
            "description_width": ""
          }
        },
        "943d71591ea1467ab89dd7c86f3269f0": {
          "model_module": "@jupyter-widgets/controls",
          "model_name": "HBoxModel",
          "model_module_version": "1.5.0",
          "state": {
            "_dom_classes": [],
            "_model_module": "@jupyter-widgets/controls",
            "_model_module_version": "1.5.0",
            "_model_name": "HBoxModel",
            "_view_count": null,
            "_view_module": "@jupyter-widgets/controls",
            "_view_module_version": "1.5.0",
            "_view_name": "HBoxView",
            "box_style": "",
            "children": [
              "IPY_MODEL_ab910a65f5d84120aa58440c26e98aa5",
              "IPY_MODEL_c5a3442e836742928195e9feae2f30b0",
              "IPY_MODEL_325cde494ffe4d1cb8fabe133f0b3ab1"
            ],
            "layout": "IPY_MODEL_c41c7f80152443398d0d5dc7300367ad"
          }
        },
        "ab910a65f5d84120aa58440c26e98aa5": {
          "model_module": "@jupyter-widgets/controls",
          "model_name": "HTMLModel",
          "model_module_version": "1.5.0",
          "state": {
            "_dom_classes": [],
            "_model_module": "@jupyter-widgets/controls",
            "_model_module_version": "1.5.0",
            "_model_name": "HTMLModel",
            "_view_count": null,
            "_view_module": "@jupyter-widgets/controls",
            "_view_module_version": "1.5.0",
            "_view_name": "HTMLView",
            "description": "",
            "description_tooltip": null,
            "layout": "IPY_MODEL_22f4c6ffb8e64f2f8875d5c7d74262b3",
            "placeholder": "​",
            "style": "IPY_MODEL_d3b91e184f4848c4a80d9c76ae47e5d9",
            "value": "Epoch [6/10]: [7/7] 100%"
          }
        },
        "c5a3442e836742928195e9feae2f30b0": {
          "model_module": "@jupyter-widgets/controls",
          "model_name": "FloatProgressModel",
          "model_module_version": "1.5.0",
          "state": {
            "_dom_classes": [],
            "_model_module": "@jupyter-widgets/controls",
            "_model_module_version": "1.5.0",
            "_model_name": "FloatProgressModel",
            "_view_count": null,
            "_view_module": "@jupyter-widgets/controls",
            "_view_module_version": "1.5.0",
            "_view_name": "ProgressView",
            "bar_style": "success",
            "description": "",
            "description_tooltip": null,
            "layout": "IPY_MODEL_a220210c7f1449c2bba0ca43e9e97c94",
            "max": 7,
            "min": 0,
            "orientation": "horizontal",
            "style": "IPY_MODEL_8183256591404667a077f81364ba65f3",
            "value": 7
          }
        },
        "325cde494ffe4d1cb8fabe133f0b3ab1": {
          "model_module": "@jupyter-widgets/controls",
          "model_name": "HTMLModel",
          "model_module_version": "1.5.0",
          "state": {
            "_dom_classes": [],
            "_model_module": "@jupyter-widgets/controls",
            "_model_module_version": "1.5.0",
            "_model_name": "HTMLModel",
            "_view_count": null,
            "_view_module": "@jupyter-widgets/controls",
            "_view_module_version": "1.5.0",
            "_view_name": "HTMLView",
            "description": "",
            "description_tooltip": null,
            "layout": "IPY_MODEL_760c8ff4f59740cd8bb896b3f5bf12c1",
            "placeholder": "​",
            "style": "IPY_MODEL_4f2c60ec14694adaa24331d61d5c899a",
            "value": ", loss=0.284 [00:00&lt;00:00]"
          }
        },
        "c41c7f80152443398d0d5dc7300367ad": {
          "model_module": "@jupyter-widgets/base",
          "model_name": "LayoutModel",
          "model_module_version": "1.2.0",
          "state": {
            "_model_module": "@jupyter-widgets/base",
            "_model_module_version": "1.2.0",
            "_model_name": "LayoutModel",
            "_view_count": null,
            "_view_module": "@jupyter-widgets/base",
            "_view_module_version": "1.2.0",
            "_view_name": "LayoutView",
            "align_content": null,
            "align_items": null,
            "align_self": null,
            "border": null,
            "bottom": null,
            "display": null,
            "flex": null,
            "flex_flow": null,
            "grid_area": null,
            "grid_auto_columns": null,
            "grid_auto_flow": null,
            "grid_auto_rows": null,
            "grid_column": null,
            "grid_gap": null,
            "grid_row": null,
            "grid_template_areas": null,
            "grid_template_columns": null,
            "grid_template_rows": null,
            "height": null,
            "justify_content": null,
            "justify_items": null,
            "left": null,
            "margin": null,
            "max_height": null,
            "max_width": null,
            "min_height": null,
            "min_width": null,
            "object_fit": null,
            "object_position": null,
            "order": null,
            "overflow": null,
            "overflow_x": null,
            "overflow_y": null,
            "padding": null,
            "right": null,
            "top": null,
            "visibility": null,
            "width": null
          }
        },
        "22f4c6ffb8e64f2f8875d5c7d74262b3": {
          "model_module": "@jupyter-widgets/base",
          "model_name": "LayoutModel",
          "model_module_version": "1.2.0",
          "state": {
            "_model_module": "@jupyter-widgets/base",
            "_model_module_version": "1.2.0",
            "_model_name": "LayoutModel",
            "_view_count": null,
            "_view_module": "@jupyter-widgets/base",
            "_view_module_version": "1.2.0",
            "_view_name": "LayoutView",
            "align_content": null,
            "align_items": null,
            "align_self": null,
            "border": null,
            "bottom": null,
            "display": null,
            "flex": null,
            "flex_flow": null,
            "grid_area": null,
            "grid_auto_columns": null,
            "grid_auto_flow": null,
            "grid_auto_rows": null,
            "grid_column": null,
            "grid_gap": null,
            "grid_row": null,
            "grid_template_areas": null,
            "grid_template_columns": null,
            "grid_template_rows": null,
            "height": null,
            "justify_content": null,
            "justify_items": null,
            "left": null,
            "margin": null,
            "max_height": null,
            "max_width": null,
            "min_height": null,
            "min_width": null,
            "object_fit": null,
            "object_position": null,
            "order": null,
            "overflow": null,
            "overflow_x": null,
            "overflow_y": null,
            "padding": null,
            "right": null,
            "top": null,
            "visibility": null,
            "width": null
          }
        },
        "d3b91e184f4848c4a80d9c76ae47e5d9": {
          "model_module": "@jupyter-widgets/controls",
          "model_name": "DescriptionStyleModel",
          "model_module_version": "1.5.0",
          "state": {
            "_model_module": "@jupyter-widgets/controls",
            "_model_module_version": "1.5.0",
            "_model_name": "DescriptionStyleModel",
            "_view_count": null,
            "_view_module": "@jupyter-widgets/base",
            "_view_module_version": "1.2.0",
            "_view_name": "StyleView",
            "description_width": ""
          }
        },
        "a220210c7f1449c2bba0ca43e9e97c94": {
          "model_module": "@jupyter-widgets/base",
          "model_name": "LayoutModel",
          "model_module_version": "1.2.0",
          "state": {
            "_model_module": "@jupyter-widgets/base",
            "_model_module_version": "1.2.0",
            "_model_name": "LayoutModel",
            "_view_count": null,
            "_view_module": "@jupyter-widgets/base",
            "_view_module_version": "1.2.0",
            "_view_name": "LayoutView",
            "align_content": null,
            "align_items": null,
            "align_self": null,
            "border": null,
            "bottom": null,
            "display": null,
            "flex": null,
            "flex_flow": null,
            "grid_area": null,
            "grid_auto_columns": null,
            "grid_auto_flow": null,
            "grid_auto_rows": null,
            "grid_column": null,
            "grid_gap": null,
            "grid_row": null,
            "grid_template_areas": null,
            "grid_template_columns": null,
            "grid_template_rows": null,
            "height": null,
            "justify_content": null,
            "justify_items": null,
            "left": null,
            "margin": null,
            "max_height": null,
            "max_width": null,
            "min_height": null,
            "min_width": null,
            "object_fit": null,
            "object_position": null,
            "order": null,
            "overflow": null,
            "overflow_x": null,
            "overflow_y": null,
            "padding": null,
            "right": null,
            "top": null,
            "visibility": null,
            "width": null
          }
        },
        "8183256591404667a077f81364ba65f3": {
          "model_module": "@jupyter-widgets/controls",
          "model_name": "ProgressStyleModel",
          "model_module_version": "1.5.0",
          "state": {
            "_model_module": "@jupyter-widgets/controls",
            "_model_module_version": "1.5.0",
            "_model_name": "ProgressStyleModel",
            "_view_count": null,
            "_view_module": "@jupyter-widgets/base",
            "_view_module_version": "1.2.0",
            "_view_name": "StyleView",
            "bar_color": null,
            "description_width": ""
          }
        },
        "760c8ff4f59740cd8bb896b3f5bf12c1": {
          "model_module": "@jupyter-widgets/base",
          "model_name": "LayoutModel",
          "model_module_version": "1.2.0",
          "state": {
            "_model_module": "@jupyter-widgets/base",
            "_model_module_version": "1.2.0",
            "_model_name": "LayoutModel",
            "_view_count": null,
            "_view_module": "@jupyter-widgets/base",
            "_view_module_version": "1.2.0",
            "_view_name": "LayoutView",
            "align_content": null,
            "align_items": null,
            "align_self": null,
            "border": null,
            "bottom": null,
            "display": null,
            "flex": null,
            "flex_flow": null,
            "grid_area": null,
            "grid_auto_columns": null,
            "grid_auto_flow": null,
            "grid_auto_rows": null,
            "grid_column": null,
            "grid_gap": null,
            "grid_row": null,
            "grid_template_areas": null,
            "grid_template_columns": null,
            "grid_template_rows": null,
            "height": null,
            "justify_content": null,
            "justify_items": null,
            "left": null,
            "margin": null,
            "max_height": null,
            "max_width": null,
            "min_height": null,
            "min_width": null,
            "object_fit": null,
            "object_position": null,
            "order": null,
            "overflow": null,
            "overflow_x": null,
            "overflow_y": null,
            "padding": null,
            "right": null,
            "top": null,
            "visibility": null,
            "width": null
          }
        },
        "4f2c60ec14694adaa24331d61d5c899a": {
          "model_module": "@jupyter-widgets/controls",
          "model_name": "DescriptionStyleModel",
          "model_module_version": "1.5.0",
          "state": {
            "_model_module": "@jupyter-widgets/controls",
            "_model_module_version": "1.5.0",
            "_model_name": "DescriptionStyleModel",
            "_view_count": null,
            "_view_module": "@jupyter-widgets/base",
            "_view_module_version": "1.2.0",
            "_view_name": "StyleView",
            "description_width": ""
          }
        },
        "320a869b06624a718c6f3b24fad23d21": {
          "model_module": "@jupyter-widgets/controls",
          "model_name": "HBoxModel",
          "model_module_version": "1.5.0",
          "state": {
            "_dom_classes": [],
            "_model_module": "@jupyter-widgets/controls",
            "_model_module_version": "1.5.0",
            "_model_name": "HBoxModel",
            "_view_count": null,
            "_view_module": "@jupyter-widgets/controls",
            "_view_module_version": "1.5.0",
            "_view_name": "HBoxView",
            "box_style": "",
            "children": [
              "IPY_MODEL_b471d97ca5bf459d9e66f8ee965c7b97",
              "IPY_MODEL_b340096ad8094c3fa020e2b72374b0b4",
              "IPY_MODEL_d8f94b293a8f403198dc795bf6ab14de"
            ],
            "layout": "IPY_MODEL_3009c093c9184429bc2f2210d7814aec"
          }
        },
        "b471d97ca5bf459d9e66f8ee965c7b97": {
          "model_module": "@jupyter-widgets/controls",
          "model_name": "HTMLModel",
          "model_module_version": "1.5.0",
          "state": {
            "_dom_classes": [],
            "_model_module": "@jupyter-widgets/controls",
            "_model_module_version": "1.5.0",
            "_model_name": "HTMLModel",
            "_view_count": null,
            "_view_module": "@jupyter-widgets/controls",
            "_view_module_version": "1.5.0",
            "_view_name": "HTMLView",
            "description": "",
            "description_tooltip": null,
            "layout": "IPY_MODEL_4eaffe911cf546179ff6de28a93c915a",
            "placeholder": "​",
            "style": "IPY_MODEL_fb7e1cf8f1b34106957ef8625a1d725c",
            "value": "Epoch [7/10]: [7/7] 100%"
          }
        },
        "b340096ad8094c3fa020e2b72374b0b4": {
          "model_module": "@jupyter-widgets/controls",
          "model_name": "FloatProgressModel",
          "model_module_version": "1.5.0",
          "state": {
            "_dom_classes": [],
            "_model_module": "@jupyter-widgets/controls",
            "_model_module_version": "1.5.0",
            "_model_name": "FloatProgressModel",
            "_view_count": null,
            "_view_module": "@jupyter-widgets/controls",
            "_view_module_version": "1.5.0",
            "_view_name": "ProgressView",
            "bar_style": "success",
            "description": "",
            "description_tooltip": null,
            "layout": "IPY_MODEL_60370b4b11dd4b989a246ced3c44907e",
            "max": 7,
            "min": 0,
            "orientation": "horizontal",
            "style": "IPY_MODEL_f4d1749e5c03437cb31221d2e03d57cb",
            "value": 7
          }
        },
        "d8f94b293a8f403198dc795bf6ab14de": {
          "model_module": "@jupyter-widgets/controls",
          "model_name": "HTMLModel",
          "model_module_version": "1.5.0",
          "state": {
            "_dom_classes": [],
            "_model_module": "@jupyter-widgets/controls",
            "_model_module_version": "1.5.0",
            "_model_name": "HTMLModel",
            "_view_count": null,
            "_view_module": "@jupyter-widgets/controls",
            "_view_module_version": "1.5.0",
            "_view_name": "HTMLView",
            "description": "",
            "description_tooltip": null,
            "layout": "IPY_MODEL_0eacbb2c0565407897dea37f7a4c0ca0",
            "placeholder": "​",
            "style": "IPY_MODEL_c6dedb38a5eb4c318ba8b4f1b5fcda4e",
            "value": ", loss=0.25 [00:00&lt;00:00]"
          }
        },
        "3009c093c9184429bc2f2210d7814aec": {
          "model_module": "@jupyter-widgets/base",
          "model_name": "LayoutModel",
          "model_module_version": "1.2.0",
          "state": {
            "_model_module": "@jupyter-widgets/base",
            "_model_module_version": "1.2.0",
            "_model_name": "LayoutModel",
            "_view_count": null,
            "_view_module": "@jupyter-widgets/base",
            "_view_module_version": "1.2.0",
            "_view_name": "LayoutView",
            "align_content": null,
            "align_items": null,
            "align_self": null,
            "border": null,
            "bottom": null,
            "display": null,
            "flex": null,
            "flex_flow": null,
            "grid_area": null,
            "grid_auto_columns": null,
            "grid_auto_flow": null,
            "grid_auto_rows": null,
            "grid_column": null,
            "grid_gap": null,
            "grid_row": null,
            "grid_template_areas": null,
            "grid_template_columns": null,
            "grid_template_rows": null,
            "height": null,
            "justify_content": null,
            "justify_items": null,
            "left": null,
            "margin": null,
            "max_height": null,
            "max_width": null,
            "min_height": null,
            "min_width": null,
            "object_fit": null,
            "object_position": null,
            "order": null,
            "overflow": null,
            "overflow_x": null,
            "overflow_y": null,
            "padding": null,
            "right": null,
            "top": null,
            "visibility": null,
            "width": null
          }
        },
        "4eaffe911cf546179ff6de28a93c915a": {
          "model_module": "@jupyter-widgets/base",
          "model_name": "LayoutModel",
          "model_module_version": "1.2.0",
          "state": {
            "_model_module": "@jupyter-widgets/base",
            "_model_module_version": "1.2.0",
            "_model_name": "LayoutModel",
            "_view_count": null,
            "_view_module": "@jupyter-widgets/base",
            "_view_module_version": "1.2.0",
            "_view_name": "LayoutView",
            "align_content": null,
            "align_items": null,
            "align_self": null,
            "border": null,
            "bottom": null,
            "display": null,
            "flex": null,
            "flex_flow": null,
            "grid_area": null,
            "grid_auto_columns": null,
            "grid_auto_flow": null,
            "grid_auto_rows": null,
            "grid_column": null,
            "grid_gap": null,
            "grid_row": null,
            "grid_template_areas": null,
            "grid_template_columns": null,
            "grid_template_rows": null,
            "height": null,
            "justify_content": null,
            "justify_items": null,
            "left": null,
            "margin": null,
            "max_height": null,
            "max_width": null,
            "min_height": null,
            "min_width": null,
            "object_fit": null,
            "object_position": null,
            "order": null,
            "overflow": null,
            "overflow_x": null,
            "overflow_y": null,
            "padding": null,
            "right": null,
            "top": null,
            "visibility": null,
            "width": null
          }
        },
        "fb7e1cf8f1b34106957ef8625a1d725c": {
          "model_module": "@jupyter-widgets/controls",
          "model_name": "DescriptionStyleModel",
          "model_module_version": "1.5.0",
          "state": {
            "_model_module": "@jupyter-widgets/controls",
            "_model_module_version": "1.5.0",
            "_model_name": "DescriptionStyleModel",
            "_view_count": null,
            "_view_module": "@jupyter-widgets/base",
            "_view_module_version": "1.2.0",
            "_view_name": "StyleView",
            "description_width": ""
          }
        },
        "60370b4b11dd4b989a246ced3c44907e": {
          "model_module": "@jupyter-widgets/base",
          "model_name": "LayoutModel",
          "model_module_version": "1.2.0",
          "state": {
            "_model_module": "@jupyter-widgets/base",
            "_model_module_version": "1.2.0",
            "_model_name": "LayoutModel",
            "_view_count": null,
            "_view_module": "@jupyter-widgets/base",
            "_view_module_version": "1.2.0",
            "_view_name": "LayoutView",
            "align_content": null,
            "align_items": null,
            "align_self": null,
            "border": null,
            "bottom": null,
            "display": null,
            "flex": null,
            "flex_flow": null,
            "grid_area": null,
            "grid_auto_columns": null,
            "grid_auto_flow": null,
            "grid_auto_rows": null,
            "grid_column": null,
            "grid_gap": null,
            "grid_row": null,
            "grid_template_areas": null,
            "grid_template_columns": null,
            "grid_template_rows": null,
            "height": null,
            "justify_content": null,
            "justify_items": null,
            "left": null,
            "margin": null,
            "max_height": null,
            "max_width": null,
            "min_height": null,
            "min_width": null,
            "object_fit": null,
            "object_position": null,
            "order": null,
            "overflow": null,
            "overflow_x": null,
            "overflow_y": null,
            "padding": null,
            "right": null,
            "top": null,
            "visibility": null,
            "width": null
          }
        },
        "f4d1749e5c03437cb31221d2e03d57cb": {
          "model_module": "@jupyter-widgets/controls",
          "model_name": "ProgressStyleModel",
          "model_module_version": "1.5.0",
          "state": {
            "_model_module": "@jupyter-widgets/controls",
            "_model_module_version": "1.5.0",
            "_model_name": "ProgressStyleModel",
            "_view_count": null,
            "_view_module": "@jupyter-widgets/base",
            "_view_module_version": "1.2.0",
            "_view_name": "StyleView",
            "bar_color": null,
            "description_width": ""
          }
        },
        "0eacbb2c0565407897dea37f7a4c0ca0": {
          "model_module": "@jupyter-widgets/base",
          "model_name": "LayoutModel",
          "model_module_version": "1.2.0",
          "state": {
            "_model_module": "@jupyter-widgets/base",
            "_model_module_version": "1.2.0",
            "_model_name": "LayoutModel",
            "_view_count": null,
            "_view_module": "@jupyter-widgets/base",
            "_view_module_version": "1.2.0",
            "_view_name": "LayoutView",
            "align_content": null,
            "align_items": null,
            "align_self": null,
            "border": null,
            "bottom": null,
            "display": null,
            "flex": null,
            "flex_flow": null,
            "grid_area": null,
            "grid_auto_columns": null,
            "grid_auto_flow": null,
            "grid_auto_rows": null,
            "grid_column": null,
            "grid_gap": null,
            "grid_row": null,
            "grid_template_areas": null,
            "grid_template_columns": null,
            "grid_template_rows": null,
            "height": null,
            "justify_content": null,
            "justify_items": null,
            "left": null,
            "margin": null,
            "max_height": null,
            "max_width": null,
            "min_height": null,
            "min_width": null,
            "object_fit": null,
            "object_position": null,
            "order": null,
            "overflow": null,
            "overflow_x": null,
            "overflow_y": null,
            "padding": null,
            "right": null,
            "top": null,
            "visibility": null,
            "width": null
          }
        },
        "c6dedb38a5eb4c318ba8b4f1b5fcda4e": {
          "model_module": "@jupyter-widgets/controls",
          "model_name": "DescriptionStyleModel",
          "model_module_version": "1.5.0",
          "state": {
            "_model_module": "@jupyter-widgets/controls",
            "_model_module_version": "1.5.0",
            "_model_name": "DescriptionStyleModel",
            "_view_count": null,
            "_view_module": "@jupyter-widgets/base",
            "_view_module_version": "1.2.0",
            "_view_name": "StyleView",
            "description_width": ""
          }
        },
        "76d1e5f23326499083621f0d4a6d3ac9": {
          "model_module": "@jupyter-widgets/controls",
          "model_name": "HBoxModel",
          "model_module_version": "1.5.0",
          "state": {
            "_dom_classes": [],
            "_model_module": "@jupyter-widgets/controls",
            "_model_module_version": "1.5.0",
            "_model_name": "HBoxModel",
            "_view_count": null,
            "_view_module": "@jupyter-widgets/controls",
            "_view_module_version": "1.5.0",
            "_view_name": "HBoxView",
            "box_style": "",
            "children": [
              "IPY_MODEL_314bfff761b24e0e9d6ceeba936263fa",
              "IPY_MODEL_fb568aa21855411aa5669129a593f1b4",
              "IPY_MODEL_39d2571017ef4715b53ed1852cd7730d"
            ],
            "layout": "IPY_MODEL_ca1c48fc52294cd8b4a288bb6a7045b8"
          }
        },
        "314bfff761b24e0e9d6ceeba936263fa": {
          "model_module": "@jupyter-widgets/controls",
          "model_name": "HTMLModel",
          "model_module_version": "1.5.0",
          "state": {
            "_dom_classes": [],
            "_model_module": "@jupyter-widgets/controls",
            "_model_module_version": "1.5.0",
            "_model_name": "HTMLModel",
            "_view_count": null,
            "_view_module": "@jupyter-widgets/controls",
            "_view_module_version": "1.5.0",
            "_view_name": "HTMLView",
            "description": "",
            "description_tooltip": null,
            "layout": "IPY_MODEL_0b9b7c7ab0414a2da9f98ac1728772ca",
            "placeholder": "​",
            "style": "IPY_MODEL_350595480fff4343b4cb53287b7c9be0",
            "value": "Epoch [8/10]: [7/7] 100%"
          }
        },
        "fb568aa21855411aa5669129a593f1b4": {
          "model_module": "@jupyter-widgets/controls",
          "model_name": "FloatProgressModel",
          "model_module_version": "1.5.0",
          "state": {
            "_dom_classes": [],
            "_model_module": "@jupyter-widgets/controls",
            "_model_module_version": "1.5.0",
            "_model_name": "FloatProgressModel",
            "_view_count": null,
            "_view_module": "@jupyter-widgets/controls",
            "_view_module_version": "1.5.0",
            "_view_name": "ProgressView",
            "bar_style": "success",
            "description": "",
            "description_tooltip": null,
            "layout": "IPY_MODEL_ca2444c7ed07478db3fc8baeb34e99a1",
            "max": 7,
            "min": 0,
            "orientation": "horizontal",
            "style": "IPY_MODEL_a9fd85b339694f28bc4cb0056c9fbbbf",
            "value": 7
          }
        },
        "39d2571017ef4715b53ed1852cd7730d": {
          "model_module": "@jupyter-widgets/controls",
          "model_name": "HTMLModel",
          "model_module_version": "1.5.0",
          "state": {
            "_dom_classes": [],
            "_model_module": "@jupyter-widgets/controls",
            "_model_module_version": "1.5.0",
            "_model_name": "HTMLModel",
            "_view_count": null,
            "_view_module": "@jupyter-widgets/controls",
            "_view_module_version": "1.5.0",
            "_view_name": "HTMLView",
            "description": "",
            "description_tooltip": null,
            "layout": "IPY_MODEL_29f3cd90a65b4897b57ba2e9a662f602",
            "placeholder": "​",
            "style": "IPY_MODEL_73987a5dcc0f416693b7f8cd908689d7",
            "value": ", loss=0.296 [00:00&lt;00:00]"
          }
        },
        "ca1c48fc52294cd8b4a288bb6a7045b8": {
          "model_module": "@jupyter-widgets/base",
          "model_name": "LayoutModel",
          "model_module_version": "1.2.0",
          "state": {
            "_model_module": "@jupyter-widgets/base",
            "_model_module_version": "1.2.0",
            "_model_name": "LayoutModel",
            "_view_count": null,
            "_view_module": "@jupyter-widgets/base",
            "_view_module_version": "1.2.0",
            "_view_name": "LayoutView",
            "align_content": null,
            "align_items": null,
            "align_self": null,
            "border": null,
            "bottom": null,
            "display": null,
            "flex": null,
            "flex_flow": null,
            "grid_area": null,
            "grid_auto_columns": null,
            "grid_auto_flow": null,
            "grid_auto_rows": null,
            "grid_column": null,
            "grid_gap": null,
            "grid_row": null,
            "grid_template_areas": null,
            "grid_template_columns": null,
            "grid_template_rows": null,
            "height": null,
            "justify_content": null,
            "justify_items": null,
            "left": null,
            "margin": null,
            "max_height": null,
            "max_width": null,
            "min_height": null,
            "min_width": null,
            "object_fit": null,
            "object_position": null,
            "order": null,
            "overflow": null,
            "overflow_x": null,
            "overflow_y": null,
            "padding": null,
            "right": null,
            "top": null,
            "visibility": null,
            "width": null
          }
        },
        "0b9b7c7ab0414a2da9f98ac1728772ca": {
          "model_module": "@jupyter-widgets/base",
          "model_name": "LayoutModel",
          "model_module_version": "1.2.0",
          "state": {
            "_model_module": "@jupyter-widgets/base",
            "_model_module_version": "1.2.0",
            "_model_name": "LayoutModel",
            "_view_count": null,
            "_view_module": "@jupyter-widgets/base",
            "_view_module_version": "1.2.0",
            "_view_name": "LayoutView",
            "align_content": null,
            "align_items": null,
            "align_self": null,
            "border": null,
            "bottom": null,
            "display": null,
            "flex": null,
            "flex_flow": null,
            "grid_area": null,
            "grid_auto_columns": null,
            "grid_auto_flow": null,
            "grid_auto_rows": null,
            "grid_column": null,
            "grid_gap": null,
            "grid_row": null,
            "grid_template_areas": null,
            "grid_template_columns": null,
            "grid_template_rows": null,
            "height": null,
            "justify_content": null,
            "justify_items": null,
            "left": null,
            "margin": null,
            "max_height": null,
            "max_width": null,
            "min_height": null,
            "min_width": null,
            "object_fit": null,
            "object_position": null,
            "order": null,
            "overflow": null,
            "overflow_x": null,
            "overflow_y": null,
            "padding": null,
            "right": null,
            "top": null,
            "visibility": null,
            "width": null
          }
        },
        "350595480fff4343b4cb53287b7c9be0": {
          "model_module": "@jupyter-widgets/controls",
          "model_name": "DescriptionStyleModel",
          "model_module_version": "1.5.0",
          "state": {
            "_model_module": "@jupyter-widgets/controls",
            "_model_module_version": "1.5.0",
            "_model_name": "DescriptionStyleModel",
            "_view_count": null,
            "_view_module": "@jupyter-widgets/base",
            "_view_module_version": "1.2.0",
            "_view_name": "StyleView",
            "description_width": ""
          }
        },
        "ca2444c7ed07478db3fc8baeb34e99a1": {
          "model_module": "@jupyter-widgets/base",
          "model_name": "LayoutModel",
          "model_module_version": "1.2.0",
          "state": {
            "_model_module": "@jupyter-widgets/base",
            "_model_module_version": "1.2.0",
            "_model_name": "LayoutModel",
            "_view_count": null,
            "_view_module": "@jupyter-widgets/base",
            "_view_module_version": "1.2.0",
            "_view_name": "LayoutView",
            "align_content": null,
            "align_items": null,
            "align_self": null,
            "border": null,
            "bottom": null,
            "display": null,
            "flex": null,
            "flex_flow": null,
            "grid_area": null,
            "grid_auto_columns": null,
            "grid_auto_flow": null,
            "grid_auto_rows": null,
            "grid_column": null,
            "grid_gap": null,
            "grid_row": null,
            "grid_template_areas": null,
            "grid_template_columns": null,
            "grid_template_rows": null,
            "height": null,
            "justify_content": null,
            "justify_items": null,
            "left": null,
            "margin": null,
            "max_height": null,
            "max_width": null,
            "min_height": null,
            "min_width": null,
            "object_fit": null,
            "object_position": null,
            "order": null,
            "overflow": null,
            "overflow_x": null,
            "overflow_y": null,
            "padding": null,
            "right": null,
            "top": null,
            "visibility": null,
            "width": null
          }
        },
        "a9fd85b339694f28bc4cb0056c9fbbbf": {
          "model_module": "@jupyter-widgets/controls",
          "model_name": "ProgressStyleModel",
          "model_module_version": "1.5.0",
          "state": {
            "_model_module": "@jupyter-widgets/controls",
            "_model_module_version": "1.5.0",
            "_model_name": "ProgressStyleModel",
            "_view_count": null,
            "_view_module": "@jupyter-widgets/base",
            "_view_module_version": "1.2.0",
            "_view_name": "StyleView",
            "bar_color": null,
            "description_width": ""
          }
        },
        "29f3cd90a65b4897b57ba2e9a662f602": {
          "model_module": "@jupyter-widgets/base",
          "model_name": "LayoutModel",
          "model_module_version": "1.2.0",
          "state": {
            "_model_module": "@jupyter-widgets/base",
            "_model_module_version": "1.2.0",
            "_model_name": "LayoutModel",
            "_view_count": null,
            "_view_module": "@jupyter-widgets/base",
            "_view_module_version": "1.2.0",
            "_view_name": "LayoutView",
            "align_content": null,
            "align_items": null,
            "align_self": null,
            "border": null,
            "bottom": null,
            "display": null,
            "flex": null,
            "flex_flow": null,
            "grid_area": null,
            "grid_auto_columns": null,
            "grid_auto_flow": null,
            "grid_auto_rows": null,
            "grid_column": null,
            "grid_gap": null,
            "grid_row": null,
            "grid_template_areas": null,
            "grid_template_columns": null,
            "grid_template_rows": null,
            "height": null,
            "justify_content": null,
            "justify_items": null,
            "left": null,
            "margin": null,
            "max_height": null,
            "max_width": null,
            "min_height": null,
            "min_width": null,
            "object_fit": null,
            "object_position": null,
            "order": null,
            "overflow": null,
            "overflow_x": null,
            "overflow_y": null,
            "padding": null,
            "right": null,
            "top": null,
            "visibility": null,
            "width": null
          }
        },
        "73987a5dcc0f416693b7f8cd908689d7": {
          "model_module": "@jupyter-widgets/controls",
          "model_name": "DescriptionStyleModel",
          "model_module_version": "1.5.0",
          "state": {
            "_model_module": "@jupyter-widgets/controls",
            "_model_module_version": "1.5.0",
            "_model_name": "DescriptionStyleModel",
            "_view_count": null,
            "_view_module": "@jupyter-widgets/base",
            "_view_module_version": "1.2.0",
            "_view_name": "StyleView",
            "description_width": ""
          }
        },
        "7b7f2eacbc74424d93938ac2e1812537": {
          "model_module": "@jupyter-widgets/controls",
          "model_name": "HBoxModel",
          "model_module_version": "1.5.0",
          "state": {
            "_dom_classes": [],
            "_model_module": "@jupyter-widgets/controls",
            "_model_module_version": "1.5.0",
            "_model_name": "HBoxModel",
            "_view_count": null,
            "_view_module": "@jupyter-widgets/controls",
            "_view_module_version": "1.5.0",
            "_view_name": "HBoxView",
            "box_style": "",
            "children": [
              "IPY_MODEL_9434af86317e4a4ab758ac66bf5b2e19",
              "IPY_MODEL_f8942b7fdfc24720afa195e9ae033de4",
              "IPY_MODEL_f116486fe6f042f4ba4060f3dc674afd"
            ],
            "layout": "IPY_MODEL_f4cfacd87bd643e9ad571fc1bfd4451b"
          }
        },
        "9434af86317e4a4ab758ac66bf5b2e19": {
          "model_module": "@jupyter-widgets/controls",
          "model_name": "HTMLModel",
          "model_module_version": "1.5.0",
          "state": {
            "_dom_classes": [],
            "_model_module": "@jupyter-widgets/controls",
            "_model_module_version": "1.5.0",
            "_model_name": "HTMLModel",
            "_view_count": null,
            "_view_module": "@jupyter-widgets/controls",
            "_view_module_version": "1.5.0",
            "_view_name": "HTMLView",
            "description": "",
            "description_tooltip": null,
            "layout": "IPY_MODEL_c65571a37bef4e8488ba8c8619a7b2e2",
            "placeholder": "​",
            "style": "IPY_MODEL_fa1f0b52642b4381ba41d324bd76dfd7",
            "value": "Epoch [9/10]: [7/7] 100%"
          }
        },
        "f8942b7fdfc24720afa195e9ae033de4": {
          "model_module": "@jupyter-widgets/controls",
          "model_name": "FloatProgressModel",
          "model_module_version": "1.5.0",
          "state": {
            "_dom_classes": [],
            "_model_module": "@jupyter-widgets/controls",
            "_model_module_version": "1.5.0",
            "_model_name": "FloatProgressModel",
            "_view_count": null,
            "_view_module": "@jupyter-widgets/controls",
            "_view_module_version": "1.5.0",
            "_view_name": "ProgressView",
            "bar_style": "success",
            "description": "",
            "description_tooltip": null,
            "layout": "IPY_MODEL_413c0e821bb54a7bb2fbb20285f95beb",
            "max": 7,
            "min": 0,
            "orientation": "horizontal",
            "style": "IPY_MODEL_7f0a3f77a4cc4046b8b2c4251e261a38",
            "value": 7
          }
        },
        "f116486fe6f042f4ba4060f3dc674afd": {
          "model_module": "@jupyter-widgets/controls",
          "model_name": "HTMLModel",
          "model_module_version": "1.5.0",
          "state": {
            "_dom_classes": [],
            "_model_module": "@jupyter-widgets/controls",
            "_model_module_version": "1.5.0",
            "_model_name": "HTMLModel",
            "_view_count": null,
            "_view_module": "@jupyter-widgets/controls",
            "_view_module_version": "1.5.0",
            "_view_name": "HTMLView",
            "description": "",
            "description_tooltip": null,
            "layout": "IPY_MODEL_3489a006cb7240d1a5023b1e50226ebf",
            "placeholder": "​",
            "style": "IPY_MODEL_368386734d4c4868b7dd3ba63894b5fc",
            "value": ", loss=0.274 [00:00&lt;00:00]"
          }
        },
        "f4cfacd87bd643e9ad571fc1bfd4451b": {
          "model_module": "@jupyter-widgets/base",
          "model_name": "LayoutModel",
          "model_module_version": "1.2.0",
          "state": {
            "_model_module": "@jupyter-widgets/base",
            "_model_module_version": "1.2.0",
            "_model_name": "LayoutModel",
            "_view_count": null,
            "_view_module": "@jupyter-widgets/base",
            "_view_module_version": "1.2.0",
            "_view_name": "LayoutView",
            "align_content": null,
            "align_items": null,
            "align_self": null,
            "border": null,
            "bottom": null,
            "display": null,
            "flex": null,
            "flex_flow": null,
            "grid_area": null,
            "grid_auto_columns": null,
            "grid_auto_flow": null,
            "grid_auto_rows": null,
            "grid_column": null,
            "grid_gap": null,
            "grid_row": null,
            "grid_template_areas": null,
            "grid_template_columns": null,
            "grid_template_rows": null,
            "height": null,
            "justify_content": null,
            "justify_items": null,
            "left": null,
            "margin": null,
            "max_height": null,
            "max_width": null,
            "min_height": null,
            "min_width": null,
            "object_fit": null,
            "object_position": null,
            "order": null,
            "overflow": null,
            "overflow_x": null,
            "overflow_y": null,
            "padding": null,
            "right": null,
            "top": null,
            "visibility": null,
            "width": null
          }
        },
        "c65571a37bef4e8488ba8c8619a7b2e2": {
          "model_module": "@jupyter-widgets/base",
          "model_name": "LayoutModel",
          "model_module_version": "1.2.0",
          "state": {
            "_model_module": "@jupyter-widgets/base",
            "_model_module_version": "1.2.0",
            "_model_name": "LayoutModel",
            "_view_count": null,
            "_view_module": "@jupyter-widgets/base",
            "_view_module_version": "1.2.0",
            "_view_name": "LayoutView",
            "align_content": null,
            "align_items": null,
            "align_self": null,
            "border": null,
            "bottom": null,
            "display": null,
            "flex": null,
            "flex_flow": null,
            "grid_area": null,
            "grid_auto_columns": null,
            "grid_auto_flow": null,
            "grid_auto_rows": null,
            "grid_column": null,
            "grid_gap": null,
            "grid_row": null,
            "grid_template_areas": null,
            "grid_template_columns": null,
            "grid_template_rows": null,
            "height": null,
            "justify_content": null,
            "justify_items": null,
            "left": null,
            "margin": null,
            "max_height": null,
            "max_width": null,
            "min_height": null,
            "min_width": null,
            "object_fit": null,
            "object_position": null,
            "order": null,
            "overflow": null,
            "overflow_x": null,
            "overflow_y": null,
            "padding": null,
            "right": null,
            "top": null,
            "visibility": null,
            "width": null
          }
        },
        "fa1f0b52642b4381ba41d324bd76dfd7": {
          "model_module": "@jupyter-widgets/controls",
          "model_name": "DescriptionStyleModel",
          "model_module_version": "1.5.0",
          "state": {
            "_model_module": "@jupyter-widgets/controls",
            "_model_module_version": "1.5.0",
            "_model_name": "DescriptionStyleModel",
            "_view_count": null,
            "_view_module": "@jupyter-widgets/base",
            "_view_module_version": "1.2.0",
            "_view_name": "StyleView",
            "description_width": ""
          }
        },
        "413c0e821bb54a7bb2fbb20285f95beb": {
          "model_module": "@jupyter-widgets/base",
          "model_name": "LayoutModel",
          "model_module_version": "1.2.0",
          "state": {
            "_model_module": "@jupyter-widgets/base",
            "_model_module_version": "1.2.0",
            "_model_name": "LayoutModel",
            "_view_count": null,
            "_view_module": "@jupyter-widgets/base",
            "_view_module_version": "1.2.0",
            "_view_name": "LayoutView",
            "align_content": null,
            "align_items": null,
            "align_self": null,
            "border": null,
            "bottom": null,
            "display": null,
            "flex": null,
            "flex_flow": null,
            "grid_area": null,
            "grid_auto_columns": null,
            "grid_auto_flow": null,
            "grid_auto_rows": null,
            "grid_column": null,
            "grid_gap": null,
            "grid_row": null,
            "grid_template_areas": null,
            "grid_template_columns": null,
            "grid_template_rows": null,
            "height": null,
            "justify_content": null,
            "justify_items": null,
            "left": null,
            "margin": null,
            "max_height": null,
            "max_width": null,
            "min_height": null,
            "min_width": null,
            "object_fit": null,
            "object_position": null,
            "order": null,
            "overflow": null,
            "overflow_x": null,
            "overflow_y": null,
            "padding": null,
            "right": null,
            "top": null,
            "visibility": null,
            "width": null
          }
        },
        "7f0a3f77a4cc4046b8b2c4251e261a38": {
          "model_module": "@jupyter-widgets/controls",
          "model_name": "ProgressStyleModel",
          "model_module_version": "1.5.0",
          "state": {
            "_model_module": "@jupyter-widgets/controls",
            "_model_module_version": "1.5.0",
            "_model_name": "ProgressStyleModel",
            "_view_count": null,
            "_view_module": "@jupyter-widgets/base",
            "_view_module_version": "1.2.0",
            "_view_name": "StyleView",
            "bar_color": null,
            "description_width": ""
          }
        },
        "3489a006cb7240d1a5023b1e50226ebf": {
          "model_module": "@jupyter-widgets/base",
          "model_name": "LayoutModel",
          "model_module_version": "1.2.0",
          "state": {
            "_model_module": "@jupyter-widgets/base",
            "_model_module_version": "1.2.0",
            "_model_name": "LayoutModel",
            "_view_count": null,
            "_view_module": "@jupyter-widgets/base",
            "_view_module_version": "1.2.0",
            "_view_name": "LayoutView",
            "align_content": null,
            "align_items": null,
            "align_self": null,
            "border": null,
            "bottom": null,
            "display": null,
            "flex": null,
            "flex_flow": null,
            "grid_area": null,
            "grid_auto_columns": null,
            "grid_auto_flow": null,
            "grid_auto_rows": null,
            "grid_column": null,
            "grid_gap": null,
            "grid_row": null,
            "grid_template_areas": null,
            "grid_template_columns": null,
            "grid_template_rows": null,
            "height": null,
            "justify_content": null,
            "justify_items": null,
            "left": null,
            "margin": null,
            "max_height": null,
            "max_width": null,
            "min_height": null,
            "min_width": null,
            "object_fit": null,
            "object_position": null,
            "order": null,
            "overflow": null,
            "overflow_x": null,
            "overflow_y": null,
            "padding": null,
            "right": null,
            "top": null,
            "visibility": null,
            "width": null
          }
        },
        "368386734d4c4868b7dd3ba63894b5fc": {
          "model_module": "@jupyter-widgets/controls",
          "model_name": "DescriptionStyleModel",
          "model_module_version": "1.5.0",
          "state": {
            "_model_module": "@jupyter-widgets/controls",
            "_model_module_version": "1.5.0",
            "_model_name": "DescriptionStyleModel",
            "_view_count": null,
            "_view_module": "@jupyter-widgets/base",
            "_view_module_version": "1.2.0",
            "_view_name": "StyleView",
            "description_width": ""
          }
        },
        "20cdffb2b8da4650ae2854f45949d331": {
          "model_module": "@jupyter-widgets/controls",
          "model_name": "HBoxModel",
          "model_module_version": "1.5.0",
          "state": {
            "_dom_classes": [],
            "_model_module": "@jupyter-widgets/controls",
            "_model_module_version": "1.5.0",
            "_model_name": "HBoxModel",
            "_view_count": null,
            "_view_module": "@jupyter-widgets/controls",
            "_view_module_version": "1.5.0",
            "_view_name": "HBoxView",
            "box_style": "",
            "children": [
              "IPY_MODEL_14ec34fcf98d47448aaad052dad89bea",
              "IPY_MODEL_0e9cd443adef4e459a4ad6ff57497ae8",
              "IPY_MODEL_94ec2976231f406393ab5af49195df78"
            ],
            "layout": "IPY_MODEL_9cd968e649c54592a670fb9741af8a6e"
          }
        },
        "14ec34fcf98d47448aaad052dad89bea": {
          "model_module": "@jupyter-widgets/controls",
          "model_name": "HTMLModel",
          "model_module_version": "1.5.0",
          "state": {
            "_dom_classes": [],
            "_model_module": "@jupyter-widgets/controls",
            "_model_module_version": "1.5.0",
            "_model_name": "HTMLModel",
            "_view_count": null,
            "_view_module": "@jupyter-widgets/controls",
            "_view_module_version": "1.5.0",
            "_view_name": "HTMLView",
            "description": "",
            "description_tooltip": null,
            "layout": "IPY_MODEL_129ef6834fb7402287cb65777cfb6035",
            "placeholder": "​",
            "style": "IPY_MODEL_a66517bdb07e4a938aa62bef0b0b205c",
            "value": "Epoch [10/10]: [7/7] 100%"
          }
        },
        "0e9cd443adef4e459a4ad6ff57497ae8": {
          "model_module": "@jupyter-widgets/controls",
          "model_name": "FloatProgressModel",
          "model_module_version": "1.5.0",
          "state": {
            "_dom_classes": [],
            "_model_module": "@jupyter-widgets/controls",
            "_model_module_version": "1.5.0",
            "_model_name": "FloatProgressModel",
            "_view_count": null,
            "_view_module": "@jupyter-widgets/controls",
            "_view_module_version": "1.5.0",
            "_view_name": "ProgressView",
            "bar_style": "success",
            "description": "",
            "description_tooltip": null,
            "layout": "IPY_MODEL_0cc5314287744df596cdca3b8b1595c0",
            "max": 7,
            "min": 0,
            "orientation": "horizontal",
            "style": "IPY_MODEL_8983eb856f1d4c2b99fc1d2fe02413be",
            "value": 7
          }
        },
        "94ec2976231f406393ab5af49195df78": {
          "model_module": "@jupyter-widgets/controls",
          "model_name": "HTMLModel",
          "model_module_version": "1.5.0",
          "state": {
            "_dom_classes": [],
            "_model_module": "@jupyter-widgets/controls",
            "_model_module_version": "1.5.0",
            "_model_name": "HTMLModel",
            "_view_count": null,
            "_view_module": "@jupyter-widgets/controls",
            "_view_module_version": "1.5.0",
            "_view_name": "HTMLView",
            "description": "",
            "description_tooltip": null,
            "layout": "IPY_MODEL_3d18341b85594a949765776d17069485",
            "placeholder": "​",
            "style": "IPY_MODEL_54914572a6df488fa25497e467fae310",
            "value": ", loss=0.274 [00:00&lt;00:00]"
          }
        },
        "9cd968e649c54592a670fb9741af8a6e": {
          "model_module": "@jupyter-widgets/base",
          "model_name": "LayoutModel",
          "model_module_version": "1.2.0",
          "state": {
            "_model_module": "@jupyter-widgets/base",
            "_model_module_version": "1.2.0",
            "_model_name": "LayoutModel",
            "_view_count": null,
            "_view_module": "@jupyter-widgets/base",
            "_view_module_version": "1.2.0",
            "_view_name": "LayoutView",
            "align_content": null,
            "align_items": null,
            "align_self": null,
            "border": null,
            "bottom": null,
            "display": null,
            "flex": null,
            "flex_flow": null,
            "grid_area": null,
            "grid_auto_columns": null,
            "grid_auto_flow": null,
            "grid_auto_rows": null,
            "grid_column": null,
            "grid_gap": null,
            "grid_row": null,
            "grid_template_areas": null,
            "grid_template_columns": null,
            "grid_template_rows": null,
            "height": null,
            "justify_content": null,
            "justify_items": null,
            "left": null,
            "margin": null,
            "max_height": null,
            "max_width": null,
            "min_height": null,
            "min_width": null,
            "object_fit": null,
            "object_position": null,
            "order": null,
            "overflow": null,
            "overflow_x": null,
            "overflow_y": null,
            "padding": null,
            "right": null,
            "top": null,
            "visibility": null,
            "width": null
          }
        },
        "129ef6834fb7402287cb65777cfb6035": {
          "model_module": "@jupyter-widgets/base",
          "model_name": "LayoutModel",
          "model_module_version": "1.2.0",
          "state": {
            "_model_module": "@jupyter-widgets/base",
            "_model_module_version": "1.2.0",
            "_model_name": "LayoutModel",
            "_view_count": null,
            "_view_module": "@jupyter-widgets/base",
            "_view_module_version": "1.2.0",
            "_view_name": "LayoutView",
            "align_content": null,
            "align_items": null,
            "align_self": null,
            "border": null,
            "bottom": null,
            "display": null,
            "flex": null,
            "flex_flow": null,
            "grid_area": null,
            "grid_auto_columns": null,
            "grid_auto_flow": null,
            "grid_auto_rows": null,
            "grid_column": null,
            "grid_gap": null,
            "grid_row": null,
            "grid_template_areas": null,
            "grid_template_columns": null,
            "grid_template_rows": null,
            "height": null,
            "justify_content": null,
            "justify_items": null,
            "left": null,
            "margin": null,
            "max_height": null,
            "max_width": null,
            "min_height": null,
            "min_width": null,
            "object_fit": null,
            "object_position": null,
            "order": null,
            "overflow": null,
            "overflow_x": null,
            "overflow_y": null,
            "padding": null,
            "right": null,
            "top": null,
            "visibility": null,
            "width": null
          }
        },
        "a66517bdb07e4a938aa62bef0b0b205c": {
          "model_module": "@jupyter-widgets/controls",
          "model_name": "DescriptionStyleModel",
          "model_module_version": "1.5.0",
          "state": {
            "_model_module": "@jupyter-widgets/controls",
            "_model_module_version": "1.5.0",
            "_model_name": "DescriptionStyleModel",
            "_view_count": null,
            "_view_module": "@jupyter-widgets/base",
            "_view_module_version": "1.2.0",
            "_view_name": "StyleView",
            "description_width": ""
          }
        },
        "0cc5314287744df596cdca3b8b1595c0": {
          "model_module": "@jupyter-widgets/base",
          "model_name": "LayoutModel",
          "model_module_version": "1.2.0",
          "state": {
            "_model_module": "@jupyter-widgets/base",
            "_model_module_version": "1.2.0",
            "_model_name": "LayoutModel",
            "_view_count": null,
            "_view_module": "@jupyter-widgets/base",
            "_view_module_version": "1.2.0",
            "_view_name": "LayoutView",
            "align_content": null,
            "align_items": null,
            "align_self": null,
            "border": null,
            "bottom": null,
            "display": null,
            "flex": null,
            "flex_flow": null,
            "grid_area": null,
            "grid_auto_columns": null,
            "grid_auto_flow": null,
            "grid_auto_rows": null,
            "grid_column": null,
            "grid_gap": null,
            "grid_row": null,
            "grid_template_areas": null,
            "grid_template_columns": null,
            "grid_template_rows": null,
            "height": null,
            "justify_content": null,
            "justify_items": null,
            "left": null,
            "margin": null,
            "max_height": null,
            "max_width": null,
            "min_height": null,
            "min_width": null,
            "object_fit": null,
            "object_position": null,
            "order": null,
            "overflow": null,
            "overflow_x": null,
            "overflow_y": null,
            "padding": null,
            "right": null,
            "top": null,
            "visibility": null,
            "width": null
          }
        },
        "8983eb856f1d4c2b99fc1d2fe02413be": {
          "model_module": "@jupyter-widgets/controls",
          "model_name": "ProgressStyleModel",
          "model_module_version": "1.5.0",
          "state": {
            "_model_module": "@jupyter-widgets/controls",
            "_model_module_version": "1.5.0",
            "_model_name": "ProgressStyleModel",
            "_view_count": null,
            "_view_module": "@jupyter-widgets/base",
            "_view_module_version": "1.2.0",
            "_view_name": "StyleView",
            "bar_color": null,
            "description_width": ""
          }
        },
        "3d18341b85594a949765776d17069485": {
          "model_module": "@jupyter-widgets/base",
          "model_name": "LayoutModel",
          "model_module_version": "1.2.0",
          "state": {
            "_model_module": "@jupyter-widgets/base",
            "_model_module_version": "1.2.0",
            "_model_name": "LayoutModel",
            "_view_count": null,
            "_view_module": "@jupyter-widgets/base",
            "_view_module_version": "1.2.0",
            "_view_name": "LayoutView",
            "align_content": null,
            "align_items": null,
            "align_self": null,
            "border": null,
            "bottom": null,
            "display": null,
            "flex": null,
            "flex_flow": null,
            "grid_area": null,
            "grid_auto_columns": null,
            "grid_auto_flow": null,
            "grid_auto_rows": null,
            "grid_column": null,
            "grid_gap": null,
            "grid_row": null,
            "grid_template_areas": null,
            "grid_template_columns": null,
            "grid_template_rows": null,
            "height": null,
            "justify_content": null,
            "justify_items": null,
            "left": null,
            "margin": null,
            "max_height": null,
            "max_width": null,
            "min_height": null,
            "min_width": null,
            "object_fit": null,
            "object_position": null,
            "order": null,
            "overflow": null,
            "overflow_x": null,
            "overflow_y": null,
            "padding": null,
            "right": null,
            "top": null,
            "visibility": null,
            "width": null
          }
        },
        "54914572a6df488fa25497e467fae310": {
          "model_module": "@jupyter-widgets/controls",
          "model_name": "DescriptionStyleModel",
          "model_module_version": "1.5.0",
          "state": {
            "_model_module": "@jupyter-widgets/controls",
            "_model_module_version": "1.5.0",
            "_model_name": "DescriptionStyleModel",
            "_view_count": null,
            "_view_module": "@jupyter-widgets/base",
            "_view_module_version": "1.2.0",
            "_view_name": "StyleView",
            "description_width": ""
          }
        }
      }
    }
  },
  "cells": [
    {
      "cell_type": "code",
      "execution_count": 1,
      "metadata": {
        "colab": {
          "base_uri": "https://localhost:8080/",
          "height": 1000
        },
        "id": "3cE3pjrnhX19",
        "outputId": "e22c4ead-e796-4931-f69a-1efa9a993af9"
      },
      "outputs": [
        {
          "output_type": "stream",
          "name": "stdout",
          "text": [
            "Looking in indexes: https://pypi.org/simple, https://us-python.pkg.dev/colab-wheels/public/simple/\n",
            "Requirement already satisfied: networkx in /usr/local/lib/python3.8/dist-packages (2.8.8)\n",
            "Collecting PyTDC\n",
            "  Downloading PyTDC-0.3.8.tar.gz (100 kB)\n",
            "\u001b[2K     \u001b[90m━━━━━━━━━━━━━━━━━━━━━━━━━━━━━━━━━━━━━━━\u001b[0m \u001b[32m100.7/100.7 KB\u001b[0m \u001b[31m3.8 MB/s\u001b[0m eta \u001b[36m0:00:00\u001b[0m\n",
            "\u001b[?25h  Preparing metadata (setup.py) ... \u001b[?25l\u001b[?25hdone\n",
            "Collecting rdkit\n",
            "  Downloading rdkit-2022.9.3-cp38-cp38-manylinux_2_17_x86_64.manylinux2014_x86_64.whl (29.3 MB)\n",
            "\u001b[2K     \u001b[90m━━━━━━━━━━━━━━━━━━━━━━━━━━━━━━━━━━━━━━━━\u001b[0m \u001b[32m29.3/29.3 MB\u001b[0m \u001b[31m46.4 MB/s\u001b[0m eta \u001b[36m0:00:00\u001b[0m\n",
            "\u001b[?25hCollecting pysmiles\n",
            "  Downloading pysmiles-1.0.2-py2.py3-none-any.whl (22 kB)\n",
            "Collecting rdkit-pypi\n",
            "  Downloading rdkit_pypi-2022.9.3-cp38-cp38-manylinux_2_17_x86_64.manylinux2014_x86_64.whl (29.3 MB)\n",
            "\u001b[2K     \u001b[90m━━━━━━━━━━━━━━━━━━━━━━━━━━━━━━━━━━━━━━━━\u001b[0m \u001b[32m29.3/29.3 MB\u001b[0m \u001b[31m57.3 MB/s\u001b[0m eta \u001b[36m0:00:00\u001b[0m\n",
            "\u001b[?25hCollecting fuzzywuzzy\n",
            "  Downloading fuzzywuzzy-0.18.0-py2.py3-none-any.whl (18 kB)\n",
            "Requirement already satisfied: numpy in /usr/local/lib/python3.8/dist-packages (from PyTDC) (1.21.6)\n",
            "Requirement already satisfied: pandas in /usr/local/lib/python3.8/dist-packages (from PyTDC) (1.3.5)\n",
            "Requirement already satisfied: tqdm in /usr/local/lib/python3.8/dist-packages (from PyTDC) (4.64.1)\n",
            "Requirement already satisfied: scikit-learn in /usr/local/lib/python3.8/dist-packages (from PyTDC) (1.0.2)\n",
            "Requirement already satisfied: seaborn in /usr/local/lib/python3.8/dist-packages (from PyTDC) (0.11.2)\n",
            "Requirement already satisfied: requests in /usr/local/lib/python3.8/dist-packages (from PyTDC) (2.25.1)\n",
            "Requirement already satisfied: Pillow in /usr/local/lib/python3.8/dist-packages (from rdkit) (7.1.2)\n",
            "Collecting pbr\n",
            "  Downloading pbr-5.11.0-py2.py3-none-any.whl (112 kB)\n",
            "\u001b[2K     \u001b[90m━━━━━━━━━━━━━━━━━━━━━━━━━━━━━━━━━━━━━━\u001b[0m \u001b[32m112.6/112.6 KB\u001b[0m \u001b[31m14.7 MB/s\u001b[0m eta \u001b[36m0:00:00\u001b[0m\n",
            "\u001b[?25hRequirement already satisfied: python-dateutil>=2.7.3 in /usr/local/lib/python3.8/dist-packages (from pandas->PyTDC) (2.8.2)\n",
            "Requirement already satisfied: pytz>=2017.3 in /usr/local/lib/python3.8/dist-packages (from pandas->PyTDC) (2022.7)\n",
            "Requirement already satisfied: certifi>=2017.4.17 in /usr/local/lib/python3.8/dist-packages (from requests->PyTDC) (2022.12.7)\n",
            "Requirement already satisfied: idna<3,>=2.5 in /usr/local/lib/python3.8/dist-packages (from requests->PyTDC) (2.10)\n",
            "Requirement already satisfied: chardet<5,>=3.0.2 in /usr/local/lib/python3.8/dist-packages (from requests->PyTDC) (4.0.0)\n",
            "Requirement already satisfied: urllib3<1.27,>=1.21.1 in /usr/local/lib/python3.8/dist-packages (from requests->PyTDC) (1.24.3)\n",
            "Requirement already satisfied: scipy>=1.1.0 in /usr/local/lib/python3.8/dist-packages (from scikit-learn->PyTDC) (1.7.3)\n",
            "Requirement already satisfied: threadpoolctl>=2.0.0 in /usr/local/lib/python3.8/dist-packages (from scikit-learn->PyTDC) (3.1.0)\n",
            "Requirement already satisfied: joblib>=0.11 in /usr/local/lib/python3.8/dist-packages (from scikit-learn->PyTDC) (1.2.0)\n",
            "Requirement already satisfied: matplotlib>=2.2 in /usr/local/lib/python3.8/dist-packages (from seaborn->PyTDC) (3.2.2)\n",
            "Requirement already satisfied: kiwisolver>=1.0.1 in /usr/local/lib/python3.8/dist-packages (from matplotlib>=2.2->seaborn->PyTDC) (1.4.4)\n",
            "Requirement already satisfied: pyparsing!=2.0.4,!=2.1.2,!=2.1.6,>=2.0.1 in /usr/local/lib/python3.8/dist-packages (from matplotlib>=2.2->seaborn->PyTDC) (3.0.9)\n",
            "Requirement already satisfied: cycler>=0.10 in /usr/local/lib/python3.8/dist-packages (from matplotlib>=2.2->seaborn->PyTDC) (0.11.0)\n",
            "Requirement already satisfied: six>=1.5 in /usr/local/lib/python3.8/dist-packages (from python-dateutil>=2.7.3->pandas->PyTDC) (1.15.0)\n",
            "Building wheels for collected packages: PyTDC\n",
            "  Building wheel for PyTDC (setup.py) ... \u001b[?25l\u001b[?25hdone\n",
            "  Created wheel for PyTDC: filename=PyTDC-0.3.8-py3-none-any.whl size=136139 sha256=0e13ff7054304698393e4cf419ed5035ea3077b8d0b0dfb4a3cccec059621344\n",
            "  Stored in directory: /root/.cache/pip/wheels/4a/4f/da/b494dde823e311675b3ce778ca8c22e734ef8f779dbf311805\n",
            "Successfully built PyTDC\n",
            "Installing collected packages: fuzzywuzzy, rdkit-pypi, rdkit, pbr, pysmiles, PyTDC\n",
            "Successfully installed PyTDC-0.3.8 fuzzywuzzy-0.18.0 pbr-5.11.0 pysmiles-1.0.2 rdkit-2022.9.3 rdkit-pypi-2022.9.3\n",
            "Looking in indexes: https://pypi.org/simple, https://us-python.pkg.dev/colab-wheels/public/simple/\n",
            "Looking in links: https://data.pyg.org/whl/torch-1.13.0+cpu.html\n",
            "Collecting torch-scatter\n",
            "  Downloading https://data.pyg.org/whl/torch-1.13.0%2Bcpu/torch_scatter-2.1.0%2Bpt113cpu-cp38-cp38-linux_x86_64.whl (491 kB)\n",
            "\u001b[2K     \u001b[90m━━━━━━━━━━━━━━━━━━━━━━━━━━━━━━━━━━━━━━\u001b[0m \u001b[32m491.2/491.2 KB\u001b[0m \u001b[31m10.6 MB/s\u001b[0m eta \u001b[36m0:00:00\u001b[0m\n",
            "\u001b[?25hCollecting torch-sparse\n",
            "  Downloading https://data.pyg.org/whl/torch-1.13.0%2Bcpu/torch_sparse-0.6.16%2Bpt113cpu-cp38-cp38-linux_x86_64.whl (1.1 MB)\n",
            "\u001b[2K     \u001b[90m━━━━━━━━━━━━━━━━━━━━━━━━━━━━━━━━━━━━━━━━\u001b[0m \u001b[32m1.1/1.1 MB\u001b[0m \u001b[31m22.4 MB/s\u001b[0m eta \u001b[36m0:00:00\u001b[0m\n",
            "\u001b[?25hCollecting torch-cluster\n",
            "  Downloading https://data.pyg.org/whl/torch-1.13.0%2Bcpu/torch_cluster-1.6.0%2Bpt113cpu-cp38-cp38-linux_x86_64.whl (704 kB)\n",
            "\u001b[2K     \u001b[90m━━━━━━━━━━━━━━━━━━━━━━━━━━━━━━━━━━━━━━\u001b[0m \u001b[32m704.9/704.9 KB\u001b[0m \u001b[31m29.1 MB/s\u001b[0m eta \u001b[36m0:00:00\u001b[0m\n",
            "\u001b[?25hCollecting torch-spline-conv\n",
            "  Downloading https://data.pyg.org/whl/torch-1.13.0%2Bcpu/torch_spline_conv-1.2.1%2Bpt113cpu-cp38-cp38-linux_x86_64.whl (202 kB)\n",
            "\u001b[2K     \u001b[90m━━━━━━━━━━━━━━━━━━━━━━━━━━━━━━━━━━━━━━\u001b[0m \u001b[32m203.0/203.0 KB\u001b[0m \u001b[31m24.9 MB/s\u001b[0m eta \u001b[36m0:00:00\u001b[0m\n",
            "\u001b[?25hCollecting torch-geometric\n",
            "  Downloading torch_geometric-2.2.0.tar.gz (564 kB)\n",
            "\u001b[2K     \u001b[90m━━━━━━━━━━━━━━━━━━━━━━━━━━━━━━━━━━━━━━\u001b[0m \u001b[32m565.0/565.0 KB\u001b[0m \u001b[31m11.6 MB/s\u001b[0m eta \u001b[36m0:00:00\u001b[0m\n",
            "\u001b[?25h  Preparing metadata (setup.py) ... \u001b[?25l\u001b[?25hdone\n",
            "Requirement already satisfied: scipy in /usr/local/lib/python3.8/dist-packages (from torch-sparse) (1.7.3)\n",
            "Requirement already satisfied: tqdm in /usr/local/lib/python3.8/dist-packages (from torch-geometric) (4.64.1)\n",
            "Requirement already satisfied: numpy in /usr/local/lib/python3.8/dist-packages (from torch-geometric) (1.21.6)\n",
            "Requirement already satisfied: jinja2 in /usr/local/lib/python3.8/dist-packages (from torch-geometric) (2.11.3)\n",
            "Requirement already satisfied: requests in /usr/local/lib/python3.8/dist-packages (from torch-geometric) (2.25.1)\n",
            "Requirement already satisfied: pyparsing in /usr/local/lib/python3.8/dist-packages (from torch-geometric) (3.0.9)\n",
            "Requirement already satisfied: scikit-learn in /usr/local/lib/python3.8/dist-packages (from torch-geometric) (1.0.2)\n",
            "Collecting psutil>=5.8.0\n",
            "  Downloading psutil-5.9.4-cp36-abi3-manylinux_2_12_x86_64.manylinux2010_x86_64.manylinux_2_17_x86_64.manylinux2014_x86_64.whl (280 kB)\n",
            "\u001b[2K     \u001b[90m━━━━━━━━━━━━━━━━━━━━━━━━━━━━━━━━━━━━━━\u001b[0m \u001b[32m280.2/280.2 KB\u001b[0m \u001b[31m29.5 MB/s\u001b[0m eta \u001b[36m0:00:00\u001b[0m\n",
            "\u001b[?25hRequirement already satisfied: MarkupSafe>=0.23 in /usr/local/lib/python3.8/dist-packages (from jinja2->torch-geometric) (2.0.1)\n",
            "Requirement already satisfied: chardet<5,>=3.0.2 in /usr/local/lib/python3.8/dist-packages (from requests->torch-geometric) (4.0.0)\n",
            "Requirement already satisfied: idna<3,>=2.5 in /usr/local/lib/python3.8/dist-packages (from requests->torch-geometric) (2.10)\n",
            "Requirement already satisfied: certifi>=2017.4.17 in /usr/local/lib/python3.8/dist-packages (from requests->torch-geometric) (2022.12.7)\n",
            "Requirement already satisfied: urllib3<1.27,>=1.21.1 in /usr/local/lib/python3.8/dist-packages (from requests->torch-geometric) (1.24.3)\n",
            "Requirement already satisfied: threadpoolctl>=2.0.0 in /usr/local/lib/python3.8/dist-packages (from scikit-learn->torch-geometric) (3.1.0)\n",
            "Requirement already satisfied: joblib>=0.11 in /usr/local/lib/python3.8/dist-packages (from scikit-learn->torch-geometric) (1.2.0)\n",
            "Building wheels for collected packages: torch-geometric\n",
            "  Building wheel for torch-geometric (setup.py) ... \u001b[?25l\u001b[?25hdone\n",
            "  Created wheel for torch-geometric: filename=torch_geometric-2.2.0-py3-none-any.whl size=773302 sha256=cea77a7a467127faaa1f2deb6af1a5609f9e25997717b8305438d00364aae2c8\n",
            "  Stored in directory: /root/.cache/pip/wheels/59/a3/20/198928106d3169865ae73afcbd3d3d1796cf6b429b55c65378\n",
            "Successfully built torch-geometric\n",
            "Installing collected packages: torch-spline-conv, torch-scatter, psutil, torch-sparse, torch-cluster, torch-geometric\n",
            "  Attempting uninstall: psutil\n",
            "    Found existing installation: psutil 5.4.8\n",
            "    Uninstalling psutil-5.4.8:\n",
            "      Successfully uninstalled psutil-5.4.8\n",
            "Successfully installed psutil-5.9.4 torch-cluster-1.6.0+pt113cpu torch-geometric-2.2.0 torch-scatter-2.1.0+pt113cpu torch-sparse-0.6.16+pt113cpu torch-spline-conv-1.2.1+pt113cpu\n"
          ]
        },
        {
          "output_type": "display_data",
          "data": {
            "application/vnd.colab-display-data+json": {
              "pip_warning": {
                "packages": [
                  "psutil"
                ]
              }
            }
          },
          "metadata": {}
        }
      ],
      "source": [
        "!pip install networkx PyTDC rdkit pysmiles\n",
        "!pip install torch-scatter torch-sparse torch-cluster torch-spline-conv torch-geometric -f https://data.pyg.org/whl/torch-1.13.0+cpu.html"
      ]
    },
    {
      "cell_type": "code",
      "source": [
        "!nvidia-smi"
      ],
      "metadata": {
        "colab": {
          "base_uri": "https://localhost:8080/"
        },
        "id": "HPyfSYEziVZQ",
        "outputId": "bb8f272a-1930-4547-bb3b-099b2fd3354a"
      },
      "execution_count": null,
      "outputs": [
        {
          "output_type": "stream",
          "name": "stdout",
          "text": [
            "Tue Jan  3 19:22:25 2023       \n",
            "+-----------------------------------------------------------------------------+\n",
            "| NVIDIA-SMI 460.32.03    Driver Version: 460.32.03    CUDA Version: 11.2     |\n",
            "|-------------------------------+----------------------+----------------------+\n",
            "| GPU  Name        Persistence-M| Bus-Id        Disp.A | Volatile Uncorr. ECC |\n",
            "| Fan  Temp  Perf  Pwr:Usage/Cap|         Memory-Usage | GPU-Util  Compute M. |\n",
            "|                               |                      |               MIG M. |\n",
            "|===============================+======================+======================|\n",
            "|   0  Tesla T4            Off  | 00000000:00:04.0 Off |                    0 |\n",
            "| N/A   60C    P0    27W /  70W |      0MiB / 15109MiB |      0%      Default |\n",
            "|                               |                      |                  N/A |\n",
            "+-------------------------------+----------------------+----------------------+\n",
            "                                                                               \n",
            "+-----------------------------------------------------------------------------+\n",
            "| Processes:                                                                  |\n",
            "|  GPU   GI   CI        PID   Type   Process name                  GPU Memory |\n",
            "|        ID   ID                                                   Usage      |\n",
            "|=============================================================================|\n",
            "|  No running processes found                                                 |\n",
            "+-----------------------------------------------------------------------------+\n"
          ]
        }
      ]
    },
    {
      "cell_type": "code",
      "source": [
        "!pip show torch"
      ],
      "metadata": {
        "colab": {
          "base_uri": "https://localhost:8080/"
        },
        "id": "RdqMc2aVkGvX",
        "outputId": "38e29aa7-838c-4a1b-88d7-1440ed213f4a"
      },
      "execution_count": null,
      "outputs": [
        {
          "output_type": "stream",
          "name": "stdout",
          "text": [
            "Name: torch\n",
            "Version: 1.13.0+cu116\n",
            "Summary: Tensors and Dynamic neural networks in Python with strong GPU acceleration\n",
            "Home-page: https://pytorch.org/\n",
            "Author: PyTorch Team\n",
            "Author-email: packages@pytorch.org\n",
            "License: BSD-3\n",
            "Location: /usr/local/lib/python3.8/dist-packages\n",
            "Requires: typing-extensions\n",
            "Required-by: torchvision, torchtext, torchaudio, fastai\n"
          ]
        }
      ]
    },
    {
      "cell_type": "code",
      "source": [
        "from tdc.single_pred import ADME\n",
        "from pysmiles import read_smiles\n",
        "import matplotlib.pyplot as plt\n",
        "import networkx as nx\n",
        "from torch_geometric.data import Data\n",
        "import numpy as np\n",
        "import pandas as pd\n",
        "import typing\n",
        "\n",
        "import torch\n",
        "from torch.utils import data \n",
        "from torch import nn\n",
        "from torch.nn import functional as F\n",
        "\n",
        "#--------------\n",
        "import rdkit\n",
        "from rdkit import Chem\n",
        "from rdkit.Chem import AllChem\n",
        "from rdkit.Chem import Draw\n",
        "from rdkit.Chem import PandasTools\n",
        "\n",
        "from IPython.core.display import display, HTML\n",
        "from IPython.core.debugger import set_trace  # for debugging\n",
        "import tabulate\n",
        "import altair as alt"
      ],
      "metadata": {
        "id": "FprE9UZZhdbu"
      },
      "execution_count": 2,
      "outputs": []
    },
    {
      "cell_type": "code",
      "source": [
        "!pip install pytorch-ignite DeepPurpose"
      ],
      "metadata": {
        "colab": {
          "base_uri": "https://localhost:8080/"
        },
        "id": "TwUAiuozheDn",
        "outputId": "c4851f23-8ac8-4523-fd32-54e69b7f9c6e"
      },
      "execution_count": 3,
      "outputs": [
        {
          "output_type": "stream",
          "name": "stdout",
          "text": [
            "Looking in indexes: https://pypi.org/simple, https://us-python.pkg.dev/colab-wheels/public/simple/\n",
            "Collecting pytorch-ignite\n",
            "  Downloading pytorch_ignite-0.4.10-py3-none-any.whl (264 kB)\n",
            "\u001b[2K     \u001b[90m━━━━━━━━━━━━━━━━━━━━━━━━━━━━━━━━━━━━━━━\u001b[0m \u001b[32m264.1/264.1 KB\u001b[0m \u001b[31m5.6 MB/s\u001b[0m eta \u001b[36m0:00:00\u001b[0m\n",
            "\u001b[?25hCollecting DeepPurpose\n",
            "  Downloading DeepPurpose-0.1.5.tar.gz (158 kB)\n",
            "\u001b[2K     \u001b[90m━━━━━━━━━━━━━━━━━━━━━━━━━━━━━━━━━━━━━━\u001b[0m \u001b[32m158.5/158.5 KB\u001b[0m \u001b[31m18.5 MB/s\u001b[0m eta \u001b[36m0:00:00\u001b[0m\n",
            "\u001b[?25h  Preparing metadata (setup.py) ... \u001b[?25l\u001b[?25hdone\n",
            "Requirement already satisfied: packaging in /usr/local/lib/python3.8/dist-packages (from pytorch-ignite) (21.3)\n",
            "Requirement already satisfied: torch<2,>=1.3 in /usr/local/lib/python3.8/dist-packages (from pytorch-ignite) (1.13.0+cu116)\n",
            "Requirement already satisfied: numpy in /usr/local/lib/python3.8/dist-packages (from DeepPurpose) (1.21.6)\n",
            "Requirement already satisfied: pandas in /usr/local/lib/python3.8/dist-packages (from DeepPurpose) (1.3.5)\n",
            "Requirement already satisfied: tqdm in /usr/local/lib/python3.8/dist-packages (from DeepPurpose) (4.64.1)\n",
            "Requirement already satisfied: scikit-learn in /usr/local/lib/python3.8/dist-packages (from DeepPurpose) (1.0.2)\n",
            "Collecting wget\n",
            "  Downloading wget-3.2.zip (10 kB)\n",
            "  Preparing metadata (setup.py) ... \u001b[?25l\u001b[?25hdone\n",
            "Requirement already satisfied: matplotlib in /usr/local/lib/python3.8/dist-packages (from DeepPurpose) (3.2.2)\n",
            "Requirement already satisfied: requests in /usr/local/lib/python3.8/dist-packages (from DeepPurpose) (2.25.1)\n",
            "Collecting pandas-flavor\n",
            "  Downloading pandas_flavor-0.3.0-py3-none-any.whl (6.3 kB)\n",
            "Collecting subword-nmt\n",
            "  Downloading subword_nmt-0.3.8-py3-none-any.whl (27 kB)\n",
            "Collecting lifelines\n",
            "  Downloading lifelines-0.27.4-py3-none-any.whl (349 kB)\n",
            "\u001b[2K     \u001b[90m━━━━━━━━━━━━━━━━━━━━━━━━━━━━━━━━━━━━━━\u001b[0m \u001b[32m349.7/349.7 KB\u001b[0m \u001b[31m28.5 MB/s\u001b[0m eta \u001b[36m0:00:00\u001b[0m\n",
            "\u001b[?25hRequirement already satisfied: prettytable in /usr/local/lib/python3.8/dist-packages (from DeepPurpose) (3.5.0)\n",
            "Requirement already satisfied: tensorboard in /usr/local/lib/python3.8/dist-packages (from DeepPurpose) (2.9.1)\n",
            "Collecting ax-platform\n",
            "  Downloading ax_platform-0.2.10-py3-none-any.whl (1.1 MB)\n",
            "\u001b[2K     \u001b[90m━━━━━━━━━━━━━━━━━━━━━━━━━━━━━━━━━━━━━━━━\u001b[0m \u001b[32m1.1/1.1 MB\u001b[0m \u001b[31m54.0 MB/s\u001b[0m eta \u001b[36m0:00:00\u001b[0m\n",
            "\u001b[?25hCollecting dgllife\n",
            "  Downloading dgllife-0.3.1-py3-none-any.whl (226 kB)\n",
            "\u001b[2K     \u001b[90m━━━━━━━━━━━━━━━━━━━━━━━━━━━━━━━━━━━━━━\u001b[0m \u001b[32m226.1/226.1 KB\u001b[0m \u001b[31m24.6 MB/s\u001b[0m eta \u001b[36m0:00:00\u001b[0m\n",
            "\u001b[?25hRequirement already satisfied: typing-extensions in /usr/local/lib/python3.8/dist-packages (from torch<2,>=1.3->pytorch-ignite) (4.4.0)\n",
            "Requirement already satisfied: typeguard in /usr/local/lib/python3.8/dist-packages (from ax-platform->DeepPurpose) (2.7.1)\n",
            "Requirement already satisfied: plotly in /usr/local/lib/python3.8/dist-packages (from ax-platform->DeepPurpose) (5.5.0)\n",
            "Requirement already satisfied: jinja2 in /usr/local/lib/python3.8/dist-packages (from ax-platform->DeepPurpose) (2.11.3)\n",
            "Collecting botorch==0.8.0\n",
            "  Downloading botorch-0.8.0-py3-none-any.whl (481 kB)\n",
            "\u001b[2K     \u001b[90m━━━━━━━━━━━━━━━━━━━━━━━━━━━━━━━━━━━━━━\u001b[0m \u001b[32m481.8/481.8 KB\u001b[0m \u001b[31m31.9 MB/s\u001b[0m eta \u001b[36m0:00:00\u001b[0m\n",
            "\u001b[?25hRequirement already satisfied: scipy in /usr/local/lib/python3.8/dist-packages (from ax-platform->DeepPurpose) (1.7.3)\n",
            "Requirement already satisfied: ipywidgets<8.0.0 in /usr/local/lib/python3.8/dist-packages (from ax-platform->DeepPurpose) (7.7.1)\n",
            "Collecting pyro-ppl>=1.8.2\n",
            "  Downloading pyro_ppl-1.8.4-py3-none-any.whl (730 kB)\n",
            "\u001b[2K     \u001b[90m━━━━━━━━━━━━━━━━━━━━━━━━━━━━━━━━━━━━━━\u001b[0m \u001b[32m730.7/730.7 KB\u001b[0m \u001b[31m46.4 MB/s\u001b[0m eta \u001b[36m0:00:00\u001b[0m\n",
            "\u001b[?25hCollecting linear-operator==0.2.0\n",
            "  Downloading linear_operator-0.2.0-py3-none-any.whl (152 kB)\n",
            "\u001b[2K     \u001b[90m━━━━━━━━━━━━━━━━━━━━━━━━━━━━━━━━━━━━━━\u001b[0m \u001b[32m153.0/153.0 KB\u001b[0m \u001b[31m15.7 MB/s\u001b[0m eta \u001b[36m0:00:00\u001b[0m\n",
            "\u001b[?25hCollecting gpytorch==1.9.0\n",
            "  Downloading gpytorch-1.9.0-py3-none-any.whl (245 kB)\n",
            "\u001b[2K     \u001b[90m━━━━━━━━━━━━━━━━━━━━━━━━━━━━━━━━━━━━━━\u001b[0m \u001b[32m245.8/245.8 KB\u001b[0m \u001b[31m25.4 MB/s\u001b[0m eta \u001b[36m0:00:00\u001b[0m\n",
            "\u001b[?25hRequirement already satisfied: multipledispatch in /usr/local/lib/python3.8/dist-packages (from botorch==0.8.0->ax-platform->DeepPurpose) (0.6.0)\n",
            "Requirement already satisfied: hyperopt in /usr/local/lib/python3.8/dist-packages (from dgllife->DeepPurpose) (0.1.2)\n",
            "Requirement already satisfied: networkx>=2.1 in /usr/local/lib/python3.8/dist-packages (from dgllife->DeepPurpose) (2.8.8)\n",
            "Requirement already satisfied: joblib in /usr/local/lib/python3.8/dist-packages (from dgllife->DeepPurpose) (1.2.0)\n",
            "Requirement already satisfied: idna<3,>=2.5 in /usr/local/lib/python3.8/dist-packages (from requests->DeepPurpose) (2.10)\n",
            "Requirement already satisfied: urllib3<1.27,>=1.21.1 in /usr/local/lib/python3.8/dist-packages (from requests->DeepPurpose) (1.24.3)\n",
            "Requirement already satisfied: certifi>=2017.4.17 in /usr/local/lib/python3.8/dist-packages (from requests->DeepPurpose) (2022.12.7)\n",
            "Requirement already satisfied: chardet<5,>=3.0.2 in /usr/local/lib/python3.8/dist-packages (from requests->DeepPurpose) (4.0.0)\n",
            "Requirement already satisfied: threadpoolctl>=2.0.0 in /usr/local/lib/python3.8/dist-packages (from scikit-learn->DeepPurpose) (3.1.0)\n",
            "Collecting formulaic>=0.2.2\n",
            "  Downloading formulaic-0.5.2-py3-none-any.whl (77 kB)\n",
            "\u001b[2K     \u001b[90m━━━━━━━━━━━━━━━━━━━━━━━━━━━━━━━━━━━━━━━━\u001b[0m \u001b[32m77.1/77.1 KB\u001b[0m \u001b[31m9.6 MB/s\u001b[0m eta \u001b[36m0:00:00\u001b[0m\n",
            "\u001b[?25hRequirement already satisfied: autograd>=1.5 in /usr/local/lib/python3.8/dist-packages (from lifelines->DeepPurpose) (1.5)\n",
            "Collecting autograd-gamma>=0.3\n",
            "  Downloading autograd-gamma-0.5.0.tar.gz (4.0 kB)\n",
            "  Preparing metadata (setup.py) ... \u001b[?25l\u001b[?25hdone\n",
            "Requirement already satisfied: python-dateutil>=2.1 in /usr/local/lib/python3.8/dist-packages (from matplotlib->DeepPurpose) (2.8.2)\n",
            "Requirement already satisfied: kiwisolver>=1.0.1 in /usr/local/lib/python3.8/dist-packages (from matplotlib->DeepPurpose) (1.4.4)\n",
            "Requirement already satisfied: pyparsing!=2.0.4,!=2.1.2,!=2.1.6,>=2.0.1 in /usr/local/lib/python3.8/dist-packages (from matplotlib->DeepPurpose) (3.0.9)\n",
            "Requirement already satisfied: cycler>=0.10 in /usr/local/lib/python3.8/dist-packages (from matplotlib->DeepPurpose) (0.11.0)\n",
            "Requirement already satisfied: pytz>=2017.3 in /usr/local/lib/python3.8/dist-packages (from pandas->DeepPurpose) (2022.7)\n",
            "Collecting lazy-loader==0.1rc2\n",
            "  Downloading lazy_loader-0.1rc2-py3-none-any.whl (5.1 kB)\n",
            "Requirement already satisfied: xarray in /usr/local/lib/python3.8/dist-packages (from pandas-flavor->DeepPurpose) (2022.12.0)\n",
            "Requirement already satisfied: wcwidth in /usr/local/lib/python3.8/dist-packages (from prettytable->DeepPurpose) (0.2.5)\n",
            "Collecting mock\n",
            "  Downloading mock-5.0.0-py3-none-any.whl (29 kB)\n",
            "Requirement already satisfied: werkzeug>=1.0.1 in /usr/local/lib/python3.8/dist-packages (from tensorboard->DeepPurpose) (1.0.1)\n",
            "Requirement already satisfied: wheel>=0.26 in /usr/local/lib/python3.8/dist-packages (from tensorboard->DeepPurpose) (0.38.4)\n",
            "Requirement already satisfied: setuptools>=41.0.0 in /usr/local/lib/python3.8/dist-packages (from tensorboard->DeepPurpose) (57.4.0)\n",
            "Requirement already satisfied: grpcio>=1.24.3 in /usr/local/lib/python3.8/dist-packages (from tensorboard->DeepPurpose) (1.51.1)\n",
            "Requirement already satisfied: tensorboard-plugin-wit>=1.6.0 in /usr/local/lib/python3.8/dist-packages (from tensorboard->DeepPurpose) (1.8.1)\n",
            "Requirement already satisfied: tensorboard-data-server<0.7.0,>=0.6.0 in /usr/local/lib/python3.8/dist-packages (from tensorboard->DeepPurpose) (0.6.1)\n",
            "Requirement already satisfied: absl-py>=0.4 in /usr/local/lib/python3.8/dist-packages (from tensorboard->DeepPurpose) (1.3.0)\n",
            "Requirement already satisfied: google-auth-oauthlib<0.5,>=0.4.1 in /usr/local/lib/python3.8/dist-packages (from tensorboard->DeepPurpose) (0.4.6)\n",
            "Requirement already satisfied: google-auth<3,>=1.6.3 in /usr/local/lib/python3.8/dist-packages (from tensorboard->DeepPurpose) (2.15.0)\n",
            "Requirement already satisfied: markdown>=2.6.8 in /usr/local/lib/python3.8/dist-packages (from tensorboard->DeepPurpose) (3.4.1)\n",
            "Requirement already satisfied: protobuf<3.20,>=3.9.2 in /usr/local/lib/python3.8/dist-packages (from tensorboard->DeepPurpose) (3.19.6)\n",
            "Requirement already satisfied: future>=0.15.2 in /usr/local/lib/python3.8/dist-packages (from autograd>=1.5->lifelines->DeepPurpose) (0.16.0)\n",
            "Collecting graphlib-backport>=1.0.0\n",
            "  Downloading graphlib_backport-1.0.3-py3-none-any.whl (5.1 kB)\n",
            "Requirement already satisfied: astor>=0.8 in /usr/local/lib/python3.8/dist-packages (from formulaic>=0.2.2->lifelines->DeepPurpose) (0.8.1)\n",
            "Requirement already satisfied: wrapt>=1.0 in /usr/local/lib/python3.8/dist-packages (from formulaic>=0.2.2->lifelines->DeepPurpose) (1.14.1)\n",
            "Collecting interface-meta>=1.2.0\n",
            "  Downloading interface_meta-1.3.0-py3-none-any.whl (14 kB)\n",
            "Requirement already satisfied: six>=1.9.0 in /usr/local/lib/python3.8/dist-packages (from google-auth<3,>=1.6.3->tensorboard->DeepPurpose) (1.15.0)\n",
            "Requirement already satisfied: cachetools<6.0,>=2.0.0 in /usr/local/lib/python3.8/dist-packages (from google-auth<3,>=1.6.3->tensorboard->DeepPurpose) (5.2.0)\n",
            "Requirement already satisfied: rsa<5,>=3.1.4 in /usr/local/lib/python3.8/dist-packages (from google-auth<3,>=1.6.3->tensorboard->DeepPurpose) (4.9)\n",
            "Requirement already satisfied: pyasn1-modules>=0.2.1 in /usr/local/lib/python3.8/dist-packages (from google-auth<3,>=1.6.3->tensorboard->DeepPurpose) (0.2.8)\n",
            "Requirement already satisfied: requests-oauthlib>=0.7.0 in /usr/local/lib/python3.8/dist-packages (from google-auth-oauthlib<0.5,>=0.4.1->tensorboard->DeepPurpose) (1.3.1)\n",
            "Requirement already satisfied: traitlets>=4.3.1 in /usr/local/lib/python3.8/dist-packages (from ipywidgets<8.0.0->ax-platform->DeepPurpose) (5.7.1)\n",
            "Requirement already satisfied: ipython-genutils~=0.2.0 in /usr/local/lib/python3.8/dist-packages (from ipywidgets<8.0.0->ax-platform->DeepPurpose) (0.2.0)\n",
            "Requirement already satisfied: ipykernel>=4.5.1 in /usr/local/lib/python3.8/dist-packages (from ipywidgets<8.0.0->ax-platform->DeepPurpose) (5.3.4)\n",
            "Requirement already satisfied: ipython>=4.0.0 in /usr/local/lib/python3.8/dist-packages (from ipywidgets<8.0.0->ax-platform->DeepPurpose) (7.9.0)\n",
            "Requirement already satisfied: jupyterlab-widgets>=1.0.0 in /usr/local/lib/python3.8/dist-packages (from ipywidgets<8.0.0->ax-platform->DeepPurpose) (3.0.5)\n",
            "Requirement already satisfied: widgetsnbextension~=3.6.0 in /usr/local/lib/python3.8/dist-packages (from ipywidgets<8.0.0->ax-platform->DeepPurpose) (3.6.1)\n",
            "Requirement already satisfied: importlib-metadata>=4.4 in /usr/local/lib/python3.8/dist-packages (from markdown>=2.6.8->tensorboard->DeepPurpose) (5.2.0)\n",
            "Requirement already satisfied: pymongo in /usr/local/lib/python3.8/dist-packages (from hyperopt->dgllife->DeepPurpose) (4.3.3)\n",
            "Requirement already satisfied: MarkupSafe>=0.23 in /usr/local/lib/python3.8/dist-packages (from jinja2->ax-platform->DeepPurpose) (2.0.1)\n",
            "Requirement already satisfied: tenacity>=6.2.0 in /usr/local/lib/python3.8/dist-packages (from plotly->ax-platform->DeepPurpose) (8.1.0)\n",
            "Requirement already satisfied: zipp>=0.5 in /usr/local/lib/python3.8/dist-packages (from importlib-metadata>=4.4->markdown>=2.6.8->tensorboard->DeepPurpose) (3.11.0)\n",
            "Requirement already satisfied: jupyter-client in /usr/local/lib/python3.8/dist-packages (from ipykernel>=4.5.1->ipywidgets<8.0.0->ax-platform->DeepPurpose) (6.1.12)\n",
            "Requirement already satisfied: tornado>=4.2 in /usr/local/lib/python3.8/dist-packages (from ipykernel>=4.5.1->ipywidgets<8.0.0->ax-platform->DeepPurpose) (6.0.4)\n",
            "Requirement already satisfied: pickleshare in /usr/local/lib/python3.8/dist-packages (from ipython>=4.0.0->ipywidgets<8.0.0->ax-platform->DeepPurpose) (0.7.5)\n",
            "Requirement already satisfied: backcall in /usr/local/lib/python3.8/dist-packages (from ipython>=4.0.0->ipywidgets<8.0.0->ax-platform->DeepPurpose) (0.2.0)\n",
            "Requirement already satisfied: pexpect in /usr/local/lib/python3.8/dist-packages (from ipython>=4.0.0->ipywidgets<8.0.0->ax-platform->DeepPurpose) (4.8.0)\n",
            "Requirement already satisfied: decorator in /usr/local/lib/python3.8/dist-packages (from ipython>=4.0.0->ipywidgets<8.0.0->ax-platform->DeepPurpose) (4.4.2)\n",
            "Collecting jedi>=0.10\n",
            "  Downloading jedi-0.18.2-py2.py3-none-any.whl (1.6 MB)\n",
            "\u001b[2K     \u001b[90m━━━━━━━━━━━━━━━━━━━━━━━━━━━━━━━━━━━━━━━━\u001b[0m \u001b[32m1.6/1.6 MB\u001b[0m \u001b[31m48.8 MB/s\u001b[0m eta \u001b[36m0:00:00\u001b[0m\n",
            "\u001b[?25hRequirement already satisfied: pygments in /usr/local/lib/python3.8/dist-packages (from ipython>=4.0.0->ipywidgets<8.0.0->ax-platform->DeepPurpose) (2.6.1)\n",
            "Requirement already satisfied: prompt-toolkit<2.1.0,>=2.0.0 in /usr/local/lib/python3.8/dist-packages (from ipython>=4.0.0->ipywidgets<8.0.0->ax-platform->DeepPurpose) (2.0.10)\n",
            "Requirement already satisfied: pyasn1<0.5.0,>=0.4.6 in /usr/local/lib/python3.8/dist-packages (from pyasn1-modules>=0.2.1->google-auth<3,>=1.6.3->tensorboard->DeepPurpose) (0.4.8)\n",
            "Requirement already satisfied: opt-einsum>=2.3.2 in /usr/local/lib/python3.8/dist-packages (from pyro-ppl>=1.8.2->botorch==0.8.0->ax-platform->DeepPurpose) (3.3.0)\n",
            "Collecting pyro-api>=0.1.1\n",
            "  Downloading pyro_api-0.1.2-py3-none-any.whl (11 kB)\n",
            "Requirement already satisfied: oauthlib>=3.0.0 in /usr/local/lib/python3.8/dist-packages (from requests-oauthlib>=0.7.0->google-auth-oauthlib<0.5,>=0.4.1->tensorboard->DeepPurpose) (3.2.2)\n",
            "Requirement already satisfied: notebook>=4.4.1 in /usr/local/lib/python3.8/dist-packages (from widgetsnbextension~=3.6.0->ipywidgets<8.0.0->ax-platform->DeepPurpose) (5.7.16)\n",
            "Requirement already satisfied: dnspython<3.0.0,>=1.16.0 in /usr/local/lib/python3.8/dist-packages (from pymongo->hyperopt->dgllife->DeepPurpose) (2.2.1)\n",
            "Requirement already satisfied: parso<0.9.0,>=0.8.0 in /usr/local/lib/python3.8/dist-packages (from jedi>=0.10->ipython>=4.0.0->ipywidgets<8.0.0->ax-platform->DeepPurpose) (0.8.3)\n",
            "Requirement already satisfied: nbconvert<6.0 in /usr/local/lib/python3.8/dist-packages (from notebook>=4.4.1->widgetsnbextension~=3.6.0->ipywidgets<8.0.0->ax-platform->DeepPurpose) (5.6.1)\n",
            "Requirement already satisfied: pyzmq>=17 in /usr/local/lib/python3.8/dist-packages (from notebook>=4.4.1->widgetsnbextension~=3.6.0->ipywidgets<8.0.0->ax-platform->DeepPurpose) (23.2.1)\n",
            "Requirement already satisfied: Send2Trash in /usr/local/lib/python3.8/dist-packages (from notebook>=4.4.1->widgetsnbextension~=3.6.0->ipywidgets<8.0.0->ax-platform->DeepPurpose) (1.8.0)\n",
            "Requirement already satisfied: prometheus-client in /usr/local/lib/python3.8/dist-packages (from notebook>=4.4.1->widgetsnbextension~=3.6.0->ipywidgets<8.0.0->ax-platform->DeepPurpose) (0.15.0)\n",
            "Requirement already satisfied: jupyter-core>=4.4.0 in /usr/local/lib/python3.8/dist-packages (from notebook>=4.4.1->widgetsnbextension~=3.6.0->ipywidgets<8.0.0->ax-platform->DeepPurpose) (5.1.1)\n",
            "Requirement already satisfied: terminado>=0.8.1 in /usr/local/lib/python3.8/dist-packages (from notebook>=4.4.1->widgetsnbextension~=3.6.0->ipywidgets<8.0.0->ax-platform->DeepPurpose) (0.13.3)\n",
            "Requirement already satisfied: nbformat in /usr/local/lib/python3.8/dist-packages (from notebook>=4.4.1->widgetsnbextension~=3.6.0->ipywidgets<8.0.0->ax-platform->DeepPurpose) (5.7.1)\n",
            "Requirement already satisfied: ptyprocess>=0.5 in /usr/local/lib/python3.8/dist-packages (from pexpect->ipython>=4.0.0->ipywidgets<8.0.0->ax-platform->DeepPurpose) (0.7.0)\n",
            "Requirement already satisfied: platformdirs>=2.5 in /usr/local/lib/python3.8/dist-packages (from jupyter-core>=4.4.0->notebook>=4.4.1->widgetsnbextension~=3.6.0->ipywidgets<8.0.0->ax-platform->DeepPurpose) (2.6.0)\n",
            "Requirement already satisfied: pandocfilters>=1.4.1 in /usr/local/lib/python3.8/dist-packages (from nbconvert<6.0->notebook>=4.4.1->widgetsnbextension~=3.6.0->ipywidgets<8.0.0->ax-platform->DeepPurpose) (1.5.0)\n",
            "Requirement already satisfied: mistune<2,>=0.8.1 in /usr/local/lib/python3.8/dist-packages (from nbconvert<6.0->notebook>=4.4.1->widgetsnbextension~=3.6.0->ipywidgets<8.0.0->ax-platform->DeepPurpose) (0.8.4)\n",
            "Requirement already satisfied: entrypoints>=0.2.2 in /usr/local/lib/python3.8/dist-packages (from nbconvert<6.0->notebook>=4.4.1->widgetsnbextension~=3.6.0->ipywidgets<8.0.0->ax-platform->DeepPurpose) (0.4)\n",
            "Requirement already satisfied: bleach in /usr/local/lib/python3.8/dist-packages (from nbconvert<6.0->notebook>=4.4.1->widgetsnbextension~=3.6.0->ipywidgets<8.0.0->ax-platform->DeepPurpose) (5.0.1)\n",
            "Requirement already satisfied: defusedxml in /usr/local/lib/python3.8/dist-packages (from nbconvert<6.0->notebook>=4.4.1->widgetsnbextension~=3.6.0->ipywidgets<8.0.0->ax-platform->DeepPurpose) (0.7.1)\n",
            "Requirement already satisfied: testpath in /usr/local/lib/python3.8/dist-packages (from nbconvert<6.0->notebook>=4.4.1->widgetsnbextension~=3.6.0->ipywidgets<8.0.0->ax-platform->DeepPurpose) (0.6.0)\n",
            "Requirement already satisfied: fastjsonschema in /usr/local/lib/python3.8/dist-packages (from nbformat->notebook>=4.4.1->widgetsnbextension~=3.6.0->ipywidgets<8.0.0->ax-platform->DeepPurpose) (2.16.2)\n",
            "Requirement already satisfied: jsonschema>=2.6 in /usr/local/lib/python3.8/dist-packages (from nbformat->notebook>=4.4.1->widgetsnbextension~=3.6.0->ipywidgets<8.0.0->ax-platform->DeepPurpose) (4.3.3)\n",
            "Requirement already satisfied: attrs>=17.4.0 in /usr/local/lib/python3.8/dist-packages (from jsonschema>=2.6->nbformat->notebook>=4.4.1->widgetsnbextension~=3.6.0->ipywidgets<8.0.0->ax-platform->DeepPurpose) (22.2.0)\n",
            "Requirement already satisfied: importlib-resources>=1.4.0 in /usr/local/lib/python3.8/dist-packages (from jsonschema>=2.6->nbformat->notebook>=4.4.1->widgetsnbextension~=3.6.0->ipywidgets<8.0.0->ax-platform->DeepPurpose) (5.10.1)\n",
            "Requirement already satisfied: pyrsistent!=0.17.0,!=0.17.1,!=0.17.2,>=0.14.0 in /usr/local/lib/python3.8/dist-packages (from jsonschema>=2.6->nbformat->notebook>=4.4.1->widgetsnbextension~=3.6.0->ipywidgets<8.0.0->ax-platform->DeepPurpose) (0.19.2)\n",
            "Requirement already satisfied: webencodings in /usr/local/lib/python3.8/dist-packages (from bleach->nbconvert<6.0->notebook>=4.4.1->widgetsnbextension~=3.6.0->ipywidgets<8.0.0->ax-platform->DeepPurpose) (0.5.1)\n",
            "Building wheels for collected packages: DeepPurpose, wget, autograd-gamma\n",
            "  Building wheel for DeepPurpose (setup.py) ... \u001b[?25l\u001b[?25hdone\n",
            "  Created wheel for DeepPurpose: filename=DeepPurpose-0.1.5-py3-none-any.whl size=155676 sha256=c8a77b3dcbf70cba8a9eebc844d95d4ed08440afb8c3b167fb96d23229ac6833\n",
            "  Stored in directory: /root/.cache/pip/wheels/ad/7e/54/6b67734d7d19c420b501c50a81105ffd01624f4de49eb42b9f\n",
            "  Building wheel for wget (setup.py) ... \u001b[?25l\u001b[?25hdone\n",
            "  Created wheel for wget: filename=wget-3.2-py3-none-any.whl size=9674 sha256=78bed105f4eb10af704dfe9f1bec432329d8906675eb78895e90069bd86d733a\n",
            "  Stored in directory: /root/.cache/pip/wheels/bd/a8/c3/3cf2c14a1837a4e04bd98631724e81f33f462d86a1d895fae0\n",
            "  Building wheel for autograd-gamma (setup.py) ... \u001b[?25l\u001b[?25hdone\n",
            "  Created wheel for autograd-gamma: filename=autograd_gamma-0.5.0-py3-none-any.whl size=4048 sha256=a009a2cb283a1153da4cda3605101fbcd129a287c8a89987f64201b06ad28001\n",
            "  Stored in directory: /root/.cache/pip/wheels/16/a2/b6/582cfdfbeeccd469504a01af3bb952fd9e7eccba40995eafea\n",
            "Successfully built DeepPurpose wget autograd-gamma\n",
            "Installing collected packages: wget, pyro-api, mock, lazy-loader, jedi, interface-meta, graphlib-backport, subword-nmt, pytorch-ignite, pyro-ppl, linear-operator, autograd-gamma, gpytorch, formulaic, dgllife, pandas-flavor, lifelines, botorch, ax-platform, DeepPurpose\n",
            "Successfully installed DeepPurpose-0.1.5 autograd-gamma-0.5.0 ax-platform-0.2.10 botorch-0.8.0 dgllife-0.3.1 formulaic-0.5.2 gpytorch-1.9.0 graphlib-backport-1.0.3 interface-meta-1.3.0 jedi-0.18.2 lazy-loader-0.1rc2 lifelines-0.27.4 linear-operator-0.2.0 mock-5.0.0 pandas-flavor-0.3.0 pyro-api-0.1.2 pyro-ppl-1.8.4 pytorch-ignite-0.4.10 subword-nmt-0.3.8 wget-3.2\n"
          ]
        }
      ]
    },
    {
      "cell_type": "code",
      "source": [
        "!pip install git+https://github.com/bp-kelley/descriptastorus\n",
        "!pip install pandas-flavor"
      ],
      "metadata": {
        "colab": {
          "base_uri": "https://localhost:8080/"
        },
        "id": "OhiOeUBWYAh2",
        "outputId": "58c71e91-8920-4525-fd92-af8b0a03e11d"
      },
      "execution_count": 4,
      "outputs": [
        {
          "output_type": "stream",
          "name": "stdout",
          "text": [
            "Looking in indexes: https://pypi.org/simple, https://us-python.pkg.dev/colab-wheels/public/simple/\n",
            "Collecting git+https://github.com/bp-kelley/descriptastorus\n",
            "  Cloning https://github.com/bp-kelley/descriptastorus to /tmp/pip-req-build-rmp7ncvq\n",
            "  Running command git clone --filter=blob:none --quiet https://github.com/bp-kelley/descriptastorus /tmp/pip-req-build-rmp7ncvq\n",
            "  Resolved https://github.com/bp-kelley/descriptastorus to commit 86eedc60546abe6f59cdbcb12025a61157ba178d\n",
            "  Preparing metadata (setup.py) ... \u001b[?25l\u001b[?25hdone\n",
            "Requirement already satisfied: pandas_flavor in /usr/local/lib/python3.8/dist-packages (from descriptastorus==2.5.0.20) (0.3.0)\n",
            "Requirement already satisfied: rdkit in /usr/local/lib/python3.8/dist-packages (from descriptastorus==2.5.0.20) (2022.9.3)\n",
            "Requirement already satisfied: pandas>=0.23 in /usr/local/lib/python3.8/dist-packages (from pandas_flavor->descriptastorus==2.5.0.20) (1.3.5)\n",
            "Requirement already satisfied: xarray in /usr/local/lib/python3.8/dist-packages (from pandas_flavor->descriptastorus==2.5.0.20) (2022.12.0)\n",
            "Requirement already satisfied: lazy-loader==0.1rc2 in /usr/local/lib/python3.8/dist-packages (from pandas_flavor->descriptastorus==2.5.0.20) (0.1rc2)\n",
            "Requirement already satisfied: Pillow in /usr/local/lib/python3.8/dist-packages (from rdkit->descriptastorus==2.5.0.20) (7.1.2)\n",
            "Requirement already satisfied: numpy in /usr/local/lib/python3.8/dist-packages (from rdkit->descriptastorus==2.5.0.20) (1.21.6)\n",
            "Requirement already satisfied: pytz>=2017.3 in /usr/local/lib/python3.8/dist-packages (from pandas>=0.23->pandas_flavor->descriptastorus==2.5.0.20) (2022.7)\n",
            "Requirement already satisfied: python-dateutil>=2.7.3 in /usr/local/lib/python3.8/dist-packages (from pandas>=0.23->pandas_flavor->descriptastorus==2.5.0.20) (2.8.2)\n",
            "Requirement already satisfied: packaging>=21.3 in /usr/local/lib/python3.8/dist-packages (from xarray->pandas_flavor->descriptastorus==2.5.0.20) (21.3)\n",
            "Requirement already satisfied: pyparsing!=3.0.5,>=2.0.2 in /usr/local/lib/python3.8/dist-packages (from packaging>=21.3->xarray->pandas_flavor->descriptastorus==2.5.0.20) (3.0.9)\n",
            "Requirement already satisfied: six>=1.5 in /usr/local/lib/python3.8/dist-packages (from python-dateutil>=2.7.3->pandas>=0.23->pandas_flavor->descriptastorus==2.5.0.20) (1.15.0)\n",
            "Building wheels for collected packages: descriptastorus\n",
            "  Building wheel for descriptastorus (setup.py) ... \u001b[?25l\u001b[?25hdone\n",
            "  Created wheel for descriptastorus: filename=descriptastorus-2.5.0.20-py3-none-any.whl size=1083449 sha256=acf57b2b039897eb063cd579f188a48b994c7f102ce6c01c44149a3862a4f0e1\n",
            "  Stored in directory: /tmp/pip-ephem-wheel-cache-stsrfnzc/wheels/45/d6/37/fe624913d6e54388bccce05360ccd443eeb01defda346642c2\n",
            "Successfully built descriptastorus\n",
            "Installing collected packages: descriptastorus\n",
            "Successfully installed descriptastorus-2.5.0.20\n",
            "Looking in indexes: https://pypi.org/simple, https://us-python.pkg.dev/colab-wheels/public/simple/\n",
            "Requirement already satisfied: pandas-flavor in /usr/local/lib/python3.8/dist-packages (0.3.0)\n",
            "Requirement already satisfied: pandas>=0.23 in /usr/local/lib/python3.8/dist-packages (from pandas-flavor) (1.3.5)\n",
            "Requirement already satisfied: xarray in /usr/local/lib/python3.8/dist-packages (from pandas-flavor) (2022.12.0)\n",
            "Requirement already satisfied: lazy-loader==0.1rc2 in /usr/local/lib/python3.8/dist-packages (from pandas-flavor) (0.1rc2)\n",
            "Requirement already satisfied: python-dateutil>=2.7.3 in /usr/local/lib/python3.8/dist-packages (from pandas>=0.23->pandas-flavor) (2.8.2)\n",
            "Requirement already satisfied: numpy>=1.17.3 in /usr/local/lib/python3.8/dist-packages (from pandas>=0.23->pandas-flavor) (1.21.6)\n",
            "Requirement already satisfied: pytz>=2017.3 in /usr/local/lib/python3.8/dist-packages (from pandas>=0.23->pandas-flavor) (2022.7)\n",
            "Requirement already satisfied: packaging>=21.3 in /usr/local/lib/python3.8/dist-packages (from xarray->pandas-flavor) (21.3)\n",
            "Requirement already satisfied: pyparsing!=3.0.5,>=2.0.2 in /usr/local/lib/python3.8/dist-packages (from packaging>=21.3->xarray->pandas-flavor) (3.0.9)\n",
            "Requirement already satisfied: six>=1.5 in /usr/local/lib/python3.8/dist-packages (from python-dateutil>=2.7.3->pandas>=0.23->pandas-flavor) (1.15.0)\n"
          ]
        }
      ]
    },
    {
      "cell_type": "code",
      "source": [
        "import ss_utils\n",
        "from DeepPurpose import utils, CompoundPred\n",
        "from tdc.single_pred import ADME\n",
        "import DeepPurpose.DTI as models\n",
        "from DeepPurpose.utils import *\n",
        "from DeepPurpose.dataset import *"
      ],
      "metadata": {
        "id": "xeZEG64Xlh4c"
      },
      "execution_count": 59,
      "outputs": []
    },
    {
      "cell_type": "code",
      "source": [
        "data_whole = ADME(name = 'Bioavailability_Ma')\n",
        "# data_whole = ADME(name = 'HIA_Hou')"
      ],
      "metadata": {
        "colab": {
          "base_uri": "https://localhost:8080/"
        },
        "id": "jVzTNWgxlwlC",
        "outputId": "2b05c32c-82f8-48f6-97ca-8419b105f5b8"
      },
      "execution_count": 35,
      "outputs": [
        {
          "output_type": "stream",
          "name": "stderr",
          "text": [
            "Found local copy...\n",
            "Loading...\n",
            "Done!\n"
          ]
        }
      ]
    },
    {
      "cell_type": "code",
      "source": [
        "# data = ADME(name = 'HIA_Hou').get_data(format = 'dict')\n",
        "# X, y = data['Drug'], data['Y']"
      ],
      "metadata": {
        "colab": {
          "base_uri": "https://localhost:8080/"
        },
        "id": "NWI6_U13T5Bk",
        "outputId": "cb552452-5190-4e61-ab21-56bb046c2219"
      },
      "execution_count": 7,
      "outputs": [
        {
          "output_type": "stream",
          "name": "stderr",
          "text": [
            "Downloading...\n",
            "100%|██████████| 40.1k/40.1k [00:00<00:00, 2.15MiB/s]\n",
            "Loading...\n",
            "Done!\n"
          ]
        }
      ]
    },
    {
      "cell_type": "code",
      "source": [
        "X, y = ADME(name = 'Bioavailability_Ma').get_data(format = 'DeepPurpose')"
      ],
      "metadata": {
        "colab": {
          "base_uri": "https://localhost:8080/"
        },
        "id": "1w24TJm9WR8I",
        "outputId": "07a3f765-25de-48ea-8a64-d2a9f3f63352"
      },
      "execution_count": 140,
      "outputs": [
        {
          "output_type": "stream",
          "name": "stderr",
          "text": [
            "Found local copy...\n",
            "Loading...\n",
            "Done!\n"
          ]
        }
      ]
    },
    {
      "cell_type": "code",
      "source": [
        "drug_encoding_name = 'Transformer' #'Transformer'   'MPNN'\n",
        "train, val, test = utils.data_process(X_drug = X,\n",
        "                                      y = y, \n",
        "                                      drug_encoding = drug_encoding_name,\n",
        "                                      # target_encoding = drug_encoding_name,\n",
        "                                      random_seed = 'TDC')"
      ],
      "metadata": {
        "colab": {
          "base_uri": "https://localhost:8080/"
        },
        "id": "JoFLbSa5WC4F",
        "outputId": "5eee59ab-cb0a-4d19-c804-a19733c4ac26"
      },
      "execution_count": 9,
      "outputs": [
        {
          "output_type": "stream",
          "name": "stdout",
          "text": [
            "Drug Property Prediction Mode...\n",
            "in total: 578 drugs\n",
            "encoding drug...\n",
            "unique drugs: 578\n",
            "Done.\n"
          ]
        }
      ]
    },
    {
      "cell_type": "code",
      "source": [
        "train.head()"
      ],
      "metadata": {
        "colab": {
          "base_uri": "https://localhost:8080/",
          "height": 206
        },
        "id": "2aaqUH8hVtHr",
        "outputId": "4b5ddcc2-5f9e-469c-b55b-12cbc6c6a091"
      },
      "execution_count": 10,
      "outputs": [
        {
          "output_type": "execute_result",
          "data": {
            "text/plain": [
              "                                              SMILES  Label  \\\n",
              "0                                    CC(=O)Nc1ccccc1      1   \n",
              "1                         CC(=O)Nc1nnc(S(N)(=O)=O)s1      1   \n",
              "2  C=C1/C(=C\\C=C2/CCC[C@]3(C)[C@@H]2CC[C@H]3[C@@H...      1   \n",
              "3                    Cc1c(N(C)C)c(=N)n(-c2ccccc2)n1C      1   \n",
              "4  COc1ccc(CCN2CCC(Nc3nc4ccccc4n3Cc3ccc(F)cc3)CC2...      1   \n",
              "\n",
              "                                       drug_encoding  \n",
              "0  ([184, 201, 0, 0, 0, 0, 0, 0, 0, 0, 0, 0, 0, 0...  \n",
              "1  ([184, 1000, 22, 763, 1049, 640, 0, 0, 0, 0, 0...  \n",
              "2  ([43, 955, 315, 150, 142, 643, 103, 1013, 525,...  \n",
              "3  ([218, 343, 107, 71, 236, 567, 35, 265, 804, 0...  \n",
              "4  ([271, 94, 452, 367, 1339, 1133, 458, 697, 579...  "
            ],
            "text/html": [
              "\n",
              "  <div id=\"df-a1e48a54-bada-4520-ac04-5af74dd50294\">\n",
              "    <div class=\"colab-df-container\">\n",
              "      <div>\n",
              "<style scoped>\n",
              "    .dataframe tbody tr th:only-of-type {\n",
              "        vertical-align: middle;\n",
              "    }\n",
              "\n",
              "    .dataframe tbody tr th {\n",
              "        vertical-align: top;\n",
              "    }\n",
              "\n",
              "    .dataframe thead th {\n",
              "        text-align: right;\n",
              "    }\n",
              "</style>\n",
              "<table border=\"1\" class=\"dataframe\">\n",
              "  <thead>\n",
              "    <tr style=\"text-align: right;\">\n",
              "      <th></th>\n",
              "      <th>SMILES</th>\n",
              "      <th>Label</th>\n",
              "      <th>drug_encoding</th>\n",
              "    </tr>\n",
              "  </thead>\n",
              "  <tbody>\n",
              "    <tr>\n",
              "      <th>0</th>\n",
              "      <td>CC(=O)Nc1ccccc1</td>\n",
              "      <td>1</td>\n",
              "      <td>([184, 201, 0, 0, 0, 0, 0, 0, 0, 0, 0, 0, 0, 0...</td>\n",
              "    </tr>\n",
              "    <tr>\n",
              "      <th>1</th>\n",
              "      <td>CC(=O)Nc1nnc(S(N)(=O)=O)s1</td>\n",
              "      <td>1</td>\n",
              "      <td>([184, 1000, 22, 763, 1049, 640, 0, 0, 0, 0, 0...</td>\n",
              "    </tr>\n",
              "    <tr>\n",
              "      <th>2</th>\n",
              "      <td>C=C1/C(=C\\C=C2/CCC[C@]3(C)[C@@H]2CC[C@H]3[C@@H...</td>\n",
              "      <td>1</td>\n",
              "      <td>([43, 955, 315, 150, 142, 643, 103, 1013, 525,...</td>\n",
              "    </tr>\n",
              "    <tr>\n",
              "      <th>3</th>\n",
              "      <td>Cc1c(N(C)C)c(=N)n(-c2ccccc2)n1C</td>\n",
              "      <td>1</td>\n",
              "      <td>([218, 343, 107, 71, 236, 567, 35, 265, 804, 0...</td>\n",
              "    </tr>\n",
              "    <tr>\n",
              "      <th>4</th>\n",
              "      <td>COc1ccc(CCN2CCC(Nc3nc4ccccc4n3Cc3ccc(F)cc3)CC2...</td>\n",
              "      <td>1</td>\n",
              "      <td>([271, 94, 452, 367, 1339, 1133, 458, 697, 579...</td>\n",
              "    </tr>\n",
              "  </tbody>\n",
              "</table>\n",
              "</div>\n",
              "      <button class=\"colab-df-convert\" onclick=\"convertToInteractive('df-a1e48a54-bada-4520-ac04-5af74dd50294')\"\n",
              "              title=\"Convert this dataframe to an interactive table.\"\n",
              "              style=\"display:none;\">\n",
              "        \n",
              "  <svg xmlns=\"http://www.w3.org/2000/svg\" height=\"24px\"viewBox=\"0 0 24 24\"\n",
              "       width=\"24px\">\n",
              "    <path d=\"M0 0h24v24H0V0z\" fill=\"none\"/>\n",
              "    <path d=\"M18.56 5.44l.94 2.06.94-2.06 2.06-.94-2.06-.94-.94-2.06-.94 2.06-2.06.94zm-11 1L8.5 8.5l.94-2.06 2.06-.94-2.06-.94L8.5 2.5l-.94 2.06-2.06.94zm10 10l.94 2.06.94-2.06 2.06-.94-2.06-.94-.94-2.06-.94 2.06-2.06.94z\"/><path d=\"M17.41 7.96l-1.37-1.37c-.4-.4-.92-.59-1.43-.59-.52 0-1.04.2-1.43.59L10.3 9.45l-7.72 7.72c-.78.78-.78 2.05 0 2.83L4 21.41c.39.39.9.59 1.41.59.51 0 1.02-.2 1.41-.59l7.78-7.78 2.81-2.81c.8-.78.8-2.07 0-2.86zM5.41 20L4 18.59l7.72-7.72 1.47 1.35L5.41 20z\"/>\n",
              "  </svg>\n",
              "      </button>\n",
              "      \n",
              "  <style>\n",
              "    .colab-df-container {\n",
              "      display:flex;\n",
              "      flex-wrap:wrap;\n",
              "      gap: 12px;\n",
              "    }\n",
              "\n",
              "    .colab-df-convert {\n",
              "      background-color: #E8F0FE;\n",
              "      border: none;\n",
              "      border-radius: 50%;\n",
              "      cursor: pointer;\n",
              "      display: none;\n",
              "      fill: #1967D2;\n",
              "      height: 32px;\n",
              "      padding: 0 0 0 0;\n",
              "      width: 32px;\n",
              "    }\n",
              "\n",
              "    .colab-df-convert:hover {\n",
              "      background-color: #E2EBFA;\n",
              "      box-shadow: 0px 1px 2px rgba(60, 64, 67, 0.3), 0px 1px 3px 1px rgba(60, 64, 67, 0.15);\n",
              "      fill: #174EA6;\n",
              "    }\n",
              "\n",
              "    [theme=dark] .colab-df-convert {\n",
              "      background-color: #3B4455;\n",
              "      fill: #D2E3FC;\n",
              "    }\n",
              "\n",
              "    [theme=dark] .colab-df-convert:hover {\n",
              "      background-color: #434B5C;\n",
              "      box-shadow: 0px 1px 3px 1px rgba(0, 0, 0, 0.15);\n",
              "      filter: drop-shadow(0px 1px 2px rgba(0, 0, 0, 0.3));\n",
              "      fill: #FFFFFF;\n",
              "    }\n",
              "  </style>\n",
              "\n",
              "      <script>\n",
              "        const buttonEl =\n",
              "          document.querySelector('#df-a1e48a54-bada-4520-ac04-5af74dd50294 button.colab-df-convert');\n",
              "        buttonEl.style.display =\n",
              "          google.colab.kernel.accessAllowed ? 'block' : 'none';\n",
              "\n",
              "        async function convertToInteractive(key) {\n",
              "          const element = document.querySelector('#df-a1e48a54-bada-4520-ac04-5af74dd50294');\n",
              "          const dataTable =\n",
              "            await google.colab.kernel.invokeFunction('convertToInteractive',\n",
              "                                                     [key], {});\n",
              "          if (!dataTable) return;\n",
              "\n",
              "          const docLinkHtml = 'Like what you see? Visit the ' +\n",
              "            '<a target=\"_blank\" href=https://colab.research.google.com/notebooks/data_table.ipynb>data table notebook</a>'\n",
              "            + ' to learn more about interactive tables.';\n",
              "          element.innerHTML = '';\n",
              "          dataTable['output_type'] = 'display_data';\n",
              "          await google.colab.output.renderOutput(dataTable, element);\n",
              "          const docLink = document.createElement('div');\n",
              "          docLink.innerHTML = docLinkHtml;\n",
              "          element.appendChild(docLink);\n",
              "        }\n",
              "      </script>\n",
              "    </div>\n",
              "  </div>\n",
              "  "
            ]
          },
          "metadata": {},
          "execution_count": 10
        }
      ]
    },
    {
      "cell_type": "code",
      "source": [
        "len(train['drug_encoding'][120][0])"
      ],
      "metadata": {
        "colab": {
          "base_uri": "https://localhost:8080/"
        },
        "id": "R5P9q9aInWNN",
        "outputId": "c5d5f186-4974-4976-996e-22293cfa00b5"
      },
      "execution_count": 41,
      "outputs": [
        {
          "output_type": "execute_result",
          "data": {
            "text/plain": [
              "50"
            ]
          },
          "metadata": {},
          "execution_count": 41
        }
      ]
    },
    {
      "cell_type": "code",
      "source": [
        "config = utils.generate_config(drug_encoding = drug_encoding_name, \n",
        "                        #  target_encoding = drug_encoding_name, \n",
        "                         cls_hidden_dims = [1024,1024,512], \n",
        "                         train_epoch = 100, \n",
        "                         LR = 0.001, \n",
        "                         batch_size = 256\n",
        "                        )"
      ],
      "metadata": {
        "id": "7_9Olg30cBIo"
      },
      "execution_count": 11,
      "outputs": []
    },
    {
      "cell_type": "code",
      "source": [
        "#model = models.model_initialize(**config)\n",
        "model = CompoundPred.model_initialize(**config)\n",
        "model"
      ],
      "metadata": {
        "colab": {
          "base_uri": "https://localhost:8080/"
        },
        "id": "zJLQkEfJcBOh",
        "outputId": "61d63318-124f-491b-fc61-721e9c03a6f4"
      },
      "execution_count": 12,
      "outputs": [
        {
          "output_type": "execute_result",
          "data": {
            "text/plain": [
              "<DeepPurpose.CompoundPred.Property_Prediction at 0x7f17b6296520>"
            ]
          },
          "metadata": {},
          "execution_count": 12
        }
      ]
    },
    {
      "cell_type": "code",
      "source": [
        "model.train(train, val, test)"
      ],
      "metadata": {
        "colab": {
          "base_uri": "https://localhost:8080/",
          "height": 1000
        },
        "id": "EZoZWOwOkB13",
        "outputId": "3bb8485e-2e1e-41ec-a387-c0343048da52"
      },
      "execution_count": 13,
      "outputs": [
        {
          "output_type": "stream",
          "name": "stdout",
          "text": [
            "Let's use 1 GPU!\n",
            "--- Data Preparation ---\n",
            "--- Go for Training ---\n",
            "Training at Epoch 1 iteration 0 with loss 0.68724. Total time 0.00083 hours\n",
            "Validation at Epoch 1 , AUROC: 0.68627 , AUPRC: 0.88238 , F1: 0.93577\n",
            "Training at Epoch 2 iteration 0 with loss 0.43694. Total time 0.00083 hours\n",
            "Validation at Epoch 2 , AUROC: 0.48179 , AUPRC: 0.86735 , F1: 0.93577\n",
            "Training at Epoch 3 iteration 0 with loss 0.42101. Total time 0.00083 hours\n",
            "Validation at Epoch 3 , AUROC: 0.52100 , AUPRC: 0.88877 , F1: 0.93577\n",
            "Training at Epoch 4 iteration 0 with loss 0.40649. Total time 0.00111 hours\n",
            "Validation at Epoch 4 , AUROC: 0.78991 , AUPRC: 0.96441 , F1: 0.93577\n",
            "Training at Epoch 5 iteration 0 with loss 0.41946. Total time 0.00111 hours\n",
            "Validation at Epoch 5 , AUROC: 0.59943 , AUPRC: 0.93182 , F1: 0.93577\n",
            "Training at Epoch 6 iteration 0 with loss 0.42961. Total time 0.00111 hours\n",
            "Validation at Epoch 6 , AUROC: 0.55182 , AUPRC: 0.91585 , F1: 0.93577\n",
            "Training at Epoch 7 iteration 0 with loss 0.42853. Total time 0.00111 hours\n",
            "Validation at Epoch 7 , AUROC: 0.62464 , AUPRC: 0.91661 , F1: 0.93577\n",
            "Training at Epoch 8 iteration 0 with loss 0.41902. Total time 0.00138 hours\n",
            "Validation at Epoch 8 , AUROC: 0.60224 , AUPRC: 0.90405 , F1: 0.93577\n",
            "Training at Epoch 9 iteration 0 with loss 0.41311. Total time 0.00138 hours\n",
            "Validation at Epoch 9 , AUROC: 0.63725 , AUPRC: 0.91573 , F1: 0.93577\n",
            "Training at Epoch 10 iteration 0 with loss 0.40947. Total time 0.00138 hours\n",
            "Validation at Epoch 10 , AUROC: 0.67226 , AUPRC: 0.92764 , F1: 0.93577\n",
            "Training at Epoch 11 iteration 0 with loss 0.43445. Total time 0.00138 hours\n",
            "Validation at Epoch 11 , AUROC: 0.70588 , AUPRC: 0.93417 , F1: 0.93577\n",
            "Training at Epoch 12 iteration 0 with loss 0.44162. Total time 0.00166 hours\n",
            "Validation at Epoch 12 , AUROC: 0.67787 , AUPRC: 0.92076 , F1: 0.93577\n",
            "Training at Epoch 13 iteration 0 with loss 0.41023. Total time 0.00166 hours\n",
            "Validation at Epoch 13 , AUROC: 0.68347 , AUPRC: 0.92177 , F1: 0.93577\n",
            "Training at Epoch 14 iteration 0 with loss 0.40464. Total time 0.00166 hours\n",
            "Validation at Epoch 14 , AUROC: 0.68907 , AUPRC: 0.93167 , F1: 0.93577\n",
            "Training at Epoch 15 iteration 0 with loss 0.39827. Total time 0.00166 hours\n",
            "Validation at Epoch 15 , AUROC: 0.69467 , AUPRC: 0.93303 , F1: 0.93577\n",
            "Training at Epoch 16 iteration 0 with loss 0.41522. Total time 0.00194 hours\n",
            "Validation at Epoch 16 , AUROC: 0.70028 , AUPRC: 0.93460 , F1: 0.93577\n",
            "Training at Epoch 17 iteration 0 with loss 0.42233. Total time 0.00194 hours\n",
            "Validation at Epoch 17 , AUROC: 0.70588 , AUPRC: 0.93943 , F1: 0.93577\n",
            "Training at Epoch 18 iteration 0 with loss 0.38650. Total time 0.00194 hours\n",
            "Validation at Epoch 18 , AUROC: 0.70868 , AUPRC: 0.93767 , F1: 0.93577\n",
            "Training at Epoch 19 iteration 0 with loss 0.39990. Total time 0.00194 hours\n",
            "Validation at Epoch 19 , AUROC: 0.71988 , AUPRC: 0.94041 , F1: 0.93577\n",
            "Training at Epoch 20 iteration 0 with loss 0.44713. Total time 0.00222 hours\n",
            "Validation at Epoch 20 , AUROC: 0.72268 , AUPRC: 0.94446 , F1: 0.93577\n",
            "Training at Epoch 21 iteration 0 with loss 0.37529. Total time 0.00222 hours\n",
            "Validation at Epoch 21 , AUROC: 0.72268 , AUPRC: 0.94559 , F1: 0.93577\n",
            "Training at Epoch 22 iteration 0 with loss 0.43333. Total time 0.00222 hours\n",
            "Validation at Epoch 22 , AUROC: 0.71148 , AUPRC: 0.94184 , F1: 0.93577\n",
            "Training at Epoch 23 iteration 0 with loss 0.38271. Total time 0.00222 hours\n",
            "Validation at Epoch 23 , AUROC: 0.71148 , AUPRC: 0.94151 , F1: 0.93577\n",
            "Training at Epoch 24 iteration 0 with loss 0.42632. Total time 0.00222 hours\n",
            "Validation at Epoch 24 , AUROC: 0.70588 , AUPRC: 0.94066 , F1: 0.93577\n",
            "Training at Epoch 25 iteration 0 with loss 0.40485. Total time 0.0025 hours\n",
            "Validation at Epoch 25 , AUROC: 0.71148 , AUPRC: 0.94407 , F1: 0.93577\n",
            "Training at Epoch 26 iteration 0 with loss 0.40901. Total time 0.0025 hours\n",
            "Validation at Epoch 26 , AUROC: 0.70588 , AUPRC: 0.94281 , F1: 0.93577\n",
            "Training at Epoch 27 iteration 0 with loss 0.41595. Total time 0.0025 hours\n",
            "Validation at Epoch 27 , AUROC: 0.70308 , AUPRC: 0.94196 , F1: 0.93577\n",
            "Training at Epoch 28 iteration 0 with loss 0.41407. Total time 0.0025 hours\n",
            "Validation at Epoch 28 , AUROC: 0.69747 , AUPRC: 0.94177 , F1: 0.93577\n",
            "Training at Epoch 29 iteration 0 with loss 0.40040. Total time 0.00277 hours\n",
            "Validation at Epoch 29 , AUROC: 0.69187 , AUPRC: 0.94103 , F1: 0.93577\n",
            "Training at Epoch 30 iteration 0 with loss 0.40550. Total time 0.00277 hours\n",
            "Validation at Epoch 30 , AUROC: 0.69747 , AUPRC: 0.94316 , F1: 0.93577\n",
            "Training at Epoch 31 iteration 0 with loss 0.40403. Total time 0.00277 hours\n",
            "Validation at Epoch 31 , AUROC: 0.70588 , AUPRC: 0.94629 , F1: 0.93577\n",
            "Training at Epoch 32 iteration 0 with loss 0.35885. Total time 0.00305 hours\n",
            "Validation at Epoch 32 , AUROC: 0.61904 , AUPRC: 0.91464 , F1: 0.93577\n",
            "Training at Epoch 33 iteration 0 with loss 0.37510. Total time 0.00305 hours\n",
            "Validation at Epoch 33 , AUROC: 0.61344 , AUPRC: 0.91150 , F1: 0.93577\n",
            "Training at Epoch 34 iteration 0 with loss 0.41302. Total time 0.00305 hours\n",
            "Validation at Epoch 34 , AUROC: 0.63305 , AUPRC: 0.92433 , F1: 0.93577\n",
            "Training at Epoch 35 iteration 0 with loss 0.41835. Total time 0.00305 hours\n",
            "Validation at Epoch 35 , AUROC: 0.64425 , AUPRC: 0.91873 , F1: 0.93577\n",
            "Training at Epoch 36 iteration 0 with loss 0.27123. Total time 0.00333 hours\n",
            "Validation at Epoch 36 , AUROC: 0.71428 , AUPRC: 0.94493 , F1: 0.93577\n",
            "Training at Epoch 37 iteration 0 with loss 0.32187. Total time 0.00333 hours\n",
            "Validation at Epoch 37 , AUROC: 0.70028 , AUPRC: 0.94265 , F1: 0.93577\n",
            "Training at Epoch 38 iteration 0 with loss 0.27912. Total time 0.00333 hours\n",
            "Validation at Epoch 38 , AUROC: 0.69047 , AUPRC: 0.94179 , F1: 0.93577\n",
            "Training at Epoch 39 iteration 0 with loss 0.45334. Total time 0.00361 hours\n",
            "Validation at Epoch 39 , AUROC: 0.64985 , AUPRC: 0.93366 , F1: 0.93577\n",
            "Training at Epoch 40 iteration 0 with loss 0.41599. Total time 0.00361 hours\n",
            "Validation at Epoch 40 , AUROC: 0.64985 , AUPRC: 0.93201 , F1: 0.93577\n",
            "Training at Epoch 41 iteration 0 with loss 0.45441. Total time 0.00388 hours\n",
            "Validation at Epoch 41 , AUROC: 0.63585 , AUPRC: 0.92742 , F1: 0.93577\n",
            "Training at Epoch 42 iteration 0 with loss 0.42169. Total time 0.00388 hours\n",
            "Validation at Epoch 42 , AUROC: 0.59943 , AUPRC: 0.89944 , F1: 0.93577\n",
            "Training at Epoch 43 iteration 0 with loss 0.39143. Total time 0.00416 hours\n",
            "Validation at Epoch 43 , AUROC: 0.51820 , AUPRC: 0.88122 , F1: 0.93577\n",
            "Training at Epoch 44 iteration 0 with loss 0.46126. Total time 0.00416 hours\n",
            "Validation at Epoch 44 , AUROC: 0.46358 , AUPRC: 0.86118 , F1: 0.93577\n",
            "Training at Epoch 45 iteration 0 with loss 0.41572. Total time 0.00444 hours\n",
            "Validation at Epoch 45 , AUROC: 0.44957 , AUPRC: 0.86462 , F1: 0.93577\n",
            "Training at Epoch 46 iteration 0 with loss 0.41683. Total time 0.00444 hours\n",
            "Validation at Epoch 46 , AUROC: 0.46078 , AUPRC: 0.86629 , F1: 0.93577\n",
            "Training at Epoch 47 iteration 0 with loss 0.42100. Total time 0.00444 hours\n",
            "Validation at Epoch 47 , AUROC: 0.56302 , AUPRC: 0.89551 , F1: 0.93577\n",
            "Training at Epoch 48 iteration 0 with loss 0.42659. Total time 0.00472 hours\n",
            "Validation at Epoch 48 , AUROC: 0.50280 , AUPRC: 0.87920 , F1: 0.93577\n",
            "Training at Epoch 49 iteration 0 with loss 0.39547. Total time 0.00472 hours\n",
            "Validation at Epoch 49 , AUROC: 0.48179 , AUPRC: 0.87727 , F1: 0.93577\n",
            "Training at Epoch 50 iteration 0 with loss 0.35556. Total time 0.00472 hours\n",
            "Validation at Epoch 50 , AUROC: 0.45098 , AUPRC: 0.87013 , F1: 0.93577\n",
            "Training at Epoch 51 iteration 0 with loss 0.43628. Total time 0.005 hours\n",
            "Validation at Epoch 51 , AUROC: 0.47058 , AUPRC: 0.86807 , F1: 0.93577\n",
            "Training at Epoch 52 iteration 0 with loss 0.44493. Total time 0.005 hours\n",
            "Validation at Epoch 52 , AUROC: 0.50280 , AUPRC: 0.87795 , F1: 0.93577\n",
            "Training at Epoch 53 iteration 0 with loss 0.42836. Total time 0.005 hours\n",
            "Validation at Epoch 53 , AUROC: 0.46778 , AUPRC: 0.87069 , F1: 0.93577\n",
            "Training at Epoch 54 iteration 0 with loss 0.39693. Total time 0.005 hours\n",
            "Validation at Epoch 54 , AUROC: 0.56162 , AUPRC: 0.89317 , F1: 0.93577\n",
            "Training at Epoch 55 iteration 0 with loss 0.38910. Total time 0.00527 hours\n",
            "Validation at Epoch 55 , AUROC: 0.48319 , AUPRC: 0.87584 , F1: 0.93577\n",
            "Training at Epoch 56 iteration 0 with loss 0.43036. Total time 0.00527 hours\n",
            "Validation at Epoch 56 , AUROC: 0.55462 , AUPRC: 0.89417 , F1: 0.93577\n",
            "Training at Epoch 57 iteration 0 with loss 0.43290. Total time 0.00527 hours\n",
            "Validation at Epoch 57 , AUROC: 0.48039 , AUPRC: 0.87618 , F1: 0.93577\n",
            "Training at Epoch 58 iteration 0 with loss 0.42317. Total time 0.00527 hours\n",
            "Validation at Epoch 58 , AUROC: 0.56022 , AUPRC: 0.89584 , F1: 0.93577\n",
            "Training at Epoch 59 iteration 0 with loss 0.41262. Total time 0.00555 hours\n",
            "Validation at Epoch 59 , AUROC: 0.54061 , AUPRC: 0.88842 , F1: 0.93577\n",
            "Training at Epoch 60 iteration 0 with loss 0.40078. Total time 0.00555 hours\n",
            "Validation at Epoch 60 , AUROC: 0.54061 , AUPRC: 0.88842 , F1: 0.93577\n",
            "Training at Epoch 61 iteration 0 with loss 0.44222. Total time 0.00555 hours\n",
            "Validation at Epoch 61 , AUROC: 0.47058 , AUPRC: 0.87304 , F1: 0.93577\n",
            "Training at Epoch 62 iteration 0 with loss 0.40599. Total time 0.00555 hours\n",
            "Validation at Epoch 62 , AUROC: 0.56582 , AUPRC: 0.89366 , F1: 0.93577\n",
            "Training at Epoch 63 iteration 0 with loss 0.44037. Total time 0.00583 hours\n",
            "Validation at Epoch 63 , AUROC: 0.47759 , AUPRC: 0.87847 , F1: 0.93577\n",
            "Training at Epoch 64 iteration 0 with loss 0.39828. Total time 0.00583 hours\n",
            "Validation at Epoch 64 , AUROC: 0.47759 , AUPRC: 0.87508 , F1: 0.93577\n",
            "Training at Epoch 65 iteration 0 with loss 0.36473. Total time 0.00583 hours\n",
            "Validation at Epoch 65 , AUROC: 0.49859 , AUPRC: 0.88121 , F1: 0.93577\n",
            "Training at Epoch 66 iteration 0 with loss 0.37470. Total time 0.00583 hours\n",
            "Validation at Epoch 66 , AUROC: 0.50560 , AUPRC: 0.88092 , F1: 0.93577\n",
            "Training at Epoch 67 iteration 0 with loss 0.38794. Total time 0.00583 hours\n",
            "Validation at Epoch 67 , AUROC: 0.43277 , AUPRC: 0.86611 , F1: 0.93577\n",
            "Training at Epoch 68 iteration 0 with loss 0.44589. Total time 0.00611 hours\n",
            "Validation at Epoch 68 , AUROC: 0.52941 , AUPRC: 0.89033 , F1: 0.93577\n",
            "Training at Epoch 69 iteration 0 with loss 0.38248. Total time 0.00611 hours\n",
            "Validation at Epoch 69 , AUROC: 0.53361 , AUPRC: 0.88653 , F1: 0.93577\n",
            "Training at Epoch 70 iteration 0 with loss 0.44359. Total time 0.00611 hours\n",
            "Validation at Epoch 70 , AUROC: 0.44117 , AUPRC: 0.86926 , F1: 0.93577\n",
            "Training at Epoch 71 iteration 0 with loss 0.40447. Total time 0.00611 hours\n",
            "Validation at Epoch 71 , AUROC: 0.57002 , AUPRC: 0.89716 , F1: 0.93577\n",
            "Training at Epoch 72 iteration 0 with loss 0.36169. Total time 0.00638 hours\n",
            "Validation at Epoch 72 , AUROC: 0.54061 , AUPRC: 0.89246 , F1: 0.93577\n",
            "Training at Epoch 73 iteration 0 with loss 0.37570. Total time 0.00638 hours\n",
            "Validation at Epoch 73 , AUROC: 0.55322 , AUPRC: 0.89612 , F1: 0.93577\n",
            "Training at Epoch 74 iteration 0 with loss 0.41451. Total time 0.00638 hours\n",
            "Validation at Epoch 74 , AUROC: 0.39915 , AUPRC: 0.86785 , F1: 0.93577\n",
            "Training at Epoch 75 iteration 0 with loss 0.39313. Total time 0.00638 hours\n",
            "Validation at Epoch 75 , AUROC: 0.40896 , AUPRC: 0.86110 , F1: 0.93577\n",
            "Training at Epoch 76 iteration 0 with loss 0.38536. Total time 0.00666 hours\n",
            "Validation at Epoch 76 , AUROC: 0.55742 , AUPRC: 0.89538 , F1: 0.93577\n",
            "Training at Epoch 77 iteration 0 with loss 0.38887. Total time 0.00666 hours\n",
            "Validation at Epoch 77 , AUROC: 0.56862 , AUPRC: 0.89670 , F1: 0.93577\n",
            "Training at Epoch 78 iteration 0 with loss 0.41841. Total time 0.00666 hours\n",
            "Validation at Epoch 78 , AUROC: 0.45378 , AUPRC: 0.87084 , F1: 0.93577\n",
            "Training at Epoch 79 iteration 0 with loss 0.41656. Total time 0.00666 hours\n",
            "Validation at Epoch 79 , AUROC: 0.44537 , AUPRC: 0.86932 , F1: 0.93577\n",
            "Training at Epoch 80 iteration 0 with loss 0.42978. Total time 0.00694 hours\n",
            "Validation at Epoch 80 , AUROC: 0.43977 , AUPRC: 0.86786 , F1: 0.93577\n",
            "Training at Epoch 81 iteration 0 with loss 0.38579. Total time 0.00694 hours\n",
            "Validation at Epoch 81 , AUROC: 0.46498 , AUPRC: 0.87423 , F1: 0.93577\n",
            "Training at Epoch 82 iteration 0 with loss 0.41336. Total time 0.00694 hours\n",
            "Validation at Epoch 82 , AUROC: 0.57002 , AUPRC: 0.89396 , F1: 0.93577\n",
            "Training at Epoch 83 iteration 0 with loss 0.39389. Total time 0.00694 hours\n",
            "Validation at Epoch 83 , AUROC: 0.44537 , AUPRC: 0.86963 , F1: 0.93577\n",
            "Training at Epoch 84 iteration 0 with loss 0.41377. Total time 0.00722 hours\n",
            "Validation at Epoch 84 , AUROC: 0.49159 , AUPRC: 0.88228 , F1: 0.93577\n",
            "Training at Epoch 85 iteration 0 with loss 0.42237. Total time 0.00722 hours\n",
            "Validation at Epoch 85 , AUROC: 0.48879 , AUPRC: 0.88096 , F1: 0.93577\n",
            "Training at Epoch 86 iteration 0 with loss 0.39241. Total time 0.00722 hours\n",
            "Validation at Epoch 86 , AUROC: 0.54061 , AUPRC: 0.88801 , F1: 0.93577\n",
            "Training at Epoch 87 iteration 0 with loss 0.41358. Total time 0.00722 hours\n",
            "Validation at Epoch 87 , AUROC: 0.51540 , AUPRC: 0.88906 , F1: 0.93577\n",
            "Training at Epoch 88 iteration 0 with loss 0.45589. Total time 0.0075 hours\n",
            "Validation at Epoch 88 , AUROC: 0.50560 , AUPRC: 0.88366 , F1: 0.93577\n",
            "Training at Epoch 89 iteration 0 with loss 0.39535. Total time 0.0075 hours\n",
            "Validation at Epoch 89 , AUROC: 0.53081 , AUPRC: 0.89212 , F1: 0.93577\n",
            "Training at Epoch 90 iteration 0 with loss 0.39943. Total time 0.0075 hours\n",
            "Validation at Epoch 90 , AUROC: 0.50560 , AUPRC: 0.88879 , F1: 0.93577\n",
            "Training at Epoch 91 iteration 0 with loss 0.47265. Total time 0.0075 hours\n",
            "Validation at Epoch 91 , AUROC: 0.50280 , AUPRC: 0.88497 , F1: 0.93577\n",
            "Training at Epoch 92 iteration 0 with loss 0.40293. Total time 0.00777 hours\n",
            "Validation at Epoch 92 , AUROC: 0.54201 , AUPRC: 0.89177 , F1: 0.93577\n",
            "Training at Epoch 93 iteration 0 with loss 0.39105. Total time 0.00777 hours\n",
            "Validation at Epoch 93 , AUROC: 0.44957 , AUPRC: 0.87009 , F1: 0.93577\n",
            "Training at Epoch 94 iteration 0 with loss 0.41707. Total time 0.00777 hours\n",
            "Validation at Epoch 94 , AUROC: 0.58543 , AUPRC: 0.90294 , F1: 0.93577\n",
            "Training at Epoch 95 iteration 0 with loss 0.40109. Total time 0.00777 hours\n",
            "Validation at Epoch 95 , AUROC: 0.49859 , AUPRC: 0.88121 , F1: 0.93577\n",
            "Training at Epoch 96 iteration 0 with loss 0.40806. Total time 0.00805 hours\n",
            "Validation at Epoch 96 , AUROC: 0.50980 , AUPRC: 0.88320 , F1: 0.93577\n",
            "Training at Epoch 97 iteration 0 with loss 0.37171. Total time 0.00805 hours\n",
            "Validation at Epoch 97 , AUROC: 0.48039 , AUPRC: 0.87881 , F1: 0.93577\n",
            "Training at Epoch 98 iteration 0 with loss 0.41020. Total time 0.00805 hours\n",
            "Validation at Epoch 98 , AUROC: 0.46218 , AUPRC: 0.87192 , F1: 0.93577\n",
            "Training at Epoch 99 iteration 0 with loss 0.40427. Total time 0.00805 hours\n",
            "Validation at Epoch 99 , AUROC: 0.42156 , AUPRC: 0.86187 , F1: 0.93577\n",
            "Training at Epoch 100 iteration 0 with loss 0.44405. Total time 0.00805 hours\n",
            "Validation at Epoch 100 , AUROC: 0.45238 , AUPRC: 0.86943 , F1: 0.93577\n",
            "--- Go for Testing ---\n",
            "Testing AUROC: 0.8006600660066007 , AUPRC: 0.9629508313751466 , F1: 0.9308755760368664\n",
            "--- Training Finished ---\n"
          ]
        },
        {
          "output_type": "display_data",
          "data": {
            "text/plain": [
              "<Figure size 432x288 with 1 Axes>"
            ],
            "image/png": "[encoded data removed]"
          },
          "metadata": {
            "needs_background": "light"
          }
        },
        {
          "output_type": "display_data",
          "data": {
            "text/plain": [
              "<Figure size 432x288 with 1 Axes>"
            ],
            "image/png": "[encoded data removed]"
          },
          "metadata": {
            "needs_background": "light"
          }
        },
        {
          "output_type": "display_data",
          "data": {
            "text/plain": [
              "<Figure size 432x288 with 1 Axes>"
            ],
            "image/png": "[encoded data removed]"
          },
          "metadata": {
            "needs_background": "light"
          }
        }
      ]
    },
    {
      "cell_type": "code",
      "source": [],
      "metadata": {
        "id": "RUpmL1KXV6vV"
      },
      "execution_count": 13,
      "outputs": []
    },
    {
      "cell_type": "code",
      "source": [
        "split_whole = data_whole.get_split()"
      ],
      "metadata": {
        "id": "40f_KcJul2Ce"
      },
      "execution_count": 36,
      "outputs": []
    },
    {
      "cell_type": "code",
      "source": [
        "split_whole.keys()"
      ],
      "metadata": {
        "colab": {
          "base_uri": "https://localhost:8080/"
        },
        "id": "cNDae9d9l8I2",
        "outputId": "eb6f1fe1-dede-42a2-c804-a43a79f810ca"
      },
      "execution_count": 37,
      "outputs": [
        {
          "output_type": "execute_result",
          "data": {
            "text/plain": [
              "dict_keys(['train', 'valid', 'test'])"
            ]
          },
          "metadata": {},
          "execution_count": 37
        }
      ]
    },
    {
      "cell_type": "code",
      "source": [
        "train_set = split_whole['train']\n",
        "valid_set = split_whole['valid']\n",
        "test_set = split_whole['test']\n",
        "len(train_set), len(valid_set), len(test_set)"
      ],
      "metadata": {
        "id": "qSMftQWel9MW",
        "colab": {
          "base_uri": "https://localhost:8080/"
        },
        "outputId": "63135012-cf96-4130-94fb-320f15e40f57"
      },
      "execution_count": 38,
      "outputs": [
        {
          "output_type": "execute_result",
          "data": {
            "text/plain": [
              "(448, 64, 128)"
            ]
          },
          "metadata": {},
          "execution_count": 38
        }
      ]
    },
    {
      "cell_type": "code",
      "source": [
        "train_set.head(20)"
      ],
      "metadata": {
        "colab": {
          "base_uri": "https://localhost:8080/",
          "height": 676
        },
        "id": "pEWkL56nl_Tj",
        "outputId": "8473c534-edef-4546-f3c8-6d51e312c3b8"
      },
      "execution_count": 39,
      "outputs": [
        {
          "output_type": "execute_result",
          "data": {
            "text/plain": [
              "         Drug_ID                                               Drug  Y\n",
              "0    Dimercaprol                                           OCC(S)CS  0\n",
              "1    Edrophonium                            CC[N+](C)(C)c1cccc(O)c1  0\n",
              "2     Vidarabine   Nc1ncnc2c1ncn2[C@@H]1O[C@H](CO)[C@@H](O)[C@@H]1O  0\n",
              "3    Cefacetrile  CC(=O)OCC1=C(C(=O)O)N2C(=O)[C@@H](NC(=O)CC#N)[...  0\n",
              "4    Ticarcillin  CC1(C)S[C@@H]2[C@H](NC(=O)[C@H](C(=O)O)c3ccsc3...  0\n",
              "5      Cefoxitin  CO[C@@]1(NC(=O)Cc2cccs2)C(=O)N2C(C(=O)O)=C(COC...  0\n",
              "6    Ceftazidime  CC(C)(O/N=C(\\C(=O)N[C@@H]1C(=O)N2C(C(=O)[O-])=...  0\n",
              "7      Arbekacin  NCC[C@H](O)C(=O)N[C@@H]1C[C@H](N)[C@@H](O[C@H]...  0\n",
              "8    Ceftriaxone  CO/N=C(\\C(=O)N[C@@H]1C(=O)N2C(C(=O)O)=C(CSc3nc...  0\n",
              "9     Epirubicin  COc1cccc2c1C(=O)c1c(O)c3c(c(O)c1C2=O)C[C@@](O)...  0\n",
              "10    Vecuronium  CC(=O)O[C@H]1C[C@@H]2CC[C@@H]3[C@H](CC[C@@]4(C...  0\n",
              "11   Pancuronium  CC(=O)O[C@H]1C[C@@H]2CC[C@@H]3[C@H](CC[C@@]4(C...  0\n",
              "12    Cefodizime  CO/N=C(\\C(=O)N[C@@H]1C(=O)N2C(C(=O)O)=C(CSc3nc...  0\n",
              "13      Amikacin  NCC[C@H](O)C(=O)N[C@@H]1C[C@H](N)[C@@H](O[C@H]...  0\n",
              "14    Alcuronium  C=CC[N@@+]12CC[C@@]34c5ccccc5N5/C=C6/[C@H]7C[C...  0\n",
              "15      Imipenem  C[C@@H](O)[C@H]1C(=O)N2C(C(=O)O)=C(SCC/N=C/N)C...  0\n",
              "16   Ibandronate                CCCCCN(C)CCC(O)(P(=O)(O)O)P(=O)(O)O  0\n",
              "17    Oxitropium  CC[N+]1(C)[C@H]2C[C@H](OC(=O)[C@H](CO)c3ccccc3...  0\n",
              "18    Alfentanil   CCC(=O)N(c1ccccc1)C1(COC)CCN(CCn2nnn(CC)c2=O)CC1  0\n",
              "19  Benzthiazide   NS(=O)(=O)c1cc2c(cc1Cl)N=C(CSCc1ccccc1)NS2(=O)=O  0"
            ],
            "text/html": [
              "\n",
              "  <div id=\"df-67c6b7b8-5701-402f-8beb-5e4d7283beda\">\n",
              "    <div class=\"colab-df-container\">\n",
              "      <div>\n",
              "<style scoped>\n",
              "    .dataframe tbody tr th:only-of-type {\n",
              "        vertical-align: middle;\n",
              "    }\n",
              "\n",
              "    .dataframe tbody tr th {\n",
              "        vertical-align: top;\n",
              "    }\n",
              "\n",
              "    .dataframe thead th {\n",
              "        text-align: right;\n",
              "    }\n",
              "</style>\n",
              "<table border=\"1\" class=\"dataframe\">\n",
              "  <thead>\n",
              "    <tr style=\"text-align: right;\">\n",
              "      <th></th>\n",
              "      <th>Drug_ID</th>\n",
              "      <th>Drug</th>\n",
              "      <th>Y</th>\n",
              "    </tr>\n",
              "  </thead>\n",
              "  <tbody>\n",
              "    <tr>\n",
              "      <th>0</th>\n",
              "      <td>Dimercaprol</td>\n",
              "      <td>OCC(S)CS</td>\n",
              "      <td>0</td>\n",
              "    </tr>\n",
              "    <tr>\n",
              "      <th>1</th>\n",
              "      <td>Edrophonium</td>\n",
              "      <td>CC[N+](C)(C)c1cccc(O)c1</td>\n",
              "      <td>0</td>\n",
              "    </tr>\n",
              "    <tr>\n",
              "      <th>2</th>\n",
              "      <td>Vidarabine</td>\n",
              "      <td>Nc1ncnc2c1ncn2[C@@H]1O[C@H](CO)[C@@H](O)[C@@H]1O</td>\n",
              "      <td>0</td>\n",
              "    </tr>\n",
              "    <tr>\n",
              "      <th>3</th>\n",
              "      <td>Cefacetrile</td>\n",
              "      <td>CC(=O)OCC1=C(C(=O)O)N2C(=O)[C@@H](NC(=O)CC#N)[...</td>\n",
              "      <td>0</td>\n",
              "    </tr>\n",
              "    <tr>\n",
              "      <th>4</th>\n",
              "      <td>Ticarcillin</td>\n",
              "      <td>CC1(C)S[C@@H]2[C@H](NC(=O)[C@H](C(=O)O)c3ccsc3...</td>\n",
              "      <td>0</td>\n",
              "    </tr>\n",
              "    <tr>\n",
              "      <th>5</th>\n",
              "      <td>Cefoxitin</td>\n",
              "      <td>CO[C@@]1(NC(=O)Cc2cccs2)C(=O)N2C(C(=O)O)=C(COC...</td>\n",
              "      <td>0</td>\n",
              "    </tr>\n",
              "    <tr>\n",
              "      <th>6</th>\n",
              "      <td>Ceftazidime</td>\n",
              "      <td>CC(C)(O/N=C(\\C(=O)N[C@@H]1C(=O)N2C(C(=O)[O-])=...</td>\n",
              "      <td>0</td>\n",
              "    </tr>\n",
              "    <tr>\n",
              "      <th>7</th>\n",
              "      <td>Arbekacin</td>\n",
              "      <td>NCC[C@H](O)C(=O)N[C@@H]1C[C@H](N)[C@@H](O[C@H]...</td>\n",
              "      <td>0</td>\n",
              "    </tr>\n",
              "    <tr>\n",
              "      <th>8</th>\n",
              "      <td>Ceftriaxone</td>\n",
              "      <td>CO/N=C(\\C(=O)N[C@@H]1C(=O)N2C(C(=O)O)=C(CSc3nc...</td>\n",
              "      <td>0</td>\n",
              "    </tr>\n",
              "    <tr>\n",
              "      <th>9</th>\n",
              "      <td>Epirubicin</td>\n",
              "      <td>COc1cccc2c1C(=O)c1c(O)c3c(c(O)c1C2=O)C[C@@](O)...</td>\n",
              "      <td>0</td>\n",
              "    </tr>\n",
              "    <tr>\n",
              "      <th>10</th>\n",
              "      <td>Vecuronium</td>\n",
              "      <td>CC(=O)O[C@H]1C[C@@H]2CC[C@@H]3[C@H](CC[C@@]4(C...</td>\n",
              "      <td>0</td>\n",
              "    </tr>\n",
              "    <tr>\n",
              "      <th>11</th>\n",
              "      <td>Pancuronium</td>\n",
              "      <td>CC(=O)O[C@H]1C[C@@H]2CC[C@@H]3[C@H](CC[C@@]4(C...</td>\n",
              "      <td>0</td>\n",
              "    </tr>\n",
              "    <tr>\n",
              "      <th>12</th>\n",
              "      <td>Cefodizime</td>\n",
              "      <td>CO/N=C(\\C(=O)N[C@@H]1C(=O)N2C(C(=O)O)=C(CSc3nc...</td>\n",
              "      <td>0</td>\n",
              "    </tr>\n",
              "    <tr>\n",
              "      <th>13</th>\n",
              "      <td>Amikacin</td>\n",
              "      <td>NCC[C@H](O)C(=O)N[C@@H]1C[C@H](N)[C@@H](O[C@H]...</td>\n",
              "      <td>0</td>\n",
              "    </tr>\n",
              "    <tr>\n",
              "      <th>14</th>\n",
              "      <td>Alcuronium</td>\n",
              "      <td>C=CC[N@@+]12CC[C@@]34c5ccccc5N5/C=C6/[C@H]7C[C...</td>\n",
              "      <td>0</td>\n",
              "    </tr>\n",
              "    <tr>\n",
              "      <th>15</th>\n",
              "      <td>Imipenem</td>\n",
              "      <td>C[C@@H](O)[C@H]1C(=O)N2C(C(=O)O)=C(SCC/N=C/N)C...</td>\n",
              "      <td>0</td>\n",
              "    </tr>\n",
              "    <tr>\n",
              "      <th>16</th>\n",
              "      <td>Ibandronate</td>\n",
              "      <td>CCCCCN(C)CCC(O)(P(=O)(O)O)P(=O)(O)O</td>\n",
              "      <td>0</td>\n",
              "    </tr>\n",
              "    <tr>\n",
              "      <th>17</th>\n",
              "      <td>Oxitropium</td>\n",
              "      <td>CC[N+]1(C)[C@H]2C[C@H](OC(=O)[C@H](CO)c3ccccc3...</td>\n",
              "      <td>0</td>\n",
              "    </tr>\n",
              "    <tr>\n",
              "      <th>18</th>\n",
              "      <td>Alfentanil</td>\n",
              "      <td>CCC(=O)N(c1ccccc1)C1(COC)CCN(CCn2nnn(CC)c2=O)CC1</td>\n",
              "      <td>0</td>\n",
              "    </tr>\n",
              "    <tr>\n",
              "      <th>19</th>\n",
              "      <td>Benzthiazide</td>\n",
              "      <td>NS(=O)(=O)c1cc2c(cc1Cl)N=C(CSCc1ccccc1)NS2(=O)=O</td>\n",
              "      <td>0</td>\n",
              "    </tr>\n",
              "  </tbody>\n",
              "</table>\n",
              "</div>\n",
              "      <button class=\"colab-df-convert\" onclick=\"convertToInteractive('df-67c6b7b8-5701-402f-8beb-5e4d7283beda')\"\n",
              "              title=\"Convert this dataframe to an interactive table.\"\n",
              "              style=\"display:none;\">\n",
              "        \n",
              "  <svg xmlns=\"http://www.w3.org/2000/svg\" height=\"24px\"viewBox=\"0 0 24 24\"\n",
              "       width=\"24px\">\n",
              "    <path d=\"M0 0h24v24H0V0z\" fill=\"none\"/>\n",
              "    <path d=\"M18.56 5.44l.94 2.06.94-2.06 2.06-.94-2.06-.94-.94-2.06-.94 2.06-2.06.94zm-11 1L8.5 8.5l.94-2.06 2.06-.94-2.06-.94L8.5 2.5l-.94 2.06-2.06.94zm10 10l.94 2.06.94-2.06 2.06-.94-2.06-.94-.94-2.06-.94 2.06-2.06.94z\"/><path d=\"M17.41 7.96l-1.37-1.37c-.4-.4-.92-.59-1.43-.59-.52 0-1.04.2-1.43.59L10.3 9.45l-7.72 7.72c-.78.78-.78 2.05 0 2.83L4 21.41c.39.39.9.59 1.41.59.51 0 1.02-.2 1.41-.59l7.78-7.78 2.81-2.81c.8-.78.8-2.07 0-2.86zM5.41 20L4 18.59l7.72-7.72 1.47 1.35L5.41 20z\"/>\n",
              "  </svg>\n",
              "      </button>\n",
              "      \n",
              "  <style>\n",
              "    .colab-df-container {\n",
              "      display:flex;\n",
              "      flex-wrap:wrap;\n",
              "      gap: 12px;\n",
              "    }\n",
              "\n",
              "    .colab-df-convert {\n",
              "      background-color: #E8F0FE;\n",
              "      border: none;\n",
              "      border-radius: 50%;\n",
              "      cursor: pointer;\n",
              "      display: none;\n",
              "      fill: #1967D2;\n",
              "      height: 32px;\n",
              "      padding: 0 0 0 0;\n",
              "      width: 32px;\n",
              "    }\n",
              "\n",
              "    .colab-df-convert:hover {\n",
              "      background-color: #E2EBFA;\n",
              "      box-shadow: 0px 1px 2px rgba(60, 64, 67, 0.3), 0px 1px 3px 1px rgba(60, 64, 67, 0.15);\n",
              "      fill: #174EA6;\n",
              "    }\n",
              "\n",
              "    [theme=dark] .colab-df-convert {\n",
              "      background-color: #3B4455;\n",
              "      fill: #D2E3FC;\n",
              "    }\n",
              "\n",
              "    [theme=dark] .colab-df-convert:hover {\n",
              "      background-color: #434B5C;\n",
              "      box-shadow: 0px 1px 3px 1px rgba(0, 0, 0, 0.15);\n",
              "      filter: drop-shadow(0px 1px 2px rgba(0, 0, 0, 0.3));\n",
              "      fill: #FFFFFF;\n",
              "    }\n",
              "  </style>\n",
              "\n",
              "      <script>\n",
              "        const buttonEl =\n",
              "          document.querySelector('#df-67c6b7b8-5701-402f-8beb-5e4d7283beda button.colab-df-convert');\n",
              "        buttonEl.style.display =\n",
              "          google.colab.kernel.accessAllowed ? 'block' : 'none';\n",
              "\n",
              "        async function convertToInteractive(key) {\n",
              "          const element = document.querySelector('#df-67c6b7b8-5701-402f-8beb-5e4d7283beda');\n",
              "          const dataTable =\n",
              "            await google.colab.kernel.invokeFunction('convertToInteractive',\n",
              "                                                     [key], {});\n",
              "          if (!dataTable) return;\n",
              "\n",
              "          const docLinkHtml = 'Like what you see? Visit the ' +\n",
              "            '<a target=\"_blank\" href=https://colab.research.google.com/notebooks/data_table.ipynb>data table notebook</a>'\n",
              "            + ' to learn more about interactive tables.';\n",
              "          element.innerHTML = '';\n",
              "          dataTable['output_type'] = 'display_data';\n",
              "          await google.colab.output.renderOutput(dataTable, element);\n",
              "          const docLink = document.createElement('div');\n",
              "          docLink.innerHTML = docLinkHtml;\n",
              "          element.appendChild(docLink);\n",
              "        }\n",
              "      </script>\n",
              "    </div>\n",
              "  </div>\n",
              "  "
            ]
          },
          "metadata": {},
          "execution_count": 39
        }
      ]
    },
    {
      "cell_type": "code",
      "source": [
        "train_set.columns"
      ],
      "metadata": {
        "colab": {
          "base_uri": "https://localhost:8080/"
        },
        "id": "GTYCL__vmDxr",
        "outputId": "0edce160-59d1-498f-c9f0-2dc8450edf11"
      },
      "execution_count": 40,
      "outputs": [
        {
          "output_type": "execute_result",
          "data": {
            "text/plain": [
              "Index(['Drug_ID', 'Drug', 'Y'], dtype='object')"
            ]
          },
          "metadata": {},
          "execution_count": 40
        }
      ]
    },
    {
      "cell_type": "code",
      "source": [
        "whole_df = pd.concat([train_set, valid_set, test_set], ignore_index=True)\n",
        "whole_df.reset_index()\n",
        "whole_df.head()"
      ],
      "metadata": {
        "colab": {
          "base_uri": "https://localhost:8080/",
          "height": 206
        },
        "id": "efyABgLuFPg6",
        "outputId": "5564caf7-8250-4cea-c96a-0c665b2c5b69"
      },
      "execution_count": 41,
      "outputs": [
        {
          "output_type": "execute_result",
          "data": {
            "text/plain": [
              "       Drug_ID                                               Drug  Y\n",
              "0  Dimercaprol                                           OCC(S)CS  0\n",
              "1  Edrophonium                            CC[N+](C)(C)c1cccc(O)c1  0\n",
              "2   Vidarabine   Nc1ncnc2c1ncn2[C@@H]1O[C@H](CO)[C@@H](O)[C@@H]1O  0\n",
              "3  Cefacetrile  CC(=O)OCC1=C(C(=O)O)N2C(=O)[C@@H](NC(=O)CC#N)[...  0\n",
              "4  Ticarcillin  CC1(C)S[C@@H]2[C@H](NC(=O)[C@H](C(=O)O)c3ccsc3...  0"
            ],
            "text/html": [
              "\n",
              "  <div id=\"df-4464dfe3-14ab-43c4-adb4-aae2047cec9b\">\n",
              "    <div class=\"colab-df-container\">\n",
              "      <div>\n",
              "<style scoped>\n",
              "    .dataframe tbody tr th:only-of-type {\n",
              "        vertical-align: middle;\n",
              "    }\n",
              "\n",
              "    .dataframe tbody tr th {\n",
              "        vertical-align: top;\n",
              "    }\n",
              "\n",
              "    .dataframe thead th {\n",
              "        text-align: right;\n",
              "    }\n",
              "</style>\n",
              "<table border=\"1\" class=\"dataframe\">\n",
              "  <thead>\n",
              "    <tr style=\"text-align: right;\">\n",
              "      <th></th>\n",
              "      <th>Drug_ID</th>\n",
              "      <th>Drug</th>\n",
              "      <th>Y</th>\n",
              "    </tr>\n",
              "  </thead>\n",
              "  <tbody>\n",
              "    <tr>\n",
              "      <th>0</th>\n",
              "      <td>Dimercaprol</td>\n",
              "      <td>OCC(S)CS</td>\n",
              "      <td>0</td>\n",
              "    </tr>\n",
              "    <tr>\n",
              "      <th>1</th>\n",
              "      <td>Edrophonium</td>\n",
              "      <td>CC[N+](C)(C)c1cccc(O)c1</td>\n",
              "      <td>0</td>\n",
              "    </tr>\n",
              "    <tr>\n",
              "      <th>2</th>\n",
              "      <td>Vidarabine</td>\n",
              "      <td>Nc1ncnc2c1ncn2[C@@H]1O[C@H](CO)[C@@H](O)[C@@H]1O</td>\n",
              "      <td>0</td>\n",
              "    </tr>\n",
              "    <tr>\n",
              "      <th>3</th>\n",
              "      <td>Cefacetrile</td>\n",
              "      <td>CC(=O)OCC1=C(C(=O)O)N2C(=O)[C@@H](NC(=O)CC#N)[...</td>\n",
              "      <td>0</td>\n",
              "    </tr>\n",
              "    <tr>\n",
              "      <th>4</th>\n",
              "      <td>Ticarcillin</td>\n",
              "      <td>CC1(C)S[C@@H]2[C@H](NC(=O)[C@H](C(=O)O)c3ccsc3...</td>\n",
              "      <td>0</td>\n",
              "    </tr>\n",
              "  </tbody>\n",
              "</table>\n",
              "</div>\n",
              "      <button class=\"colab-df-convert\" onclick=\"convertToInteractive('df-4464dfe3-14ab-43c4-adb4-aae2047cec9b')\"\n",
              "              title=\"Convert this dataframe to an interactive table.\"\n",
              "              style=\"display:none;\">\n",
              "        \n",
              "  <svg xmlns=\"http://www.w3.org/2000/svg\" height=\"24px\"viewBox=\"0 0 24 24\"\n",
              "       width=\"24px\">\n",
              "    <path d=\"M0 0h24v24H0V0z\" fill=\"none\"/>\n",
              "    <path d=\"M18.56 5.44l.94 2.06.94-2.06 2.06-.94-2.06-.94-.94-2.06-.94 2.06-2.06.94zm-11 1L8.5 8.5l.94-2.06 2.06-.94-2.06-.94L8.5 2.5l-.94 2.06-2.06.94zm10 10l.94 2.06.94-2.06 2.06-.94-2.06-.94-.94-2.06-.94 2.06-2.06.94z\"/><path d=\"M17.41 7.96l-1.37-1.37c-.4-.4-.92-.59-1.43-.59-.52 0-1.04.2-1.43.59L10.3 9.45l-7.72 7.72c-.78.78-.78 2.05 0 2.83L4 21.41c.39.39.9.59 1.41.59.51 0 1.02-.2 1.41-.59l7.78-7.78 2.81-2.81c.8-.78.8-2.07 0-2.86zM5.41 20L4 18.59l7.72-7.72 1.47 1.35L5.41 20z\"/>\n",
              "  </svg>\n",
              "      </button>\n",
              "      \n",
              "  <style>\n",
              "    .colab-df-container {\n",
              "      display:flex;\n",
              "      flex-wrap:wrap;\n",
              "      gap: 12px;\n",
              "    }\n",
              "\n",
              "    .colab-df-convert {\n",
              "      background-color: #E8F0FE;\n",
              "      border: none;\n",
              "      border-radius: 50%;\n",
              "      cursor: pointer;\n",
              "      display: none;\n",
              "      fill: #1967D2;\n",
              "      height: 32px;\n",
              "      padding: 0 0 0 0;\n",
              "      width: 32px;\n",
              "    }\n",
              "\n",
              "    .colab-df-convert:hover {\n",
              "      background-color: #E2EBFA;\n",
              "      box-shadow: 0px 1px 2px rgba(60, 64, 67, 0.3), 0px 1px 3px 1px rgba(60, 64, 67, 0.15);\n",
              "      fill: #174EA6;\n",
              "    }\n",
              "\n",
              "    [theme=dark] .colab-df-convert {\n",
              "      background-color: #3B4455;\n",
              "      fill: #D2E3FC;\n",
              "    }\n",
              "\n",
              "    [theme=dark] .colab-df-convert:hover {\n",
              "      background-color: #434B5C;\n",
              "      box-shadow: 0px 1px 3px 1px rgba(0, 0, 0, 0.15);\n",
              "      filter: drop-shadow(0px 1px 2px rgba(0, 0, 0, 0.3));\n",
              "      fill: #FFFFFF;\n",
              "    }\n",
              "  </style>\n",
              "\n",
              "      <script>\n",
              "        const buttonEl =\n",
              "          document.querySelector('#df-4464dfe3-14ab-43c4-adb4-aae2047cec9b button.colab-df-convert');\n",
              "        buttonEl.style.display =\n",
              "          google.colab.kernel.accessAllowed ? 'block' : 'none';\n",
              "\n",
              "        async function convertToInteractive(key) {\n",
              "          const element = document.querySelector('#df-4464dfe3-14ab-43c4-adb4-aae2047cec9b');\n",
              "          const dataTable =\n",
              "            await google.colab.kernel.invokeFunction('convertToInteractive',\n",
              "                                                     [key], {});\n",
              "          if (!dataTable) return;\n",
              "\n",
              "          const docLinkHtml = 'Like what you see? Visit the ' +\n",
              "            '<a target=\"_blank\" href=https://colab.research.google.com/notebooks/data_table.ipynb>data table notebook</a>'\n",
              "            + ' to learn more about interactive tables.';\n",
              "          element.innerHTML = '';\n",
              "          dataTable['output_type'] = 'display_data';\n",
              "          await google.colab.output.renderOutput(dataTable, element);\n",
              "          const docLink = document.createElement('div');\n",
              "          docLink.innerHTML = docLinkHtml;\n",
              "          element.appendChild(docLink);\n",
              "        }\n",
              "      </script>\n",
              "    </div>\n",
              "  </div>\n",
              "  "
            ]
          },
          "metadata": {},
          "execution_count": 41
        }
      ]
    },
    {
      "cell_type": "code",
      "source": [
        "len(whole_df)"
      ],
      "metadata": {
        "colab": {
          "base_uri": "https://localhost:8080/"
        },
        "id": "dMXLc1pxFwrc",
        "outputId": "42a25811-34f6-4c3e-a885-73ffc314dc1a"
      },
      "execution_count": 42,
      "outputs": [
        {
          "output_type": "execute_result",
          "data": {
            "text/plain": [
              "640"
            ]
          },
          "metadata": {},
          "execution_count": 42
        }
      ]
    },
    {
      "cell_type": "code",
      "source": [
        "test_1_s = train_set.iloc[80]['Drug']\n",
        "test_1_s"
      ],
      "metadata": {
        "colab": {
          "base_uri": "https://localhost:8080/",
          "height": 36
        },
        "id": "bYGVj33YmFR_",
        "outputId": "1cba30bb-5022-4486-cfcc-8e20953cb6a1"
      },
      "execution_count": 43,
      "outputs": [
        {
          "output_type": "execute_result",
          "data": {
            "text/plain": [
              "'COc1ccc2c3c1O[C@H]1[C@@H](O)CC[C@H]4[C@@H](C2)N(C)CC[C@]314'"
            ],
            "application/vnd.google.colaboratory.intrinsic+json": {
              "type": "string"
            }
          },
          "metadata": {},
          "execution_count": 43
        }
      ]
    },
    {
      "cell_type": "code",
      "source": [
        "len(test_1_s)"
      ],
      "metadata": {
        "colab": {
          "base_uri": "https://localhost:8080/"
        },
        "id": "AnXXCM4gmGje",
        "outputId": "01897e0c-d24c-4c89-d50b-2cede030e3e8"
      },
      "execution_count": 44,
      "outputs": [
        {
          "output_type": "execute_result",
          "data": {
            "text/plain": [
              "59"
            ]
          },
          "metadata": {},
          "execution_count": 44
        }
      ]
    },
    {
      "cell_type": "code",
      "source": [
        "mol = read_smiles(test_1_s)\n",
        "mol"
      ],
      "metadata": {
        "colab": {
          "base_uri": "https://localhost:8080/"
        },
        "id": "S3xmO14smHvS",
        "outputId": "24ee2d2a-1596-4f58-f3ac-e12d242b1ebd"
      },
      "execution_count": 45,
      "outputs": [
        {
          "output_type": "stream",
          "name": "stderr",
          "text": [
            "WARNING:pysmiles.smiles_helper:Atom \"[C@H]\" contains stereochemical information that will be discarded.\n",
            "WARNING:pysmiles.smiles_helper:Atom \"[C@@H]\" contains stereochemical information that will be discarded.\n",
            "WARNING:pysmiles.smiles_helper:Atom \"[C@H]\" contains stereochemical information that will be discarded.\n",
            "WARNING:pysmiles.smiles_helper:Atom \"[C@@H]\" contains stereochemical information that will be discarded.\n",
            "WARNING:pysmiles.smiles_helper:Atom \"[C@]\" contains stereochemical information that will be discarded.\n"
          ]
        },
        {
          "output_type": "execute_result",
          "data": {
            "text/plain": [
              "<networkx.classes.graph.Graph at 0x7f17b46ce2b0>"
            ]
          },
          "metadata": {},
          "execution_count": 45
        }
      ]
    },
    {
      "cell_type": "code",
      "source": [
        "# To print Smiles\n",
        "elements = nx.get_node_attributes(mol, name = \"element\")\n",
        "nx.draw(mol, with_labels=True, labels = elements, pos=nx.spring_layout(mol))\n",
        "plt.gca().set_aspect('equal')"
      ],
      "metadata": {
        "colab": {
          "base_uri": "https://localhost:8080/",
          "height": 319
        },
        "id": "7mo_dMGemI-9",
        "outputId": "2a44a219-5522-4d80-8780-7a2624e40c20"
      },
      "execution_count": 47,
      "outputs": [
        {
          "output_type": "display_data",
          "data": {
            "text/plain": [
              "<Figure size 432x288 with 1 Axes>"
            ],
            "image/png": "[encoded data removed]"
          },
          "metadata": {}
        }
      ]
    },
    {
      "cell_type": "code",
      "source": [
        "# Just for visualisation\n",
        "test_mol = Chem.MolFromSmiles(test_1_s)\n",
        "Draw.MolToImage(test_mol)"
      ],
      "metadata": {
        "colab": {
          "base_uri": "https://localhost:8080/",
          "height": 317
        },
        "id": "vG1kkU8CmKrS",
        "outputId": "b171aa83-f429-4736-d27c-4bbfd20860c9"
      },
      "execution_count": 48,
      "outputs": [
        {
          "output_type": "execute_result",
          "data": {
            "text/plain": [
              "<PIL.PngImagePlugin.PngImageFile image mode=RGB size=300x300 at 0x7F17B41D25E0>"
            ],
            "image/png": "[encoded data removed]"
          },
          "metadata": {},
          "execution_count": 48
        }
      ]
    },
    {
      "cell_type": "code",
      "source": [
        "print(Chem.MolToSmiles(test_mol, allHsExplicit=True))"
      ],
      "metadata": {
        "colab": {
          "base_uri": "https://localhost:8080/"
        },
        "id": "17vUbxK2mO26",
        "outputId": "181b2103-f922-4522-85ed-ad62385f48e1"
      },
      "execution_count": 49,
      "outputs": [
        {
          "output_type": "stream",
          "name": "stdout",
          "text": [
            "[CH3][O][c]1[cH][cH][c]2[c]3[c]1[O][C@H]1[C@@H]([OH])[CH2][CH2][C@H]4[C@@H]([CH2]2)[N]([CH3])[CH2][CH2][C@@]341\n"
          ]
        }
      ]
    },
    {
      "cell_type": "code",
      "source": [
        "# adjacency matrix\n",
        "am_test1 = nx.to_numpy_matrix(mol, weight='order')"
      ],
      "metadata": {
        "id": "q0e8KGTvmTf5"
      },
      "execution_count": 50,
      "outputs": []
    },
    {
      "cell_type": "code",
      "source": [
        "am_test1"
      ],
      "metadata": {
        "id": "ca-Hv16UmU5b"
      },
      "execution_count": null,
      "outputs": []
    },
    {
      "cell_type": "code",
      "source": [
        "# Check what all molecules are present in all the smiles? C, N, O only?\n",
        "\n",
        "ele_dict = {}\n",
        "for i in range(train_set.shape[0]):\n",
        "    temp_ = train_set.iloc[i]['Drug']\n",
        "    for c in temp_:\n",
        "        if c not in [\"@\", \"[\", \"]\", \"1\", \"2\", \"3\", \"4\", \"5\", \"6\", \"7\", \"8\", \"9\", \"\\\\\", \"/\", \"#\", \"-\", \"+\", \"=\", \"(\", \")\", \".\"]:\n",
        "            c = c.upper()\n",
        "            if c in ele_dict:\n",
        "                ele_dict[c] += 1\n",
        "            else:\n",
        "                ele_dict[c] = 1\n",
        "                \n",
        "ele_dict"
      ],
      "metadata": {
        "colab": {
          "base_uri": "https://localhost:8080/"
        },
        "id": "jf0bZU8AmV9s",
        "outputId": "8af5acc5-4cd5-434b-a2d8-0e3ce1496e5a"
      },
      "execution_count": 52,
      "outputs": [
        {
          "output_type": "execute_result",
          "data": {
            "text/plain": [
              "{'O': 1518,\n",
              " 'C': 8077,\n",
              " 'S': 132,\n",
              " 'N': 1055,\n",
              " 'H': 805,\n",
              " 'P': 7,\n",
              " 'L': 92,\n",
              " 'F': 82,\n",
              " 'B': 5,\n",
              " 'R': 5,\n",
              " 'A': 1,\n",
              " 'U': 1,\n",
              " 'I': 2}"
            ]
          },
          "metadata": {},
          "execution_count": 52
        }
      ]
    },
    {
      "cell_type": "code",
      "source": [
        "train_set.iloc[3]['Drug']"
      ],
      "metadata": {
        "colab": {
          "base_uri": "https://localhost:8080/",
          "height": 36
        },
        "id": "AI3rfQvpmXrZ",
        "outputId": "20c67376-9cf9-4a9e-83e2-fc2b75627bce"
      },
      "execution_count": 53,
      "outputs": [
        {
          "output_type": "execute_result",
          "data": {
            "text/plain": [
              "'CC(=O)OCC1=C(C(=O)O)N2C(=O)[C@@H](NC(=O)CC#N)[C@H]2SC1'"
            ],
            "application/vnd.google.colaboratory.intrinsic+json": {
              "type": "string"
            }
          },
          "metadata": {},
          "execution_count": 53
        }
      ]
    },
    {
      "cell_type": "code",
      "source": [
        "class SymbolFeaturizer:\n",
        "    \"\"\"\n",
        "    Symbol featurizer takes in a symbol and returns an array representing its\n",
        "    one-hot encoding.\n",
        "    \"\"\"\n",
        "    def __init__(self, symbols, feature_size=None):\n",
        "        self.atm2indx = {k:i for i, k in enumerate(symbols)}\n",
        "        self.indx2atm = {v:k for k,v in self.atm2indx.items()}\n",
        "        self.feature_size = feature_size if feature_size is not None else len(symbols)\n",
        "    \n",
        "    def __call__(self, atom_symbol):\n",
        "        out = np.zeros(self.feature_size)\n",
        "        out[self.atm2indx[atom_symbol]] = 1.\n",
        "        return out\n",
        "\n",
        "    \n",
        "atm_featurizer = SymbolFeaturizer(['C', 'N', 'O'])\n",
        "node_features = [atm_featurizer(atm.GetSymbol()) for atm in test_mol.GetAtoms()]\n",
        "node_features = np.array(node_features)\n",
        "print(f\"Node features:\\n {node_features}\")\n",
        "\n",
        "\n",
        "# Compute the adjacency matrix for paracetemol from rdkit \n",
        "num_nodes = test_mol.GetNumAtoms()\n",
        "adj_mat = np.zeros((num_nodes, num_nodes))\n",
        "\n",
        "for bnd in test_mol.GetBonds():\n",
        "    adj_mat[bnd.GetBeginAtomIdx(), bnd.GetEndAtomIdx()] = bnd.GetBondTypeAsDouble()  \n",
        "    adj_mat[bnd.GetEndAtomIdx(), bnd.GetBeginAtomIdx()] = bnd.GetBondTypeAsDouble()\n",
        "\n",
        "print(f\"\\n\\nAdjacency matrix:\\n {adj_mat}\")"
      ],
      "metadata": {
        "colab": {
          "base_uri": "https://localhost:8080/"
        },
        "id": "wOjfw6EtmZI3",
        "outputId": "9e1129ef-8541-4c8e-b3a2-b555e11bdf08"
      },
      "execution_count": 54,
      "outputs": [
        {
          "output_type": "stream",
          "name": "stdout",
          "text": [
            "Node features:\n",
            " [[1. 0. 0.]\n",
            " [0. 0. 1.]\n",
            " [1. 0. 0.]\n",
            " [1. 0. 0.]\n",
            " [1. 0. 0.]\n",
            " [1. 0. 0.]\n",
            " [1. 0. 0.]\n",
            " [1. 0. 0.]\n",
            " [0. 0. 1.]\n",
            " [1. 0. 0.]\n",
            " [1. 0. 0.]\n",
            " [0. 0. 1.]\n",
            " [1. 0. 0.]\n",
            " [1. 0. 0.]\n",
            " [1. 0. 0.]\n",
            " [1. 0. 0.]\n",
            " [1. 0. 0.]\n",
            " [0. 1. 0.]\n",
            " [1. 0. 0.]\n",
            " [1. 0. 0.]\n",
            " [1. 0. 0.]\n",
            " [1. 0. 0.]]\n",
            "\n",
            "\n",
            "Adjacency matrix:\n",
            " [[0.  1.  0.  0.  0.  0.  0.  0.  0.  0.  0.  0.  0.  0.  0.  0.  0.  0.\n",
            "  0.  0.  0.  0. ]\n",
            " [1.  0.  1.  0.  0.  0.  0.  0.  0.  0.  0.  0.  0.  0.  0.  0.  0.  0.\n",
            "  0.  0.  0.  0. ]\n",
            " [0.  1.  0.  1.5 0.  0.  0.  1.5 0.  0.  0.  0.  0.  0.  0.  0.  0.  0.\n",
            "  0.  0.  0.  0. ]\n",
            " [0.  0.  1.5 0.  1.5 0.  0.  0.  0.  0.  0.  0.  0.  0.  0.  0.  0.  0.\n",
            "  0.  0.  0.  0. ]\n",
            " [0.  0.  0.  1.5 0.  1.5 0.  0.  0.  0.  0.  0.  0.  0.  0.  0.  0.  0.\n",
            "  0.  0.  0.  0. ]\n",
            " [0.  0.  0.  0.  1.5 0.  1.5 0.  0.  0.  0.  0.  0.  0.  0.  0.  1.  0.\n",
            "  0.  0.  0.  0. ]\n",
            " [0.  0.  0.  0.  0.  1.5 0.  1.5 0.  0.  0.  0.  0.  0.  0.  0.  0.  0.\n",
            "  0.  0.  0.  1. ]\n",
            " [0.  0.  1.5 0.  0.  0.  1.5 0.  1.  0.  0.  0.  0.  0.  0.  0.  0.  0.\n",
            "  0.  0.  0.  0. ]\n",
            " [0.  0.  0.  0.  0.  0.  0.  1.  0.  1.  0.  0.  0.  0.  0.  0.  0.  0.\n",
            "  0.  0.  0.  0. ]\n",
            " [0.  0.  0.  0.  0.  0.  0.  0.  1.  0.  1.  0.  0.  0.  0.  0.  0.  0.\n",
            "  0.  0.  0.  1. ]\n",
            " [0.  0.  0.  0.  0.  0.  0.  0.  0.  1.  0.  1.  1.  0.  0.  0.  0.  0.\n",
            "  0.  0.  0.  0. ]\n",
            " [0.  0.  0.  0.  0.  0.  0.  0.  0.  0.  1.  0.  0.  0.  0.  0.  0.  0.\n",
            "  0.  0.  0.  0. ]\n",
            " [0.  0.  0.  0.  0.  0.  0.  0.  0.  0.  1.  0.  0.  1.  0.  0.  0.  0.\n",
            "  0.  0.  0.  0. ]\n",
            " [0.  0.  0.  0.  0.  0.  0.  0.  0.  0.  0.  0.  1.  0.  1.  0.  0.  0.\n",
            "  0.  0.  0.  0. ]\n",
            " [0.  0.  0.  0.  0.  0.  0.  0.  0.  0.  0.  0.  0.  1.  0.  1.  0.  0.\n",
            "  0.  0.  0.  1. ]\n",
            " [0.  0.  0.  0.  0.  0.  0.  0.  0.  0.  0.  0.  0.  0.  1.  0.  1.  1.\n",
            "  0.  0.  0.  0. ]\n",
            " [0.  0.  0.  0.  0.  1.  0.  0.  0.  0.  0.  0.  0.  0.  0.  1.  0.  0.\n",
            "  0.  0.  0.  0. ]\n",
            " [0.  0.  0.  0.  0.  0.  0.  0.  0.  0.  0.  0.  0.  0.  0.  1.  0.  0.\n",
            "  1.  1.  0.  0. ]\n",
            " [0.  0.  0.  0.  0.  0.  0.  0.  0.  0.  0.  0.  0.  0.  0.  0.  0.  1.\n",
            "  0.  0.  0.  0. ]\n",
            " [0.  0.  0.  0.  0.  0.  0.  0.  0.  0.  0.  0.  0.  0.  0.  0.  0.  1.\n",
            "  0.  0.  1.  0. ]\n",
            " [0.  0.  0.  0.  0.  0.  0.  0.  0.  0.  0.  0.  0.  0.  0.  0.  0.  0.\n",
            "  0.  1.  0.  1. ]\n",
            " [0.  0.  0.  0.  0.  0.  1.  0.  0.  1.  0.  0.  0.  0.  1.  0.  0.  0.\n",
            "  0.  0.  1.  0. ]]\n"
          ]
        }
      ]
    },
    {
      "cell_type": "code",
      "source": [
        "def mol_to_edge_list_graph(mol: Chem.Mol, atm_featurizer: SymbolFeaturizer) -> typing.Tuple[np.ndarray, np.ndarray, np.ndarray]:\n",
        "    \"\"\"\n",
        "    Function that takes in a RDKit molecule (of N atoms, E bonds) and returns three numpy arrays:\n",
        "    * the node features array (of dtype np.float32, shape [N, d]), which is a one hot encoding \n",
        "    of the element of each atom type.\n",
        "    * the edge list (of dtype np.int32, shape [2E, 2]) that represents the start and end index\n",
        "    of each edge.\n",
        "    * the edge feature list (of dtype np.float32, shape [2E, 1]) which describes the feature type\n",
        "    associated with each edge.\n",
        "    \"\"\"\n",
        "    # Node features\n",
        "    node_features = [atm_featurizer(atm.GetSymbol()) for atm in mol.GetAtoms()]\n",
        "    node_features = np.array(node_features, dtype=np.float32)\n",
        "    \n",
        "    # Edge list and edge feature list\n",
        "    edge_list = []\n",
        "    edge_feature_list = []\n",
        "    for bnd in mol.GetBonds():\n",
        "        bnd_indices = [bnd.GetBeginAtomIdx(), bnd.GetEndAtomIdx()]\n",
        "        bnd_type = bnd.GetBondTypeAsDouble()\n",
        "        edge_list.extend([bnd_indices,  bnd_indices[::-1]])\n",
        "        edge_feature_list.extend([bnd_type, bnd_type])\n",
        "    edge_list = np.array(edge_list, dtype=np.int32)\n",
        "    edge_feature_list = np.array(edge_feature_list, dtype=np.float32)\n",
        "    \n",
        "    return node_features, edge_list, edge_feature_list\n",
        "    \n",
        "\n",
        "node_features, edge_list, edge_feature_list = mol_to_edge_list_graph(test_mol, atm_featurizer)\n",
        "print(f\"Node feature list:\\n{node_features}\")\n",
        "print(f\"\\nEdge list:\\n{edge_list}\")\n",
        "print(f\"\\nEdge feature list:\\n{edge_feature_list}\")"
      ],
      "metadata": {
        "colab": {
          "base_uri": "https://localhost:8080/"
        },
        "id": "rFgcc-Uzmbda",
        "outputId": "879e95b5-2611-4bf3-ae4e-d2718ba1d85e"
      },
      "execution_count": 55,
      "outputs": [
        {
          "output_type": "stream",
          "name": "stdout",
          "text": [
            "Node feature list:\n",
            "[[1. 0. 0.]\n",
            " [0. 0. 1.]\n",
            " [1. 0. 0.]\n",
            " [1. 0. 0.]\n",
            " [1. 0. 0.]\n",
            " [1. 0. 0.]\n",
            " [1. 0. 0.]\n",
            " [1. 0. 0.]\n",
            " [0. 0. 1.]\n",
            " [1. 0. 0.]\n",
            " [1. 0. 0.]\n",
            " [0. 0. 1.]\n",
            " [1. 0. 0.]\n",
            " [1. 0. 0.]\n",
            " [1. 0. 0.]\n",
            " [1. 0. 0.]\n",
            " [1. 0. 0.]\n",
            " [0. 1. 0.]\n",
            " [1. 0. 0.]\n",
            " [1. 0. 0.]\n",
            " [1. 0. 0.]\n",
            " [1. 0. 0.]]\n",
            "\n",
            "Edge list:\n",
            "[[ 0  1]\n",
            " [ 1  0]\n",
            " [ 1  2]\n",
            " [ 2  1]\n",
            " [ 2  3]\n",
            " [ 3  2]\n",
            " [ 3  4]\n",
            " [ 4  3]\n",
            " [ 4  5]\n",
            " [ 5  4]\n",
            " [ 5  6]\n",
            " [ 6  5]\n",
            " [ 6  7]\n",
            " [ 7  6]\n",
            " [ 7  8]\n",
            " [ 8  7]\n",
            " [ 8  9]\n",
            " [ 9  8]\n",
            " [ 9 10]\n",
            " [10  9]\n",
            " [10 11]\n",
            " [11 10]\n",
            " [10 12]\n",
            " [12 10]\n",
            " [12 13]\n",
            " [13 12]\n",
            " [13 14]\n",
            " [14 13]\n",
            " [14 15]\n",
            " [15 14]\n",
            " [15 16]\n",
            " [16 15]\n",
            " [15 17]\n",
            " [17 15]\n",
            " [17 18]\n",
            " [18 17]\n",
            " [17 19]\n",
            " [19 17]\n",
            " [19 20]\n",
            " [20 19]\n",
            " [20 21]\n",
            " [21 20]\n",
            " [ 7  2]\n",
            " [ 2  7]\n",
            " [21  9]\n",
            " [ 9 21]\n",
            " [16  5]\n",
            " [ 5 16]\n",
            " [21  6]\n",
            " [ 6 21]\n",
            " [21 14]\n",
            " [14 21]]\n",
            "\n",
            "Edge feature list:\n",
            "[1.  1.  1.  1.  1.5 1.5 1.5 1.5 1.5 1.5 1.5 1.5 1.5 1.5 1.  1.  1.  1.\n",
            " 1.  1.  1.  1.  1.  1.  1.  1.  1.  1.  1.  1.  1.  1.  1.  1.  1.  1.\n",
            " 1.  1.  1.  1.  1.  1.  1.5 1.5 1.  1.  1.  1.  1.  1.  1.  1. ]\n"
          ]
        }
      ]
    },
    {
      "cell_type": "code",
      "source": [
        "class Graphs:\n",
        "    ATOM_FEATURIZER = SymbolFeaturizer(['Ag', 'Al', 'Ar', 'As', 'Au', 'B', 'Ba', 'Be', 'Bi', 'Br', 'C',\n",
        "                    'Ca', 'Cd', 'Ce', 'Cl', 'Co', 'Cr', 'Cs', 'Cu', 'Dy', 'Eu', 'F',\n",
        "                    'Fe', 'Ga', 'Ge', 'H', 'He', 'Hf', 'Hg', 'I', 'In', 'Ir', 'K', 'La',\n",
        "                    'Li', 'Mg', 'Mn', 'Mo', 'N', 'Na', 'Nd', 'Ni', 'O', 'Os', 'P', 'Pb',\n",
        "                    'Pd', 'Pr', 'Pt', 'Rb', 'Re', 'Rh', 'Ru', 'S', 'Sb', 'Sc', 'Se',\n",
        "                    'Si', 'Sm', 'Sn', 'Sr', 'Ta', 'Te', 'Ti', 'Tl', 'V', 'W', 'Xe', 'Y',\n",
        "                    'Yb', 'Zn', 'Zr'])\n",
        "    # ^ you can change the number of symbols here to play with the dimensionality,\n",
        "    # we only need to have the symbols: ['Br', 'C', 'Cl', 'F', 'I', 'N', 'O', 'P', 'S']\n",
        "\n",
        "    BOND_FEATURIZER = SymbolFeaturizer([1., 1.5, 2., 3.])  \n",
        "    # ^ single, aromatic, double and triple bonds (see earlier how RDKit represents these as doubles.)\n",
        "    \n",
        "    def __init__(self, node_features: torch.Tensor, \n",
        "                 edge_list: torch.Tensor, edge_features: torch.Tensor, node_to_graph_id: torch.Tensor):\n",
        "        self.node_features = node_features\n",
        "        self.edge_list = edge_list\n",
        "        self.edge_features = edge_features\n",
        "        self.node_to_graph_id = node_to_graph_id\n",
        "        \n",
        "    def to(self, *args, **kwargs):\n",
        "        new_graph = type(self)(self.node_features.to(*args, **kwargs),\n",
        "                               self.edge_list.to(*args, **kwargs),\n",
        "                               self.edge_features.to(*args, **kwargs),\n",
        "                               self.node_to_graph_id.to(*args, **kwargs)\n",
        "                              )\n",
        "        return new_graph\n",
        "    \n",
        "    @classmethod\n",
        "    def from_smiles_string(cls, smiles_str: str):\n",
        "        # Convert to form we need using previous code:\n",
        "        mol = Chem.MolFromSmiles(smiles_str)\n",
        "        node_features, edge_list, edge_features = mol_to_edge_list_graph(mol, cls.ATOM_FEATURIZER)\n",
        "        edge_features = [cls.BOND_FEATURIZER(elem) for elem in edge_features]\n",
        "        # ^ nb here we're converting the edge feature list into one-hot form\n",
        "        \n",
        "        # Convert to tensors:\n",
        "        node_features = torch.tensor(node_features, dtype=torch.float32)\n",
        "        edge_list = torch.tensor(edge_list, dtype=torch.int64)\n",
        "        edge_features = torch.tensor(edge_features, dtype=torch.float32)\n",
        "        node_to_graph_id = torch.zeros(node_features.shape[0], dtype=torch.int64)\n",
        "        # ^we only (currently) have one molecule per SMILES so all the nodes can be assigned \n",
        "        # the same id\n",
        "        \n",
        "        return cls(node_features, edge_list, edge_features, node_to_graph_id)\n",
        "    \n",
        "    @property\n",
        "    def num_graphs(self):\n",
        "        return torch.unique(self.node_to_graph_id).shape[0]\n",
        "    \n",
        "    @classmethod\n",
        "    def concatenate(cls, list_of_graphs):\n",
        "        # node features and edge_features simply get concatenated\n",
        "        new_node_features = torch.cat([e.node_features for e in list_of_graphs], dim=0)\n",
        "        new_edge_features = torch.cat([e.edge_features for e in list_of_graphs], dim=0)\n",
        "        \n",
        "        # edge_list and node\n",
        "        new_edge_lists = []\n",
        "        new_node_ids = []\n",
        "        num_nodes_seen_so_far = 0\n",
        "        num_graphs_so_far = 0\n",
        "        for graph in list_of_graphs:\n",
        "            new_edge_lists.append(graph.edge_list + num_nodes_seen_so_far)\n",
        "            # ^ shift up the edges to reflect the nodes new indices\n",
        "            \n",
        "            new_node_ids.append(graph.node_to_graph_id + num_graphs_so_far)\n",
        "            # ^shift up the node to graph id to reflect the number of graphs before\n",
        "            \n",
        "            num_nodes_seen_so_far += graph.node_features.shape[0]\n",
        "            num_graphs_so_far +=  torch.unique(graph.node_to_graph_id).shape[0]\n",
        "        \n",
        "        new_edge_lists = torch.cat(new_edge_lists, dim=0)\n",
        "        new_new_node_ids = torch.cat(new_node_ids, dim=0)\n",
        "        \n",
        "        new_concatenated_graph = cls(node_features=new_node_features,\n",
        "                                     edge_list=new_edge_lists,\n",
        "                                     edge_features=new_edge_features,\n",
        "                                     node_to_graph_id=new_new_node_ids)\n",
        "        return new_concatenated_graph\n",
        "    \n",
        "    \n",
        "# We're now going to create an instance of this class and test the concatenate function\n",
        "# (you could also write a reverse function if you wanted to be sure your code worked correctly)\n",
        "# acetone_g = Graphs.from_smiles_string('CC(=O)C')\n",
        "# ethane_g = Graphs.from_smiles_string('CC')        \n",
        "    \n",
        "# graph_of_both = Graphs.concatenate([acetone_g, ethane_g])\n",
        "# print(f\"graph_of_both.node_features:\\n{graph_of_both.node_features}\\n\\n\")\n",
        "# print(f\"graph_of_both.edge_list:\\n{graph_of_both.edge_list}\\n\\n\")\n",
        "# print(f\"graph_of_both.edge_features:\\n{graph_of_both.edge_features}\\n\\n\")\n",
        "# print(f\"graph_of_both.node_to_graph_id:\\n{graph_of_both.node_to_graph_id}\\n\\n\")"
      ],
      "metadata": {
        "id": "6W5vWV9nmdEB"
      },
      "execution_count": 56,
      "outputs": []
    },
    {
      "cell_type": "code",
      "source": [
        "class GNN(nn.Module):\n",
        "    def __init__(self, node_feature_dimension, num_propagation_steps:int =4):\n",
        "        super().__init__()\n",
        "        \n",
        "        self.num_propagation_steps = num_propagation_steps\n",
        "        # called T above.\n",
        "        \n",
        "        # Our sub modules:\n",
        "        self.message_projection = nn.Linear(node_feature_dimension, node_feature_dimension, bias=False)\n",
        "        self.update_gru = nn.GRUCell(input_size=node_feature_dimension,\n",
        "                                     hidden_size=node_feature_dimension, bias=True)\n",
        "        self.attn_net = nn.Linear(node_feature_dimension, 1)\n",
        "        self.proj_net = nn.Linear(node_feature_dimension, node_feature_dimension)\n",
        "        self.final_lin = nn.Linear(node_feature_dimension, 1)\n",
        "        \n",
        "    def forward(self, graphs_in: Graphs):\n",
        "        \"\"\"\n",
        "        Produces a column vector of predictions, with each element in this vector a prediction\n",
        "        for each marked graph in `graphs_in`.\n",
        "        \n",
        "        In the comments below N is the number of nodes in graph_in (across all graphs), \n",
        "        d the feature dimension, and G is the number of individual molecular graphs.        \n",
        "        \"\"\"\n",
        "        # 1. Message passing and updating\n",
        "        m = graphs_in.node_features  # shape: [N, d]\n",
        "        \n",
        "        for t in range(self.num_propagation_steps):\n",
        "            projs = self.message_projection(m)  # [N, d]\n",
        "            \n",
        "            # Update the node embeddings (eqn 1 above)\n",
        "            # 1a. compute the sum for each node\n",
        "            msgs = torch.zeros_like(m)  # [N, d]\n",
        "            msgs.index_add_(0, graphs_in.edge_list[:, 0], projs.index_select(0, graphs_in.edge_list[:, 1]))\n",
        "            \n",
        "            # 1b. update the embeddings via GRU cell\n",
        "            m = self.update_gru(msgs, m)  # [N, d]\n",
        "            \n",
        "            \n",
        "        # 2. Aggregation (eqn 2 above)\n",
        "        # a compute weighted embeddings\n",
        "        attn_coeffs = torch.sigmoid(self.attn_net(m))  # [N, 1]\n",
        "        proj_embeddings = self.proj_net(m)  # [N, d']\n",
        "        weighted_embeddings = attn_coeffs * proj_embeddings\n",
        "        \n",
        "        # perform the sum\n",
        "        graph_embedding = torch.zeros(graphs_in.num_graphs, weighted_embeddings.shape[1],\n",
        "                                 device=m.device, dtype=m.dtype)  \n",
        "        graph_embedding.index_add_(0, graphs_in.node_to_graph_id, weighted_embeddings)  # [G, d']\n",
        "        \n",
        "        # 3. Final linear projection.\n",
        "        final_prediction = self.final_lin(graph_embedding)  # [G, 1]\n",
        "        return final_prediction\n",
        "    \n",
        "    \n",
        "gnn = GNN(len(Graphs.ATOM_FEATURIZER.indx2atm))"
      ],
      "metadata": {
        "id": "KUcBh0G4meyQ"
      },
      "execution_count": 57,
      "outputs": []
    },
    {
      "cell_type": "code",
      "source": [
        "def collate_for_graphs(batch):\n",
        "    \"\"\"\n",
        "    This is a custom collate function for use minibatches of graphs along with their value.\n",
        "    It ensures that we concatenate graphs correctly.\n",
        "    \"\"\"\n",
        "    # Split up the graphs and the y values\n",
        "    list_of_graphs, list_of_targets = zip(*batch)\n",
        "    list_of_graphs = list(list_of_graphs)\n",
        "    list_of_targets = list(list_of_targets)\n",
        "    \n",
        "    # The graphs need to be concatenated (i.e. collated) using the function you wrote\n",
        "    graphs = Graphs.concatenate(list_of_graphs)\n",
        "    \n",
        "    # The y values can use the default collate function as before.\n",
        "    targets = data.dataloader.default_collate(list_of_targets)\n",
        "    \n",
        "    return graphs, targets"
      ],
      "metadata": {
        "id": "x5lmvvFfmmqU"
      },
      "execution_count": 58,
      "outputs": []
    },
    {
      "cell_type": "code",
      "source": [
        "# Then we train and evaluate\n",
        "out = ss_utils.train_neural_network(train_set, valid_set, \"Drug\", \"Y\",\n",
        "                                    transform=Graphs.from_smiles_string, neural_network=gnn,\n",
        "                                   collate_func=collate_for_graphs)\n",
        "\n",
        "# And then we print out as a table some of the results.\n",
        "display(HTML(tabulate.tabulate(out['out_table'], tablefmt=\"html\"))) "
      ],
      "metadata": {
        "colab": {
          "base_uri": "https://localhost:8080/",
          "height": 1000,
          "referenced_widgets": [
            "b0fca3325a3049dfaa81886111271db0",
            "a65974c0ec2c42fa96e149a9f9b9f540",
            "754c025b9b7d4b3d9e12517231cdab87",
            "871051b917104fa0a1cc9b4f197dbde3",
            "53dc72dfe8414e12a0bba2549eac689a",
            "5e3752cb279841abaa32538c6b55de64",
            "338eb05eef704372b39f2c4ab688df97",
            "8c401040d3bb44f5ab755509c8e92300",
            "8b7d3df9ccb04e77b8025eeaaa11625f",
            "08d6dc3483ab4651a7f272332a46af62",
            "55ef8f44aea449b4ac1f94ebd2d859ff",
            "8097a7e16c3b4a07b1bc88cc1033c12b",
            "8a57b4c9caf944e8b31176b2b8d60bad",
            "a152daf85baa4b0e80788e513ae3e498",
            "ad364daf30484011adb454f800d8158e",
            "94e719a2a9484ccd8d75f0aff9581f9d",
            "4dccbf97e334473dbd09a16c4f3d9284",
            "66728a197acc4c5eb25cbb1f36e299e5",
            "f2143d530ee24fabb939b7bfcf5fe424",
            "43b26f2981f64bbf884c517ccb5b1751",
            "5b4856695c654a1d91bedd5df041345c",
            "0fa4afef29824dc188af9dddbdff403b",
            "00a6615f373148b3bcc78bc1d388f30f",
            "4aa9e576272c4742a7eb099cd0dcf036",
            "59b8a1a2508f4642bc70811072fe2e20",
            "88240e24872742bc8e3dd3425420ed89",
            "05bc247763cf477aa30227616fec5b90",
            "6a19276e8b44439a89093e4d93f28c22",
            "cefb85078b734a7b8c2a39253ea506a9",
            "1a9e6d7e9d9c4e74a88564b3edff9138",
            "b36812d046744ce085cc2e4e15c688a6",
            "60427afc03b947b58c08efef25129ea1",
            "20bd5c210e22403599426509aebcae34",
            "51614f45e5f549cc97c97d88d8871aa7",
            "8c28fcca974e49389e5c0856aa057336",
            "4aaa9c92d0304f72810c3b9ac4588326",
            "d9df4424e1b94c8188a34d1fb0f3466f",
            "c0aa4be53a0143bc900b5979cddb729d",
            "35d7b5f4b0e8448f9cf8fc35e10950cc",
            "52eb34dd7a9c4f80b0f1c953a901edb3",
            "9e4e8243a07549c18594fd80188940d6",
            "b3f156aa386e49ab81d7bf37728f3d2e",
            "5c2124383b0a4003ac29fd18e61d35e7",
            "a98e733fbb384ccc80d481c44a66ae7c",
            "18f31f037faa449eabfb581fc9b366dd",
            "8cac3b331be349debe4b8b90e775b377",
            "be76fa2b83314d45b011ad9d331aff94",
            "4556ded29d8a4357b88e7738fdfd441c",
            "31d3fc8a1eca4a83a50ccdf45d3ef82c",
            "d504b8922e9041ac9a99bab7d8e440c6",
            "92199d1825714aec837329aa4e8aefd8",
            "6b4ce7944d654ed6a5dbbbcb03ae0c9d",
            "0087e5effc7942cc811ee923104599e3",
            "0c011c7e374a497c912df1f6c256eb1c",
            "5e253de870a54efebbca34cea6e2236a",
            "943d71591ea1467ab89dd7c86f3269f0",
            "ab910a65f5d84120aa58440c26e98aa5",
            "c5a3442e836742928195e9feae2f30b0",
            "325cde494ffe4d1cb8fabe133f0b3ab1",
            "c41c7f80152443398d0d5dc7300367ad",
            "22f4c6ffb8e64f2f8875d5c7d74262b3",
            "d3b91e184f4848c4a80d9c76ae47e5d9",
            "a220210c7f1449c2bba0ca43e9e97c94",
            "8183256591404667a077f81364ba65f3",
            "760c8ff4f59740cd8bb896b3f5bf12c1",
            "4f2c60ec14694adaa24331d61d5c899a",
            "320a869b06624a718c6f3b24fad23d21",
            "b471d97ca5bf459d9e66f8ee965c7b97",
            "b340096ad8094c3fa020e2b72374b0b4",
            "d8f94b293a8f403198dc795bf6ab14de",
            "3009c093c9184429bc2f2210d7814aec",
            "4eaffe911cf546179ff6de28a93c915a",
            "fb7e1cf8f1b34106957ef8625a1d725c",
            "60370b4b11dd4b989a246ced3c44907e",
            "f4d1749e5c03437cb31221d2e03d57cb",
            "0eacbb2c0565407897dea37f7a4c0ca0",
            "c6dedb38a5eb4c318ba8b4f1b5fcda4e",
            "76d1e5f23326499083621f0d4a6d3ac9",
            "314bfff761b24e0e9d6ceeba936263fa",
            "fb568aa21855411aa5669129a593f1b4",
            "39d2571017ef4715b53ed1852cd7730d",
            "ca1c48fc52294cd8b4a288bb6a7045b8",
            "0b9b7c7ab0414a2da9f98ac1728772ca",
            "350595480fff4343b4cb53287b7c9be0",
            "ca2444c7ed07478db3fc8baeb34e99a1",
            "a9fd85b339694f28bc4cb0056c9fbbbf",
            "29f3cd90a65b4897b57ba2e9a662f602",
            "73987a5dcc0f416693b7f8cd908689d7",
            "7b7f2eacbc74424d93938ac2e1812537",
            "9434af86317e4a4ab758ac66bf5b2e19",
            "f8942b7fdfc24720afa195e9ae033de4",
            "f116486fe6f042f4ba4060f3dc674afd",
            "f4cfacd87bd643e9ad571fc1bfd4451b",
            "c65571a37bef4e8488ba8c8619a7b2e2",
            "fa1f0b52642b4381ba41d324bd76dfd7",
            "413c0e821bb54a7bb2fbb20285f95beb",
            "7f0a3f77a4cc4046b8b2c4251e261a38",
            "3489a006cb7240d1a5023b1e50226ebf",
            "368386734d4c4868b7dd3ba63894b5fc",
            "20cdffb2b8da4650ae2854f45949d331",
            "14ec34fcf98d47448aaad052dad89bea",
            "0e9cd443adef4e459a4ad6ff57497ae8",
            "94ec2976231f406393ab5af49195df78",
            "9cd968e649c54592a670fb9741af8a6e",
            "129ef6834fb7402287cb65777cfb6035",
            "a66517bdb07e4a938aa62bef0b0b205c",
            "0cc5314287744df596cdca3b8b1595c0",
            "8983eb856f1d4c2b99fc1d2fe02413be",
            "3d18341b85594a949765776d17069485",
            "54914572a6df488fa25497e467fae310"
          ]
        },
        "id": "pyg-rC8bmoIs",
        "outputId": "5c08a453-4170-4276-a84d-a5eee9bda252"
      },
      "execution_count": 60,
      "outputs": [
        {
          "output_type": "stream",
          "name": "stdout",
          "text": [
            "Train dataset is of size 448 and valid of size 64\n",
            "Epoch - 0\n",
            "Training Results - Epoch: 0  Avg loss: 0.96\n",
            "Validation Results - Epoch: 0 Avg loss: 0.96\n"
          ]
        },
        {
          "output_type": "display_data",
          "data": {
            "text/plain": [
              "[1/7]  14%|#4         [00:00<?]"
            ],
            "application/vnd.jupyter.widget-view+json": {
              "version_major": 2,
              "version_minor": 0,
              "model_id": "b0fca3325a3049dfaa81886111271db0"
            }
          },
          "metadata": {}
        },
        {
          "output_type": "stream",
          "name": "stdout",
          "text": [
            "Epoch - 1\n",
            "Training Results - Epoch: 1  Avg loss: 0.35\n",
            "Validation Results - Epoch: 1 Avg loss: 0.34\n"
          ]
        },
        {
          "output_type": "display_data",
          "data": {
            "text/plain": [
              "[1/7]  14%|#4         [00:00<?]"
            ],
            "application/vnd.jupyter.widget-view+json": {
              "version_major": 2,
              "version_minor": 0,
              "model_id": "8097a7e16c3b4a07b1bc88cc1033c12b"
            }
          },
          "metadata": {}
        },
        {
          "output_type": "stream",
          "name": "stdout",
          "text": [
            "Epoch - 2\n",
            "Training Results - Epoch: 2  Avg loss: 0.30\n",
            "Validation Results - Epoch: 2 Avg loss: 0.22\n"
          ]
        },
        {
          "output_type": "display_data",
          "data": {
            "text/plain": [
              "[1/7]  14%|#4         [00:00<?]"
            ],
            "application/vnd.jupyter.widget-view+json": {
              "version_major": 2,
              "version_minor": 0,
              "model_id": "00a6615f373148b3bcc78bc1d388f30f"
            }
          },
          "metadata": {}
        },
        {
          "output_type": "stream",
          "name": "stdout",
          "text": [
            "Epoch - 3\n",
            "Training Results - Epoch: 3  Avg loss: 0.28\n",
            "Validation Results - Epoch: 3 Avg loss: 0.25\n"
          ]
        },
        {
          "output_type": "display_data",
          "data": {
            "text/plain": [
              "[1/7]  14%|#4         [00:00<?]"
            ],
            "application/vnd.jupyter.widget-view+json": {
              "version_major": 2,
              "version_minor": 0,
              "model_id": "51614f45e5f549cc97c97d88d8871aa7"
            }
          },
          "metadata": {}
        },
        {
          "output_type": "stream",
          "name": "stdout",
          "text": [
            "Epoch - 4\n",
            "Training Results - Epoch: 4  Avg loss: 0.28\n",
            "Validation Results - Epoch: 4 Avg loss: 0.21\n"
          ]
        },
        {
          "output_type": "display_data",
          "data": {
            "text/plain": [
              "[1/7]  14%|#4         [00:00<?]"
            ],
            "application/vnd.jupyter.widget-view+json": {
              "version_major": 2,
              "version_minor": 0,
              "model_id": "18f31f037faa449eabfb581fc9b366dd"
            }
          },
          "metadata": {}
        },
        {
          "output_type": "stream",
          "name": "stdout",
          "text": [
            "Epoch - 5\n",
            "Training Results - Epoch: 5  Avg loss: 0.28\n",
            "Validation Results - Epoch: 5 Avg loss: 0.26\n"
          ]
        },
        {
          "output_type": "display_data",
          "data": {
            "text/plain": [
              "[1/7]  14%|#4         [00:00<?]"
            ],
            "application/vnd.jupyter.widget-view+json": {
              "version_major": 2,
              "version_minor": 0,
              "model_id": "943d71591ea1467ab89dd7c86f3269f0"
            }
          },
          "metadata": {}
        },
        {
          "output_type": "stream",
          "name": "stdout",
          "text": [
            "Epoch - 6\n",
            "Training Results - Epoch: 6  Avg loss: 0.28\n",
            "Validation Results - Epoch: 6 Avg loss: 0.21\n"
          ]
        },
        {
          "output_type": "display_data",
          "data": {
            "text/plain": [
              "[1/7]  14%|#4         [00:00<?]"
            ],
            "application/vnd.jupyter.widget-view+json": {
              "version_major": 2,
              "version_minor": 0,
              "model_id": "320a869b06624a718c6f3b24fad23d21"
            }
          },
          "metadata": {}
        },
        {
          "output_type": "stream",
          "name": "stdout",
          "text": [
            "Epoch - 7\n",
            "Training Results - Epoch: 7  Avg loss: 0.27\n",
            "Validation Results - Epoch: 7 Avg loss: 0.24\n"
          ]
        },
        {
          "output_type": "display_data",
          "data": {
            "text/plain": [
              "[1/7]  14%|#4         [00:00<?]"
            ],
            "application/vnd.jupyter.widget-view+json": {
              "version_major": 2,
              "version_minor": 0,
              "model_id": "76d1e5f23326499083621f0d4a6d3ac9"
            }
          },
          "metadata": {}
        },
        {
          "output_type": "stream",
          "name": "stdout",
          "text": [
            "Epoch - 8\n",
            "Training Results - Epoch: 8  Avg loss: 0.26\n",
            "Validation Results - Epoch: 8 Avg loss: 0.21\n"
          ]
        },
        {
          "output_type": "display_data",
          "data": {
            "text/plain": [
              "[1/7]  14%|#4         [00:00<?]"
            ],
            "application/vnd.jupyter.widget-view+json": {
              "version_major": 2,
              "version_minor": 0,
              "model_id": "7b7f2eacbc74424d93938ac2e1812537"
            }
          },
          "metadata": {}
        },
        {
          "output_type": "stream",
          "name": "stdout",
          "text": [
            "Epoch - 9\n",
            "Training Results - Epoch: 9  Avg loss: 0.26\n",
            "Validation Results - Epoch: 9 Avg loss: 0.22\n"
          ]
        },
        {
          "output_type": "display_data",
          "data": {
            "text/plain": [
              "[1/7]  14%|#4         [00:00<?]"
            ],
            "application/vnd.jupyter.widget-view+json": {
              "version_major": 2,
              "version_minor": 0,
              "model_id": "20cdffb2b8da4650ae2854f45949d331"
            }
          },
          "metadata": {}
        },
        {
          "output_type": "stream",
          "name": "stdout",
          "text": [
            "Epoch - 10\n",
            "Training Results - Epoch: 10  Avg loss: 0.26\n",
            "Validation Results - Epoch: 10 Avg loss: 0.20\n"
          ]
        },
        {
          "output_type": "display_data",
          "data": {
            "text/plain": [
              "<IPython.core.display.HTML object>"
            ],
            "text/html": [
              "<table>\n",
              "<tbody>\n",
              "<tr><td>Num params             </td><td style=\"text-align: right;\">42100    </td></tr>\n",
              "<tr><td>Minimum train loss     </td><td style=\"text-align: right;\">    0.256</td></tr>\n",
              "<tr><td>Mean validation time   </td><td style=\"text-align: right;\">    0.248</td></tr>\n",
              "<tr><td>Minimum validation loss</td><td style=\"text-align: right;\">    0.203</td></tr>\n",
              "</tbody>\n",
              "</table>"
            ]
          },
          "metadata": {}
        }
      ]
    },
    {
      "cell_type": "code",
      "source": [
        "ss_utils.plot_train_and_val_using_mpl(out['train_loss_list'], out['val_lost_list'])\n",
        "ss_utils.plot_train_and_val_using_altair(out['train_loss_list'], out['val_lost_list'])"
      ],
      "metadata": {
        "colab": {
          "base_uri": "https://localhost:8080/",
          "height": 635
        },
        "id": "jbNGoP58mqbV",
        "outputId": "6af65938-7cad-493c-d686-721f3fa3b29b"
      },
      "execution_count": 61,
      "outputs": [
        {
          "output_type": "execute_result",
          "data": {
            "text/html": [
              "\n",
              "<div id=\"altair-viz-cfaf27fcad8b44cb89bacefc366b5e2b\"></div>\n",
              "<script type=\"text/javascript\">\n",
              "  var VEGA_DEBUG = (typeof VEGA_DEBUG == \"undefined\") ? {} : VEGA_DEBUG;\n",
              "  (function(spec, embedOpt){\n",
              "    let outputDiv = document.currentScript.previousElementSibling;\n",
              "    if (outputDiv.id !== \"altair-viz-cfaf27fcad8b44cb89bacefc366b5e2b\") {\n",
              "      outputDiv = document.getElementById(\"altair-viz-cfaf27fcad8b44cb89bacefc366b5e2b\");\n",
              "    }\n",
              "    const paths = {\n",
              "      \"vega\": \"https://cdn.jsdelivr.net/npm//vega@5?noext\",\n",
              "      \"vega-lib\": \"https://cdn.jsdelivr.net/npm//vega-lib?noext\",\n",
              "      \"vega-lite\": \"https://cdn.jsdelivr.net/npm//vega-lite@4.17.0?noext\",\n",
              "      \"vega-embed\": \"https://cdn.jsdelivr.net/npm//vega-embed@6?noext\",\n",
              "    };\n",
              "\n",
              "    function maybeLoadScript(lib, version) {\n",
              "      var key = `${lib.replace(\"-\", \"\")}_version`;\n",
              "      return (VEGA_DEBUG[key] == version) ?\n",
              "        Promise.resolve(paths[lib]) :\n",
              "        new Promise(function(resolve, reject) {\n",
              "          var s = document.createElement('script');\n",
              "          document.getElementsByTagName(\"head\")[0].appendChild(s);\n",
              "          s.async = true;\n",
              "          s.onload = () => {\n",
              "            VEGA_DEBUG[key] = version;\n",
              "            return resolve(paths[lib]);\n",
              "          };\n",
              "          s.onerror = () => reject(`Error loading script: ${paths[lib]}`);\n",
              "          s.src = paths[lib];\n",
              "        });\n",
              "    }\n",
              "\n",
              "    function showError(err) {\n",
              "      outputDiv.innerHTML = `<div class=\"error\" style=\"color:red;\">${err}</div>`;\n",
              "      throw err;\n",
              "    }\n",
              "\n",
              "    function displayChart(vegaEmbed) {\n",
              "      vegaEmbed(outputDiv, spec, embedOpt)\n",
              "        .catch(err => showError(`Javascript Error: ${err.message}<br>This usually means there's a typo in your chart specification. See the javascript console for the full traceback.`));\n",
              "    }\n",
              "\n",
              "    if(typeof define === \"function\" && define.amd) {\n",
              "      requirejs.config({paths});\n",
              "      require([\"vega-embed\"], displayChart, err => showError(`Error loading script: ${err.message}`));\n",
              "    } else {\n",
              "      maybeLoadScript(\"vega\", \"5\")\n",
              "        .then(() => maybeLoadScript(\"vega-lite\", \"4.17.0\"))\n",
              "        .then(() => maybeLoadScript(\"vega-embed\", \"6\"))\n",
              "        .catch(showError)\n",
              "        .then(() => displayChart(vegaEmbed));\n",
              "    }\n",
              "  })({\"config\": {\"view\": {\"continuousWidth\": 400, \"continuousHeight\": 300}}, \"layer\": [{\"mark\": {\"type\": \"line\", \"interpolate\": \"basis\"}, \"encoding\": {\"color\": {\"field\": \"category\", \"type\": \"nominal\"}, \"x\": {\"field\": \"epoch\", \"type\": \"quantitative\"}, \"y\": {\"field\": \"loss\", \"type\": \"quantitative\"}}}, {\"mark\": \"point\", \"encoding\": {\"opacity\": {\"value\": 0}, \"x\": {\"field\": \"epoch\", \"type\": \"quantitative\"}}, \"selection\": {\"selector001\": {\"type\": \"single\", \"nearest\": true, \"on\": \"mouseover\", \"fields\": [\"epoch\"], \"empty\": \"none\"}}}, {\"mark\": \"point\", \"encoding\": {\"color\": {\"field\": \"category\", \"type\": \"nominal\"}, \"opacity\": {\"condition\": {\"value\": 1, \"selection\": \"selector001\"}, \"value\": 0}, \"x\": {\"field\": \"epoch\", \"type\": \"quantitative\"}, \"y\": {\"field\": \"loss\", \"type\": \"quantitative\"}}}, {\"mark\": {\"type\": \"rule\", \"color\": \"gray\"}, \"encoding\": {\"x\": {\"field\": \"epoch\", \"type\": \"quantitative\"}}, \"transform\": [{\"filter\": {\"selection\": \"selector001\"}}]}, {\"mark\": {\"type\": \"text\", \"align\": \"left\", \"dx\": 5, \"dy\": -5}, \"encoding\": {\"color\": {\"field\": \"category\", \"type\": \"nominal\"}, \"text\": {\"condition\": {\"field\": \"loss\", \"type\": \"quantitative\", \"selection\": \"selector001\"}, \"value\": \" \"}, \"x\": {\"field\": \"epoch\", \"type\": \"quantitative\"}, \"y\": {\"field\": \"loss\", \"type\": \"quantitative\"}}}], \"data\": {\"name\": \"data-27a781ba22da53aac977b9b295312c72\"}, \"height\": 300, \"width\": 600, \"$schema\": \"https://vega.github.io/schema/vega-lite/v4.17.0.json\", \"datasets\": {\"data-27a781ba22da53aac977b9b295312c72\": [{\"epoch\": 0, \"category\": \"train_loss\", \"loss\": 0.9607082094464984}, {\"epoch\": 1, \"category\": \"train_loss\", \"loss\": 0.3500920363834926}, {\"epoch\": 2, \"category\": \"train_loss\", \"loss\": 0.2962454727717808}, {\"epoch\": 3, \"category\": \"train_loss\", \"loss\": 0.2827004705156599}, {\"epoch\": 4, \"category\": \"train_loss\", \"loss\": 0.27738448551722933}, {\"epoch\": 5, \"category\": \"train_loss\", \"loss\": 0.28361782005855013}, {\"epoch\": 6, \"category\": \"train_loss\", \"loss\": 0.279298152242388}, {\"epoch\": 7, \"category\": \"train_loss\", \"loss\": 0.27127296583993094}, {\"epoch\": 8, \"category\": \"train_loss\", \"loss\": 0.2625711134501866}, {\"epoch\": 9, \"category\": \"train_loss\", \"loss\": 0.25760345799582346}, {\"epoch\": 10, \"category\": \"train_loss\", \"loss\": 0.25614854267665316}, {\"epoch\": 0, \"category\": \"val_loss\", \"loss\": 0.9636920690536499}, {\"epoch\": 1, \"category\": \"val_loss\", \"loss\": 0.3387731611728668}, {\"epoch\": 2, \"category\": \"val_loss\", \"loss\": 0.2159525603055954}, {\"epoch\": 3, \"category\": \"val_loss\", \"loss\": 0.25094854831695557}, {\"epoch\": 4, \"category\": \"val_loss\", \"loss\": 0.21294067800045013}, {\"epoch\": 5, \"category\": \"val_loss\", \"loss\": 0.26185011863708496}, {\"epoch\": 6, \"category\": \"val_loss\", \"loss\": 0.20819327235221863}, {\"epoch\": 7, \"category\": \"val_loss\", \"loss\": 0.24202078580856323}, {\"epoch\": 8, \"category\": \"val_loss\", \"loss\": 0.20747001469135284}, {\"epoch\": 9, \"category\": \"val_loss\", \"loss\": 0.21886536478996277}, {\"epoch\": 10, \"category\": \"val_loss\", \"loss\": 0.2031836211681366}]}}, {\"mode\": \"vega-lite\"});\n",
              "</script>"
            ],
            "text/plain": [
              "alt.LayerChart(...)"
            ]
          },
          "metadata": {},
          "execution_count": 61
        },
        {
          "output_type": "display_data",
          "data": {
            "text/plain": [
              "<Figure size 432x288 with 1 Axes>"
            ],
            "image/png": "[encoded data removed]"
          },
          "metadata": {
            "needs_background": "light"
          }
        }
      ]
    },
    {
      "cell_type": "code",
      "source": [
        "!git clone https://github.com/MolecularAI/pysmilesutils.git\n",
        "% cd pysmilesutils\n",
        "!pip install ."
      ],
      "metadata": {
        "id": "dD3JQVAW6Odb",
        "colab": {
          "base_uri": "https://localhost:8080/"
        },
        "outputId": "e34dd87d-56ca-42b6-cfd3-a2ae70ce9ec4"
      },
      "execution_count": null,
      "outputs": [
        {
          "output_type": "stream",
          "name": "stdout",
          "text": [
            "Cloning into 'pysmilesutils'...\n",
            "remote: Enumerating objects: 88, done.\u001b[K\n",
            "remote: Counting objects: 100% (88/88), done.\u001b[K\n",
            "remote: Compressing objects: 100% (61/61), done.\u001b[K\n",
            "remote: Total 88 (delta 32), reused 76 (delta 24), pack-reused 0\u001b[K\n",
            "Unpacking objects: 100% (88/88), done.\n",
            "/content/pysmilesutils\n",
            "Looking in indexes: https://pypi.org/simple, https://us-python.pkg.dev/colab-wheels/public/simple/\n",
            "Processing /content/pysmilesutils\n",
            "\u001b[33m  DEPRECATION: A future pip version will change local packages to be built in-place without first copying to a temporary directory. We recommend you use --use-feature=in-tree-build to test your packages with this new behavior before it becomes the default.\n",
            "   pip 21.3 will remove support for this functionality. You can find discussion regarding this at https://github.com/pypa/pip/issues/7555.\u001b[0m\n",
            "Building wheels for collected packages: PySMILESutils\n",
            "  Building wheel for PySMILESutils (setup.py) ... \u001b[?25l\u001b[?25hdone\n",
            "  Created wheel for PySMILESutils: filename=PySMILESutils-1.1.0-py3-none-any.whl size=21206 sha256=9abd657c1700af8eaf1acc41f08e5a4f303311aa636d101f7b0130f5c1315ac9\n",
            "  Stored in directory: /tmp/pip-ephem-wheel-cache-ggk28xr1/wheels/69/a5/c6/8edc84a45081dd5922bf23184dfcdc0f69e514de4d01a7ebf8\n",
            "Successfully built PySMILESutils\n",
            "Installing collected packages: PySMILESutils\n",
            "Successfully installed PySMILESutils-1.1.0\n"
          ]
        }
      ]
    },
    {
      "cell_type": "code",
      "source": [
        "import pickle\n",
        "from pysmilesutils.tokenize import *\n",
        "from pysmilesutils.analyze import analyze_smiles_tokens"
      ],
      "metadata": {
        "id": "Xyq8GC22SUP5"
      },
      "execution_count": null,
      "outputs": []
    },
    {
      "cell_type": "code",
      "source": [
        "smiles_list_all = whole_df['Drug'].tolist()\n",
        "len(smiles_list_all)"
      ],
      "metadata": {
        "colab": {
          "base_uri": "https://localhost:8080/"
        },
        "id": "lh8S-mauE1Xt",
        "outputId": "9462d83b-e469-4d65-8f0e-a6b4e83afc49"
      },
      "execution_count": null,
      "outputs": [
        {
          "output_type": "execute_result",
          "data": {
            "text/plain": [
              "640"
            ]
          },
          "metadata": {},
          "execution_count": 26
        }
      ]
    },
    {
      "cell_type": "code",
      "source": [
        "atom_tokenizer = SMILESAtomTokenizer(smiles=smiles_list_all)"
      ],
      "metadata": {
        "id": "N7UxGs9TSZg5"
      },
      "execution_count": null,
      "outputs": []
    },
    {
      "cell_type": "code",
      "source": [
        "atom_tokenizer(smiles_list_all), len(atom_tokenizer(smiles_list_all)[0])   #len(test_1_s) = 115"
      ],
      "metadata": {
        "id": "ky7gtpzVSdhd"
      },
      "execution_count": null,
      "outputs": []
    },
    {
      "cell_type": "code",
      "source": [
        "print(\"Vocabulary dictionary:\", atom_tokenizer.vocabulary)"
      ],
      "metadata": {
        "colab": {
          "base_uri": "https://localhost:8080/"
        },
        "id": "NhcUIYEzSpjT",
        "outputId": "d1d979d8-572c-474f-c2fe-13963edd256d"
      },
      "execution_count": null,
      "outputs": [
        {
          "output_type": "stream",
          "name": "stdout",
          "text": [
            "Vocabulary dictionary: {' ': 0, '^': 1, '&': 2, '?': 3, 'O': 4, 'C': 5, '(': 6, 'S': 7, ')': 8, '[': 9, 'N': 10, '+': 11, ']': 12, 'c': 13, '1': 14, 'n': 15, '2': 16, '@': 17, 'H': 18, '=': 19, '#': 20, '3': 21, 's': 22, '/': 23, '\\\\': 24, '-': 25, '4': 26, '5': 27, '6': 28, '7': 29, '8': 30, '9': 31, 'P': 32, 'Cl': 33, 'o': 34, 'F': 35, 'Br': 36, 'Au': 37, 'I': 38, '.': 39}\n"
          ]
        }
      ]
    },
    {
      "cell_type": "code",
      "source": [
        "max_len_1 = 0\n",
        "for i in smiles_list_all:\n",
        "  if len(i) > max_len_1:\n",
        "    max_len_1 = len(i)\n",
        "print(max_len_1)"
      ],
      "metadata": {
        "colab": {
          "base_uri": "https://localhost:8080/"
        },
        "id": "8EhgxbIGD81y",
        "outputId": "f6d00207-a94a-41d2-c901-3a2a0c7a66a2"
      },
      "execution_count": null,
      "outputs": [
        {
          "output_type": "stream",
          "name": "stdout",
          "text": [
            "193\n"
          ]
        }
      ]
    },
    {
      "cell_type": "code",
      "source": [
        "# Comparing against DeepPurpose\n",
        "drug_encoding_name = 'MPNN' #'Transformer'   'MPNN'\n",
        "train_gnn, val_gnn, test_gnn = utils.data_process(X_drug = X,\n",
        "                                      y = y, \n",
        "                                      drug_encoding = drug_encoding_name,\n",
        "                                      # target_encoding = drug_encoding_name,\n",
        "                                      random_seed = 'TDC')"
      ],
      "metadata": {
        "id": "X7PCIel_K76h",
        "colab": {
          "base_uri": "https://localhost:8080/"
        },
        "outputId": "3d2beed6-a5d9-484c-ce44-621a6867db49"
      },
      "execution_count": 62,
      "outputs": [
        {
          "output_type": "stream",
          "name": "stdout",
          "text": [
            "Drug Property Prediction Mode...\n",
            "in total: 578 drugs\n",
            "encoding drug...\n",
            "unique drugs: 578\n",
            "Done.\n"
          ]
        }
      ]
    },
    {
      "cell_type": "code",
      "source": [
        "train_gnn.head()"
      ],
      "metadata": {
        "colab": {
          "base_uri": "https://localhost:8080/",
          "height": 206
        },
        "id": "JYY88eJmEck2",
        "outputId": "e3411b5d-ab7b-4fa8-b5b4-99319efe2d42"
      },
      "execution_count": 63,
      "outputs": [
        {
          "output_type": "execute_result",
          "data": {
            "text/plain": [
              "                                              SMILES  Label  \\\n",
              "0                                    CC(=O)Nc1ccccc1      1   \n",
              "1                         CC(=O)Nc1nnc(S(N)(=O)=O)s1      1   \n",
              "2  C=C1/C(=C\\C=C2/CCC[C@]3(C)[C@@H]2CC[C@H]3[C@@H...      1   \n",
              "3                    Cc1c(N(C)C)c(=N)n(-c2ccccc2)n1C      1   \n",
              "4  COc1ccc(CCN2CCC(Nc3nc4ccccc4n3Cc3ccc(F)cc3)CC2...      1   \n",
              "\n",
              "                                       drug_encoding  \n",
              "0  [[[tensor(1.), tensor(0.), tensor(0.), tensor(...  \n",
              "1  [[[tensor(1.), tensor(0.), tensor(0.), tensor(...  \n",
              "2  [[[tensor(1.), tensor(0.), tensor(0.), tensor(...  \n",
              "3  [[[tensor(1.), tensor(0.), tensor(0.), tensor(...  \n",
              "4  [[[tensor(1.), tensor(0.), tensor(0.), tensor(...  "
            ],
            "text/html": [
              "\n",
              "  <div id=\"df-a7511f51-09d6-4032-aa27-4924fccfa170\">\n",
              "    <div class=\"colab-df-container\">\n",
              "      <div>\n",
              "<style scoped>\n",
              "    .dataframe tbody tr th:only-of-type {\n",
              "        vertical-align: middle;\n",
              "    }\n",
              "\n",
              "    .dataframe tbody tr th {\n",
              "        vertical-align: top;\n",
              "    }\n",
              "\n",
              "    .dataframe thead th {\n",
              "        text-align: right;\n",
              "    }\n",
              "</style>\n",
              "<table border=\"1\" class=\"dataframe\">\n",
              "  <thead>\n",
              "    <tr style=\"text-align: right;\">\n",
              "      <th></th>\n",
              "      <th>SMILES</th>\n",
              "      <th>Label</th>\n",
              "      <th>drug_encoding</th>\n",
              "    </tr>\n",
              "  </thead>\n",
              "  <tbody>\n",
              "    <tr>\n",
              "      <th>0</th>\n",
              "      <td>CC(=O)Nc1ccccc1</td>\n",
              "      <td>1</td>\n",
              "      <td>[[[tensor(1.), tensor(0.), tensor(0.), tensor(...</td>\n",
              "    </tr>\n",
              "    <tr>\n",
              "      <th>1</th>\n",
              "      <td>CC(=O)Nc1nnc(S(N)(=O)=O)s1</td>\n",
              "      <td>1</td>\n",
              "      <td>[[[tensor(1.), tensor(0.), tensor(0.), tensor(...</td>\n",
              "    </tr>\n",
              "    <tr>\n",
              "      <th>2</th>\n",
              "      <td>C=C1/C(=C\\C=C2/CCC[C@]3(C)[C@@H]2CC[C@H]3[C@@H...</td>\n",
              "      <td>1</td>\n",
              "      <td>[[[tensor(1.), tensor(0.), tensor(0.), tensor(...</td>\n",
              "    </tr>\n",
              "    <tr>\n",
              "      <th>3</th>\n",
              "      <td>Cc1c(N(C)C)c(=N)n(-c2ccccc2)n1C</td>\n",
              "      <td>1</td>\n",
              "      <td>[[[tensor(1.), tensor(0.), tensor(0.), tensor(...</td>\n",
              "    </tr>\n",
              "    <tr>\n",
              "      <th>4</th>\n",
              "      <td>COc1ccc(CCN2CCC(Nc3nc4ccccc4n3Cc3ccc(F)cc3)CC2...</td>\n",
              "      <td>1</td>\n",
              "      <td>[[[tensor(1.), tensor(0.), tensor(0.), tensor(...</td>\n",
              "    </tr>\n",
              "  </tbody>\n",
              "</table>\n",
              "</div>\n",
              "      <button class=\"colab-df-convert\" onclick=\"convertToInteractive('df-a7511f51-09d6-4032-aa27-4924fccfa170')\"\n",
              "              title=\"Convert this dataframe to an interactive table.\"\n",
              "              style=\"display:none;\">\n",
              "        \n",
              "  <svg xmlns=\"http://www.w3.org/2000/svg\" height=\"24px\"viewBox=\"0 0 24 24\"\n",
              "       width=\"24px\">\n",
              "    <path d=\"M0 0h24v24H0V0z\" fill=\"none\"/>\n",
              "    <path d=\"M18.56 5.44l.94 2.06.94-2.06 2.06-.94-2.06-.94-.94-2.06-.94 2.06-2.06.94zm-11 1L8.5 8.5l.94-2.06 2.06-.94-2.06-.94L8.5 2.5l-.94 2.06-2.06.94zm10 10l.94 2.06.94-2.06 2.06-.94-2.06-.94-.94-2.06-.94 2.06-2.06.94z\"/><path d=\"M17.41 7.96l-1.37-1.37c-.4-.4-.92-.59-1.43-.59-.52 0-1.04.2-1.43.59L10.3 9.45l-7.72 7.72c-.78.78-.78 2.05 0 2.83L4 21.41c.39.39.9.59 1.41.59.51 0 1.02-.2 1.41-.59l7.78-7.78 2.81-2.81c.8-.78.8-2.07 0-2.86zM5.41 20L4 18.59l7.72-7.72 1.47 1.35L5.41 20z\"/>\n",
              "  </svg>\n",
              "      </button>\n",
              "      \n",
              "  <style>\n",
              "    .colab-df-container {\n",
              "      display:flex;\n",
              "      flex-wrap:wrap;\n",
              "      gap: 12px;\n",
              "    }\n",
              "\n",
              "    .colab-df-convert {\n",
              "      background-color: #E8F0FE;\n",
              "      border: none;\n",
              "      border-radius: 50%;\n",
              "      cursor: pointer;\n",
              "      display: none;\n",
              "      fill: #1967D2;\n",
              "      height: 32px;\n",
              "      padding: 0 0 0 0;\n",
              "      width: 32px;\n",
              "    }\n",
              "\n",
              "    .colab-df-convert:hover {\n",
              "      background-color: #E2EBFA;\n",
              "      box-shadow: 0px 1px 2px rgba(60, 64, 67, 0.3), 0px 1px 3px 1px rgba(60, 64, 67, 0.15);\n",
              "      fill: #174EA6;\n",
              "    }\n",
              "\n",
              "    [theme=dark] .colab-df-convert {\n",
              "      background-color: #3B4455;\n",
              "      fill: #D2E3FC;\n",
              "    }\n",
              "\n",
              "    [theme=dark] .colab-df-convert:hover {\n",
              "      background-color: #434B5C;\n",
              "      box-shadow: 0px 1px 3px 1px rgba(0, 0, 0, 0.15);\n",
              "      filter: drop-shadow(0px 1px 2px rgba(0, 0, 0, 0.3));\n",
              "      fill: #FFFFFF;\n",
              "    }\n",
              "  </style>\n",
              "\n",
              "      <script>\n",
              "        const buttonEl =\n",
              "          document.querySelector('#df-a7511f51-09d6-4032-aa27-4924fccfa170 button.colab-df-convert');\n",
              "        buttonEl.style.display =\n",
              "          google.colab.kernel.accessAllowed ? 'block' : 'none';\n",
              "\n",
              "        async function convertToInteractive(key) {\n",
              "          const element = document.querySelector('#df-a7511f51-09d6-4032-aa27-4924fccfa170');\n",
              "          const dataTable =\n",
              "            await google.colab.kernel.invokeFunction('convertToInteractive',\n",
              "                                                     [key], {});\n",
              "          if (!dataTable) return;\n",
              "\n",
              "          const docLinkHtml = 'Like what you see? Visit the ' +\n",
              "            '<a target=\"_blank\" href=https://colab.research.google.com/notebooks/data_table.ipynb>data table notebook</a>'\n",
              "            + ' to learn more about interactive tables.';\n",
              "          element.innerHTML = '';\n",
              "          dataTable['output_type'] = 'display_data';\n",
              "          await google.colab.output.renderOutput(dataTable, element);\n",
              "          const docLink = document.createElement('div');\n",
              "          docLink.innerHTML = docLinkHtml;\n",
              "          element.appendChild(docLink);\n",
              "        }\n",
              "      </script>\n",
              "    </div>\n",
              "  </div>\n",
              "  "
            ]
          },
          "metadata": {},
          "execution_count": 63
        }
      ]
    },
    {
      "cell_type": "code",
      "source": [
        "config_gnn = utils.generate_config(drug_encoding = drug_encoding_name, \n",
        "                         train_epoch = 3, \n",
        "                         LR = 0.001, \n",
        "                         batch_size = 128,\n",
        "                         mpnn_hidden_size = 32,\n",
        "                         mpnn_depth = 2\n",
        "                        )"
      ],
      "metadata": {
        "id": "l9QXTHrOEjMP"
      },
      "execution_count": 64,
      "outputs": []
    },
    {
      "cell_type": "code",
      "source": [
        "model_gnn = CompoundPred.model_initialize(**config_gnn)\n",
        "model_gnn"
      ],
      "metadata": {
        "colab": {
          "base_uri": "https://localhost:8080/"
        },
        "id": "jJEc4kq2En4I",
        "outputId": "569cca67-737c-4c21-e030-38ce06d6a903"
      },
      "execution_count": 65,
      "outputs": [
        {
          "output_type": "execute_result",
          "data": {
            "text/plain": [
              "<DeepPurpose.CompoundPred.Property_Prediction at 0x7f17b483c3a0>"
            ]
          },
          "metadata": {},
          "execution_count": 65
        }
      ]
    },
    {
      "cell_type": "code",
      "source": [
        "model_gnn.train(train_gnn, val_gnn, test_gnn)"
      ],
      "metadata": {
        "colab": {
          "base_uri": "https://localhost:8080/",
          "height": 1000
        },
        "id": "nzLk7opME00f",
        "outputId": "0e93b413-c41a-462d-de3a-746a4d1d882b"
      },
      "execution_count": 66,
      "outputs": [
        {
          "output_type": "stream",
          "name": "stdout",
          "text": [
            "Let's use 1 GPU!\n",
            "--- Data Preparation ---\n",
            "--- Go for Training ---\n",
            "Training at Epoch 1 iteration 0 with loss 0.69111. Total time 0.0 hours\n",
            "Validation at Epoch 1 , AUROC: 0.57422 , AUPRC: 0.92306 , F1: 0.93577\n",
            "Training at Epoch 2 iteration 0 with loss 0.36451. Total time 0.0 hours\n",
            "Validation at Epoch 2 , AUROC: 0.42296 , AUPRC: 0.84029 , F1: 0.93577\n",
            "Training at Epoch 3 iteration 0 with loss 0.43464. Total time 0.0 hours\n",
            "Validation at Epoch 3 , AUROC: 0.44257 , AUPRC: 0.86660 , F1: 0.93577\n",
            "--- Go for Testing ---\n",
            "Testing AUROC: 0.41320132013201316 , AUPRC: 0.851233385686426 , F1: 0.9308755760368664\n",
            "--- Training Finished ---\n"
          ]
        },
        {
          "output_type": "display_data",
          "data": {
            "text/plain": [
              "<Figure size 432x288 with 1 Axes>"
            ],
            "image/png": "[encoded data removed]"
          },
          "metadata": {
            "needs_background": "light"
          }
        },
        {
          "output_type": "display_data",
          "data": {
            "text/plain": [
              "<Figure size 432x288 with 1 Axes>"
            ],
            "image/png": "[encoded data removed]"
          },
          "metadata": {
            "needs_background": "light"
          }
        },
        {
          "output_type": "display_data",
          "data": {
            "text/plain": [
              "<Figure size 432x288 with 1 Axes>"
            ],
            "image/png": "[encoded data removed]"
          },
          "metadata": {
            "needs_background": "light"
          }
        }
      ]
    },
    {
      "cell_type": "code",
      "source": [
        "train.head(2)"
      ],
      "metadata": {
        "colab": {
          "base_uri": "https://localhost:8080/",
          "height": 112
        },
        "id": "FE3M-k8sE5AD",
        "outputId": "b644c5c1-189c-4086-d766-e4b7695c00cc"
      },
      "execution_count": 67,
      "outputs": [
        {
          "output_type": "execute_result",
          "data": {
            "text/plain": [
              "                       SMILES  Label  \\\n",
              "0             CC(=O)Nc1ccccc1      1   \n",
              "1  CC(=O)Nc1nnc(S(N)(=O)=O)s1      1   \n",
              "\n",
              "                                       drug_encoding  \n",
              "0  ([184, 201, 0, 0, 0, 0, 0, 0, 0, 0, 0, 0, 0, 0...  \n",
              "1  ([184, 1000, 22, 763, 1049, 640, 0, 0, 0, 0, 0...  "
            ],
            "text/html": [
              "\n",
              "  <div id=\"df-9cbb1121-d57d-4fc9-a015-8877d8d14208\">\n",
              "    <div class=\"colab-df-container\">\n",
              "      <div>\n",
              "<style scoped>\n",
              "    .dataframe tbody tr th:only-of-type {\n",
              "        vertical-align: middle;\n",
              "    }\n",
              "\n",
              "    .dataframe tbody tr th {\n",
              "        vertical-align: top;\n",
              "    }\n",
              "\n",
              "    .dataframe thead th {\n",
              "        text-align: right;\n",
              "    }\n",
              "</style>\n",
              "<table border=\"1\" class=\"dataframe\">\n",
              "  <thead>\n",
              "    <tr style=\"text-align: right;\">\n",
              "      <th></th>\n",
              "      <th>SMILES</th>\n",
              "      <th>Label</th>\n",
              "      <th>drug_encoding</th>\n",
              "    </tr>\n",
              "  </thead>\n",
              "  <tbody>\n",
              "    <tr>\n",
              "      <th>0</th>\n",
              "      <td>CC(=O)Nc1ccccc1</td>\n",
              "      <td>1</td>\n",
              "      <td>([184, 201, 0, 0, 0, 0, 0, 0, 0, 0, 0, 0, 0, 0...</td>\n",
              "    </tr>\n",
              "    <tr>\n",
              "      <th>1</th>\n",
              "      <td>CC(=O)Nc1nnc(S(N)(=O)=O)s1</td>\n",
              "      <td>1</td>\n",
              "      <td>([184, 1000, 22, 763, 1049, 640, 0, 0, 0, 0, 0...</td>\n",
              "    </tr>\n",
              "  </tbody>\n",
              "</table>\n",
              "</div>\n",
              "      <button class=\"colab-df-convert\" onclick=\"convertToInteractive('df-9cbb1121-d57d-4fc9-a015-8877d8d14208')\"\n",
              "              title=\"Convert this dataframe to an interactive table.\"\n",
              "              style=\"display:none;\">\n",
              "        \n",
              "  <svg xmlns=\"http://www.w3.org/2000/svg\" height=\"24px\"viewBox=\"0 0 24 24\"\n",
              "       width=\"24px\">\n",
              "    <path d=\"M0 0h24v24H0V0z\" fill=\"none\"/>\n",
              "    <path d=\"M18.56 5.44l.94 2.06.94-2.06 2.06-.94-2.06-.94-.94-2.06-.94 2.06-2.06.94zm-11 1L8.5 8.5l.94-2.06 2.06-.94-2.06-.94L8.5 2.5l-.94 2.06-2.06.94zm10 10l.94 2.06.94-2.06 2.06-.94-2.06-.94-.94-2.06-.94 2.06-2.06.94z\"/><path d=\"M17.41 7.96l-1.37-1.37c-.4-.4-.92-.59-1.43-.59-.52 0-1.04.2-1.43.59L10.3 9.45l-7.72 7.72c-.78.78-.78 2.05 0 2.83L4 21.41c.39.39.9.59 1.41.59.51 0 1.02-.2 1.41-.59l7.78-7.78 2.81-2.81c.8-.78.8-2.07 0-2.86zM5.41 20L4 18.59l7.72-7.72 1.47 1.35L5.41 20z\"/>\n",
              "  </svg>\n",
              "      </button>\n",
              "      \n",
              "  <style>\n",
              "    .colab-df-container {\n",
              "      display:flex;\n",
              "      flex-wrap:wrap;\n",
              "      gap: 12px;\n",
              "    }\n",
              "\n",
              "    .colab-df-convert {\n",
              "      background-color: #E8F0FE;\n",
              "      border: none;\n",
              "      border-radius: 50%;\n",
              "      cursor: pointer;\n",
              "      display: none;\n",
              "      fill: #1967D2;\n",
              "      height: 32px;\n",
              "      padding: 0 0 0 0;\n",
              "      width: 32px;\n",
              "    }\n",
              "\n",
              "    .colab-df-convert:hover {\n",
              "      background-color: #E2EBFA;\n",
              "      box-shadow: 0px 1px 2px rgba(60, 64, 67, 0.3), 0px 1px 3px 1px rgba(60, 64, 67, 0.15);\n",
              "      fill: #174EA6;\n",
              "    }\n",
              "\n",
              "    [theme=dark] .colab-df-convert {\n",
              "      background-color: #3B4455;\n",
              "      fill: #D2E3FC;\n",
              "    }\n",
              "\n",
              "    [theme=dark] .colab-df-convert:hover {\n",
              "      background-color: #434B5C;\n",
              "      box-shadow: 0px 1px 3px 1px rgba(0, 0, 0, 0.15);\n",
              "      filter: drop-shadow(0px 1px 2px rgba(0, 0, 0, 0.3));\n",
              "      fill: #FFFFFF;\n",
              "    }\n",
              "  </style>\n",
              "\n",
              "      <script>\n",
              "        const buttonEl =\n",
              "          document.querySelector('#df-9cbb1121-d57d-4fc9-a015-8877d8d14208 button.colab-df-convert');\n",
              "        buttonEl.style.display =\n",
              "          google.colab.kernel.accessAllowed ? 'block' : 'none';\n",
              "\n",
              "        async function convertToInteractive(key) {\n",
              "          const element = document.querySelector('#df-9cbb1121-d57d-4fc9-a015-8877d8d14208');\n",
              "          const dataTable =\n",
              "            await google.colab.kernel.invokeFunction('convertToInteractive',\n",
              "                                                     [key], {});\n",
              "          if (!dataTable) return;\n",
              "\n",
              "          const docLinkHtml = 'Like what you see? Visit the ' +\n",
              "            '<a target=\"_blank\" href=https://colab.research.google.com/notebooks/data_table.ipynb>data table notebook</a>'\n",
              "            + ' to learn more about interactive tables.';\n",
              "          element.innerHTML = '';\n",
              "          dataTable['output_type'] = 'display_data';\n",
              "          await google.colab.output.renderOutput(dataTable, element);\n",
              "          const docLink = document.createElement('div');\n",
              "          docLink.innerHTML = docLinkHtml;\n",
              "          element.appendChild(docLink);\n",
              "        }\n",
              "      </script>\n",
              "    </div>\n",
              "  </div>\n",
              "  "
            ]
          },
          "metadata": {},
          "execution_count": 67
        }
      ]
    },
    {
      "cell_type": "code",
      "source": [
        "# Training a Tree model\n",
        "import xgboost as xgb"
      ],
      "metadata": {
        "id": "gMjWN64OGy4L"
      },
      "execution_count": 69,
      "outputs": []
    },
    {
      "cell_type": "code",
      "source": [
        "# creating a variable for the train and test sets\n",
        "# label = pd.DataFrame(np.random.randint(2, size=4))\n",
        "# xgb_test = xgb.DMatrix(label, label)\n",
        "# xgb_train = xgb.DMatrix(np.array([train['drug_encoding'].tolist()]), np.array([train['Label'].tolist()]))\n",
        "xgb_test = xgb.DMatrix(test.iloc[:, 1:2], test.iloc[:, 1:2])"
      ],
      "metadata": {
        "id": "6tmx0fPoG23w"
      },
      "execution_count": 109,
      "outputs": []
    },
    {
      "cell_type": "code",
      "source": [
        "from sklearn.feature_extraction.text import CountVectorizer\n",
        "cv = CountVectorizer(binary = True)"
      ],
      "metadata": {
        "id": "3BUW9sFwHho2"
      },
      "execution_count": 124,
      "outputs": []
    },
    {
      "cell_type": "code",
      "source": [
        "cv.fit(whole_df['Drug'])"
      ],
      "metadata": {
        "colab": {
          "base_uri": "https://localhost:8080/"
        },
        "id": "DQCenLg0IMJe",
        "outputId": "127b60ee-ae5c-4a0e-a82a-a1c14fd497c1"
      },
      "execution_count": 127,
      "outputs": [
        {
          "output_type": "execute_result",
          "data": {
            "text/plain": [
              "CountVectorizer(binary=True)"
            ]
          },
          "metadata": {},
          "execution_count": 127
        }
      ]
    },
    {
      "cell_type": "code",
      "source": [
        "train_x = cv.transform(train['SMILES'])\n",
        "test_x = cv.transform(test['SMILES'])"
      ],
      "metadata": {
        "id": "-4EPuOFLIOX4"
      },
      "execution_count": 128,
      "outputs": []
    },
    {
      "cell_type": "code",
      "source": [
        "xgb_train = xgb.DMatrix(train_x, train.iloc[:, 1:2])\n",
        "xgb_test = xgb.DMatrix(test_x, test.iloc[:, 1:2])"
      ],
      "metadata": {
        "id": "pBJ6XFWuIga5"
      },
      "execution_count": 129,
      "outputs": []
    },
    {
      "cell_type": "code",
      "source": [
        "param = {'eta': 0.75,\n",
        "         'max_depth': 50,\n",
        "         'objective': 'binary:logitraw'}\n",
        "xgb_model = xgb.train(param, xgb_train, num_boost_round = 30)"
      ],
      "metadata": {
        "id": "z8ldi8tiIhSf"
      },
      "execution_count": 131,
      "outputs": []
    },
    {
      "cell_type": "code",
      "source": [
        "y_pred = xgb_model.predict(xgb_test)\n",
        "y_pred = np.where(np.array(y_pred) > 0.5, 1, 0)"
      ],
      "metadata": {
        "id": "pIm971kZLzga"
      },
      "execution_count": 133,
      "outputs": []
    },
    {
      "cell_type": "code",
      "source": [
        "from sklearn.metrics import mean_squared_error\n",
        "from sklearn.metrics import accuracy_score, roc_auc_score\n"
      ],
      "metadata": {
        "id": "5Y3n_25-L3e7"
      },
      "execution_count": 138,
      "outputs": []
    },
    {
      "cell_type": "code",
      "source": [
        "print(np.sqrt(mean_squared_error(test['Label'], y_pred)))\n",
        "print(accuracy_score(test['Label'], y_pred))\n",
        "print(roc_auc_score(test['Label'], y_pred))"
      ],
      "metadata": {
        "colab": {
          "base_uri": "https://localhost:8080/"
        },
        "id": "ilrOerAnQQbi",
        "outputId": "2fc0433b-84ae-4abe-eb8e-d3fbe66dd752"
      },
      "execution_count": 139,
      "outputs": [
        {
          "output_type": "stream",
          "name": "stdout",
          "text": [
            "0.3474041668898256\n",
            "0.8793103448275862\n",
            "0.7036303630363037\n"
          ]
        }
      ]
    },
    {
      "cell_type": "code",
      "source": [],
      "metadata": {
        "id": "njSomcQzQQ4o"
      },
      "execution_count": null,
      "outputs": []
    }
  ]
}